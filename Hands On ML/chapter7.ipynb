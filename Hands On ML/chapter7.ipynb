{
 "cells": [
  {
   "cell_type": "code",
   "execution_count": null,
   "metadata": {},
   "outputs": [],
   "source": [
    "import numpy as np\n",
    "import matplotlib.pyplot as plt\n",
    "%matplotlib inline\n",
    "from sklearn.ensemble import RandomForestClassifier\n",
    "from sklearn.svm import SVC\n",
    "from sklearn.linear_model import LogisticRegression\n",
    "from sklearn.ensemble import VotingClassifier\n",
    "from sklearn.datasets import make_moons\n",
    "from sklearn.model_selection import train_test_split\n",
    "\n",
    "X, y = make_moons(n_samples=500, noise=0.3, random_state=42)\n",
    "X_train, X_test, y_train, y_test = train_test_split(X, y, test_size=0.2, random_state=42)\n",
    "\n",
    "log_clf = LogisticRegression()\n",
    "forest_clf = RandomForestClassifier(n_estimators=10, random_state=10)\n",
    "svm_clf = SVC()\n",
    "\n",
    "voting_clf = VotingClassifier(\n",
    "    estimators=[('lr', log_clf), ('rf', forest_clf), ('svc', svm_clf)],\n",
    "    voting='hard'\n",
    ")\n",
    "\n",
    "voting_clf.fit(X_train, y_train)"
   ]
  },
  {
   "cell_type": "code",
   "execution_count": null,
   "metadata": {},
   "outputs": [],
   "source": [
    "from sklearn.metrics import accuracy_score\n",
    "for clf in(log_clf, forest_clf, svm_clf, voting_clf):\n",
    "    clf.fit(X_train, y_train)\n",
    "    y_pred = clf.predict(X_test)\n",
    "    print(clf.__class__.__name__, accuracy_score(y_test, y_pred))"
   ]
  },
  {
   "cell_type": "code",
   "execution_count": null,
   "metadata": {},
   "outputs": [],
   "source": [
    "log_clf = LogisticRegression()\n",
    "forest_clf = RandomForestClassifier(n_estimators=10, random_state=10)\n",
    "# by default the SVC class does not make predictions based on probabilities. Setting the probability\n",
    "# hyperparameter to True makes the class use cross validation to calculate probailities for classes.\n",
    "svm_clf = SVC(probability=True)\n",
    "\n",
    "voting_clf = VotingClassifier(\n",
    "    estimators=[('lr', log_clf), ('rf', forest_clf), ('svc', svm_clf)],\n",
    "    # Simply change the voting hyperparameter to 'soft'\n",
    "    voting='soft'\n",
    ")\n",
    "\n",
    "for clf in(log_clf, forest_clf, svm_clf, voting_clf):\n",
    "    clf.fit(X_train, y_train)\n",
    "    y_pred = clf.predict(X_test)\n",
    "    print(clf.__class__.__name__, accuracy_score(y_test, y_pred))"
   ]
  },
  {
   "cell_type": "code",
   "execution_count": null,
   "metadata": {},
   "outputs": [],
   "source": [
    "from sklearn.ensemble import BaggingClassifier\n",
    "from sklearn.tree import DecisionTreeClassifier\n",
    "\n",
    "bag_clf = BaggingClassifier(\n",
    "    # if the base classifier has a predict_probas method, then BaggingClassifier will use soft voting\n",
    "    # DecisionTreeClassifier has a predict_probas method\n",
    "    DecisionTreeClassifier(), \n",
    "    # n_estimators is the number of models to train\n",
    "    n_estimators=500, \n",
    "    # max_samples is the number of instances to sample from the training set\n",
    "    max_samples=100,\n",
    "    # bootstrap=True is for bagging while bootstrap=False is for pasting\n",
    "    bootstrap=True,\n",
    "    # n_jobs=-1 distributes the computation over multiple cores\n",
    "    n_jobs=-1)\n",
    "\n",
    "bag_clf.fit(X_train, y_train)\n",
    "y_pred = bag_clf.predict(X_test)\n",
    "\n",
    "print(\"Bagging classifier\", accuracy_score(y_pred, y_test))"
   ]
  },
  {
   "cell_type": "code",
   "execution_count": null,
   "metadata": {},
   "outputs": [],
   "source": [
    "# create a mesh to cover the data space\n",
    "mesh_x1, mesh_x2 = np.meshgrid(np.arange(X[:, 0].min() - 0.2, X[:, 0].max() + 0.2, 0.01),\n",
    "                              np.arange(X[:, 1].min() - 0.2, X[:, 1].max() + 0.2, 0.01))\n",
    "\n",
    "titles = (\n",
    "    \"Single Decision Tree\",\n",
    "    \"Bagging ensemble of 500 trees\"\n",
    ")\n",
    "tree_clf = DecisionTreeClassifier()\n",
    "models = (clf.fit(X_train, y_train) for clf in (tree_clf, bag_clf))"
   ]
  },
  {
   "cell_type": "code",
   "execution_count": null,
   "metadata": {},
   "outputs": [],
   "source": [
    "fig, sub = plt.subplots(1, 2, figsize=(12, 4))\n",
    "plt.subplots_adjust(wspace=0.1, hspace=0.1)\n",
    "\n",
    "for clf, title, ax in zip(models, titles, sub.flatten()):\n",
    "    mesh_predict = clf.predict(np.c_[mesh_x1.ravel(), mesh_x2.ravel()]).reshape(mesh_x1.shape)\n",
    "    ax.contourf(mesh_x1, mesh_x2, mesh_predict, cmap=plt.cm.coolwarm, alpha=0.8)\n",
    "    \n",
    "    ax.scatter(X_train[:, 0], X_train[:, 1], c=y_train, cmap=plt.cm.coolwarm, s=20, edgecolors='k')\n",
    "    ax.set_xlim(mesh_x1.min(), mesh_x1.max())\n",
    "    ax.set_ylim(mesh_x2.min(), mesh_x2.max())\n",
    "    ax.set_xticks(())\n",
    "    ax.set_yticks(())\n",
    "    ax.set_title(title)\n",
    "\n",
    "plt.show()"
   ]
  },
  {
   "cell_type": "code",
   "execution_count": null,
   "metadata": {},
   "outputs": [],
   "source": [
    "from sklearn.ensemble import BaggingClassifier\n",
    "from sklearn.tree import DecisionTreeClassifier\n",
    "import numpy as np\n",
    "import matplotlib.pyplot as plt\n",
    "%matplotlib inline\n",
    "from sklearn.ensemble import RandomForestClassifier\n",
    "from sklearn.svm import SVC\n",
    "from sklearn.linear_model import LogisticRegression\n",
    "from sklearn.ensemble import VotingClassifier\n",
    "from sklearn.datasets import make_moons\n",
    "from sklearn.model_selection import train_test_split\n",
    "\n",
    "X, y = make_moons(n_samples=500, noise=0.3, random_state=42)\n",
    "X_train, X_test, y_train, y_test = train_test_split(X, y, test_size=0.2, random_state=42)\n",
    "bag_clf = BaggingClassifier(\n",
    "    DecisionTreeClassifier(),  n_estimators=500, max_samples=100,bootstrap=True, n_jobs=-1, \n",
    "    oob_score=True)\n",
    "\n",
    "bag_clf.fit(X_train, y_train)\n",
    "print(bag_clf.oob_score_)"
   ]
  },
  {
   "cell_type": "code",
   "execution_count": null,
   "metadata": {},
   "outputs": [],
   "source": [
    "from sklearn.ensemble import RandomForestClassifier\n",
    "\n",
    "# RandonForestClassifier has the same hyperparameters as DecisionTreeClf and BaggingClf\n",
    "rnd_clf = RandomForestClassifier(n_estimators=500, max_leaf_nodes=16, n_jobs=-1)\n",
    "\n",
    "rnd_clf.fit(X_train, y_train)\n",
    "y_pred = rnd_clf.predict(X_train)"
   ]
  },
  {
   "cell_type": "code",
   "execution_count": null,
   "metadata": {},
   "outputs": [],
   "source": [
    "from sklearn.datasets import load_iris\n",
    "\n",
    "iris = load_iris()\n",
    "rnd_clf = RandomForestClassifier(n_estimators=500, n_jobs=-1)\n",
    "\n",
    "rnd_clf.fit(iris[\"data\"], iris[\"target\"])\n",
    "for name, score in zip(iris[\"feature_names\"], rnd_clf.feature_importances_):\n",
    "    print(name, score*100, \"%\")"
   ]
  },
  {
   "cell_type": "code",
   "execution_count": null,
   "metadata": {},
   "outputs": [],
   "source": [
    "from sklearn.ensemble import AdaBoostClassifier\n",
    "\n",
    "ada_clf = AdaBoostClassifier(\n",
    "    # A *Decision Stump* is a decision tree of max_depth=1, ie a single node with two leaf nodes\n",
    "    # A decision stump is the default estimator for AdaBoostClf\n",
    "    DecisionTreeClassifier(max_depth=1), n_estimators=200,\n",
    "    algorithm=\"SAMME.R\", learning_rate=0.5\n",
    ")\n",
    "\n",
    "ada_clf.fit(X_train, y_train)"
   ]
  },
  {
   "cell_type": "code",
   "execution_count": null,
   "metadata": {},
   "outputs": [],
   "source": [
    "from sklearn.tree import DecisionTreeRegressor\n",
    "\n",
    "tree_reg1 = DecisionTreeRegressor(max_depth=2)\n",
    "\n",
    "X = np.linspace(-10, 10, 100)\n",
    "y = 0.5*X**2 + X + 6*np.random.randn(100)\n",
    "\n",
    "tree_reg1.fit(X.reshape(-1, 1), y)\n",
    "\n",
    "y_predict = tree_reg1.predict(X.reshape(-1, 1))\n",
    "\n",
    "plt.scatter(X, y)\n",
    "plt.plot(X, y_predict, \"k\", label=\"Tree predictions\")\n",
    "plt.legend()\n",
    "plt.show()"
   ]
  },
  {
   "cell_type": "code",
   "execution_count": null,
   "metadata": {},
   "outputs": [],
   "source": [
    "# now calculat the residuals\n",
    "y2 = y - tree_reg1.predict(X.reshape(-1, 1))\n",
    "\n",
    "# train a new model on these residuals\n",
    "tree_reg2 = DecisionTreeRegressor(max_depth=2)\n",
    "tree_reg2.fit(X.reshape(-1, 1), y2)\n",
    "\n",
    "y_predict2 = tree_reg2.predict(X.reshape(-1, 1))\n",
    "\n",
    "plt.scatter(X, y2, label=\"model 1 residuals\")\n",
    "plt.plot(X, y_predict2, \"k\", label=\"model 2 predictions\")\n",
    "plt.legend()\n",
    "plt.show()"
   ]
  },
  {
   "cell_type": "code",
   "execution_count": null,
   "metadata": {},
   "outputs": [],
   "source": [
    "# repeat\n",
    "y3 = y2 - tree_reg2.predict(X.reshape(-1, 1))\n",
    "\n",
    "# train a new model on these residuals\n",
    "tree_reg3 = DecisionTreeRegressor(max_depth=2)\n",
    "tree_reg3.fit(X.reshape(-1, 1), y3)\n",
    "\n",
    "y_predict3 = tree_reg3.predict(X.reshape(-1, 1))\n",
    "\n",
    "plt.scatter(X, y3, label=\"model 2 residuals\")\n",
    "plt.plot(X, y_predict3, \"k\", label=\"model 3 predictions\")\n",
    "plt.legend()\n",
    "plt.show()"
   ]
  },
  {
   "cell_type": "code",
   "execution_count": null,
   "metadata": {},
   "outputs": [],
   "source": [
    "# now sum the three different models\n",
    "\n",
    "y_pred = sum(tree.predict(X.reshape(-1, 1)) for tree in (tree_reg1, tree_reg2, tree_reg3))\n",
    "plt.scatter(X, y, label=\"data\")\n",
    "plt.plot(X, y_predict, \"r\", label=\"singular Tree predictions\")\n",
    "plt.plot(X, y_pred, \"k\", label=\"Ensemble predictions\")\n",
    "plt.legend()\n",
    "plt.show()"
   ]
  },
  {
   "cell_type": "code",
   "execution_count": null,
   "metadata": {},
   "outputs": [],
   "source": [
    "from sklearn.model_selection import train_test_split\n",
    "from sklearn.metrics import mean_squared_error\n",
    "from sklearn.ensemble import GradientBoostingRegressor\n",
    "\n",
    "X_train, X_val, y_train, y_val = train_test_split(X.reshape(-1, 1), y, random_state=42)\n",
    "\n",
    "gbrt = GradientBoostingRegressor(max_depth=2, n_estimators=120)\n",
    "gbrt.fit(X_train, y_train)\n",
    "\n",
    "errors = [mean_squared_error(y_val, y_pred) for y_pred in gbrt.staged_predict(X_val)]\n",
    "best_n = np.argmin(errors)\n",
    "\n",
    "n_list = list(range(1, 121))\n",
    "plt.plot(n_list, errors, label=\"Mean squared error\")\n",
    "plt.scatter(best_n, errors[best_n+1], label=\"Optimal n\")\n",
    "plt.legend()\n",
    "plt.show()"
   ]
  },
  {
   "cell_type": "code",
   "execution_count": null,
   "metadata": {},
   "outputs": [],
   "source": [
    "gbrt_best = GradientBoostingRegressor(max_depth=2, n_estimators=best_n)\n",
    "gbrt_best.fit(X.reshape(-1, 1), y)\n",
    "\n",
    "plt.scatter(X, y, label=\"Data\")\n",
    "plt.plot(X, gbrt_best.predict(X.reshape(-1, 1)), \"k\", label=\"Optimised predictions\")\n",
    "plt.legend()\n",
    "plt.show()"
   ]
  },
  {
   "cell_type": "code",
   "execution_count": null,
   "metadata": {},
   "outputs": [],
   "source": []
  }
 ],
 "metadata": {
  "kernelspec": {
   "display_name": "base",
   "language": "python",
   "name": "python3"
  },
  "language_info": {
   "codemirror_mode": {
    "name": "ipython",
    "version": 3
   },
   "file_extension": ".py",
   "mimetype": "text/x-python",
   "name": "python",
   "nbconvert_exporter": "python",
   "pygments_lexer": "ipython3",
   "version": "3.11.7"
  }
 },
 "nbformat": 4,
 "nbformat_minor": 2
}

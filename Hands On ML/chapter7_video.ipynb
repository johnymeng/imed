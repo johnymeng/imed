{
 "cells": [
  {
   "cell_type": "code",
   "execution_count": null,
   "metadata": {},
   "outputs": [],
   "source": [
    "import pandas as pd\n",
    "import os\n",
    "\n",
    "pwd = os.getcwd()\n",
    "filepath = os.path.join(pwd, \"Placement_Data_Full_Class.csv\")\n",
    "\n",
    "data_import = pd.read_csv(filepath)\n",
    "data_import"
   ]
  },
  {
   "cell_type": "code",
   "execution_count": null,
   "metadata": {},
   "outputs": [],
   "source": [
    "data_import.describe()"
   ]
  },
  {
   "cell_type": "code",
   "execution_count": null,
   "metadata": {},
   "outputs": [],
   "source": [
    "dropped_cols = data_import.copy()\n",
    "\n",
    "dropped_cols = dropped_cols.drop([\"sl_no\", \"salary\"], axis=1)\n",
    "dropped_cols"
   ]
  },
  {
   "cell_type": "code",
   "execution_count": null,
   "metadata": {},
   "outputs": [],
   "source": [
    "from sklearn.preprocessing import LabelEncoder\n",
    "\n",
    "le = LabelEncoder()\n",
    "\n",
    "labeled_data = dropped_cols.copy()\n",
    "\n",
    "cols_to_labelled = [\"gender\", \"workex\", \"ssc_b\", \"hsc_b\", \"specialisation\"]\n",
    "\n",
    "labeled_data[cols_to_labelled] = labeled_data[cols_to_labelled].apply(le.fit_transform)\n",
    "\n",
    "labeled_data"
   ]
  },
  {
   "cell_type": "code",
   "execution_count": null,
   "metadata": {},
   "outputs": [],
   "source": [
    "hot_encoded_data = labeled_data.copy()\n",
    "\n",
    "hot_encoded_data_temp = hot_encoded_data[\"status\"]\n",
    "hot_encoded_data = hot_encoded_data.drop(\"status\", axis=1)\n",
    "\n",
    "hot_encoded_data = pd.get_dummies(hot_encoded_data)\n",
    "\n",
    "hot_encoded_data = pd.concat([hot_encoded_data, hot_encoded_data_temp], axis=1)\n",
    "hot_encoded_data"
   ]
  },
  {
   "cell_type": "code",
   "execution_count": null,
   "metadata": {},
   "outputs": [],
   "source": [
    "#scale data\n",
    "from sklearn.preprocessing import StandardScaler\n",
    "\n",
    "scaler = StandardScaler()\n",
    "\n",
    "scaled_data = hot_encoded_data.copy()\n",
    "labels = scaled_data.iloc[:, -1] #omit last col since those are our labels\n",
    "scaled_data = scaled_data.iloc[:, :-1]\n",
    "\n",
    "scaled_data = scaler.fit_transform(scaled_data)\n",
    "scaled_data"
   ]
  },
  {
   "cell_type": "code",
   "execution_count": null,
   "metadata": {},
   "outputs": [],
   "source": [
    "from sklearn.model_selection import train_test_split\n",
    "\n",
    "X = scaled_data\n",
    "y = labels\n",
    "\n",
    "X_train, X_test, y_train, y_test = train_test_split(X, y, test_size=0.2)\n",
    "X_train"
   ]
  },
  {
   "cell_type": "code",
   "execution_count": null,
   "metadata": {},
   "outputs": [],
   "source": [
    "from sklearn.ensemble import VotingClassifier, RandomForestClassifier\n",
    "from sklearn.svm import SVC\n",
    "from sklearn.linear_model import LogisticRegression\n",
    "\n",
    "log_clf = LogisticRegression()\n",
    "svm_clf = SVC()\n",
    "rfc_clf = RandomForestClassifier()\n",
    "vot_clf = VotingClassifier(estimators=[('lr', log_clf), ('sc', svm_clf), ('rf', rfc_clf)],voting=\"hard\")\n",
    "\n",
    "vot_clf.fit(X_train, y_train)\n"
   ]
  },
  {
   "cell_type": "code",
   "execution_count": null,
   "metadata": {},
   "outputs": [],
   "source": [
    "from sklearn.metrics import accuracy_score\n",
    "\n",
    "for clf in (log_clf, rfc_clf, svm_clf, vot_clf):\n",
    "    clf.fit(X_train, y_train)\n",
    "    y_pred = clf.predict(X_test)\n",
    "    print(clf.__class__.__name__, accuracy_score(y_test, y_pred))"
   ]
  },
  {
   "cell_type": "code",
   "execution_count": null,
   "metadata": {},
   "outputs": [],
   "source": []
  },
  {
   "cell_type": "code",
   "execution_count": null,
   "metadata": {},
   "outputs": [],
   "source": []
  }
 ],
 "metadata": {
  "kernelspec": {
   "display_name": "base",
   "language": "python",
   "name": "python3"
  },
  "language_info": {
   "codemirror_mode": {
    "name": "ipython",
    "version": 3
   },
   "file_extension": ".py",
   "mimetype": "text/x-python",
   "name": "python",
   "nbconvert_exporter": "python",
   "pygments_lexer": "ipython3",
   "version": "3.11.7"
  }
 },
 "nbformat": 4,
 "nbformat_minor": 2
}

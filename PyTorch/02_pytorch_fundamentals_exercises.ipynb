{
 "cells": [
  {
   "cell_type": "code",
   "execution_count": null,
   "metadata": {},
   "outputs": [],
   "source": [
    "# Code for creating a spiral dataset from CS231n\n",
    "import numpy as np\n",
    "import matplotlib.pyplot as plt\n",
    "import torch\n",
    "import torch.nn as nn\n",
    "\n",
    "RANDOM_SEED = 42\n",
    "np.random.seed(RANDOM_SEED)\n",
    "N = 1000 # number of points per class\n",
    "D = 2 # dimensionality\n",
    "K = 3 # number of classes\n",
    "X = np.zeros((N*K,D)) # data matrix (each row = single example)\n",
    "y = np.zeros(N*K, dtype='uint8') # class labels\n",
    "for j in range(K):\n",
    "  ix = range(N*j,N*(j+1))\n",
    "  r = np.linspace(0.0,1,N) # radius\n",
    "  t = np.linspace(j*4,(j+1)*4,N) + np.random.randn(N)*0.2 # theta\n",
    "  X[ix] = np.c_[r*np.sin(t), r*np.cos(t)]\n",
    "  y[ix] = j\n",
    "# lets visualize the data\n",
    "plt.scatter(X[:, 0], X[:, 1], c=y, s=40, cmap=plt.cm.RdYlBu)\n",
    "plt.show()"
   ]
  },
  {
   "cell_type": "code",
   "execution_count": null,
   "metadata": {},
   "outputs": [],
   "source": [
    "# Turn data into tensors\n",
    "X = torch.from_numpy(X).type(torch.float) # features as float32\n",
    "y = torch.from_numpy(y).type(torch.LongTensor) # labels need to be of type long\n",
    "\n",
    "# Create train and test splits\n",
    "from sklearn.model_selection import train_test_split\n",
    "X_train, X_test, y_train, y_test = train_test_split(X, y, test_size=0.2, random_state=RANDOM_SEED)\n",
    "len(X_train), len(X_test), len(y_train), len(y_test)\n",
    "     "
   ]
  },
  {
   "cell_type": "code",
   "execution_count": null,
   "metadata": {},
   "outputs": [],
   "source": [
    "# Prepare device agnostic code\n",
    "device = \"cuda\" if torch.cuda.is_available() else \"cpu\"\n",
    "\n",
    "class SpiralModel(nn.Module): \n",
    "  def __init__(self):\n",
    "    super().__init__()\n",
    "    self.linear1 = nn.Linear(in_features=2, out_features=10)\n",
    "    self.linear2 = nn.Linear(in_features=10, out_features=10)\n",
    "    self.linear3 = nn.Linear(in_features=10, out_features=3)\n",
    "    self.relu = nn.ReLU()\n",
    "\n",
    "  def forward(self, x):\n",
    "    return self.linear3(self.relu(self.linear2(self.relu(self.linear1(x)))))\n",
    "\n",
    "model_1 = SpiralModel().to(device)\n",
    "model_1"
   ]
  },
  {
   "cell_type": "code",
   "execution_count": null,
   "metadata": {},
   "outputs": [],
   "source": [
    "# Setup data to be device agnostic\n",
    "X_train, y_train = X_train.to(device), y_train.to(device)\n",
    "X_test, y_test = X_test.to(device), y_test.to(device)\n",
    "print(X_train.dtype, X_test.dtype, y_train.dtype, y_test.dtype)\n",
    "\n",
    "# Print out untrained model outputs\n",
    "print(\"Logits:\")\n",
    "print(model_1(X_train)[:10])\n",
    "\n",
    "print(\"Pred probs:\")\n",
    "print(torch.softmax(model_1(X_train)[:10], dim=1))\n",
    "\n",
    "print(\"Pred labels:\")\n",
    "print(torch.softmax(model_1(X_train)[:10], dim=1).argmax(dim=1))"
   ]
  },
  {
   "cell_type": "code",
   "execution_count": null,
   "metadata": {},
   "outputs": [],
   "source": [
    "# Setup loss function and optimizer\n",
    "loss_fn = nn.CrossEntropyLoss()\n",
    "optimizer = torch.optim.Adam(model_1.parameters(),\n",
    "                             lr=0.02)\n",
    "\n",
    "from torchmetrics import Accuracy\n",
    "acc_fn = Accuracy(task=\"multiclass\", num_classes=3).to(device) # send accuracy function to device\n",
    "acc_fn"
   ]
  },
  {
   "cell_type": "code",
   "execution_count": null,
   "metadata": {},
   "outputs": [],
   "source": [
    "# Build a training loop for the model\n",
    "epochs = 1000\n",
    "\n",
    "# Loop over data\n",
    "for epoch in range(epochs):\n",
    "  ## Training\n",
    "  model_1.train()\n",
    "  # 1. forward pass\n",
    "  y_logits = model_1(X_train)\n",
    "  y_pred = torch.softmax(y_logits, dim=1).argmax(dim=1)\n",
    "\n",
    "  # 2. calculate the loss\n",
    "  loss = loss_fn(y_logits, y_train)\n",
    "  acc = acc_fn(y_pred, y_train)\n",
    "  \n",
    "  # 3. optimizer zero grad\n",
    "  optimizer.zero_grad()\n",
    "\n",
    "  # 4. loss backwards\n",
    "  loss.backward()\n",
    "\n",
    "  # 5. optimizer step step step\n",
    "  optimizer.step()\n",
    "\n",
    "  ## Testing\n",
    "  model_1.eval()\n",
    "  with torch.inference_mode():\n",
    "    # 1. Forward pass\n",
    "    test_logits = model_1(X_test)\n",
    "    test_pred = torch.softmax(test_logits, dim=1).argmax(dim=1)\n",
    "    # 2. Caculate loss and acc\n",
    "    test_loss = loss_fn(test_logits, y_test)\n",
    "    test_acc = acc_fn(test_pred, y_test)\n",
    "\n",
    "  # Print out what's happening\n",
    "  if epoch % 100 == 0:\n",
    "    print(f\"Epoch: {epoch} | Loss: {loss:.2f} Acc: {acc:.2f} | Test loss: {test_loss:.2f} Test acc: {test_acc:.2f}\")"
   ]
  },
  {
   "cell_type": "code",
   "execution_count": null,
   "metadata": {},
   "outputs": [],
   "source": [
    "from helper_functions import plot_decision_boundary\n",
    "# Plot decision boundaries for training and test sets\n",
    "plt.figure(figsize=(12, 6))\n",
    "plt.subplot(1, 2, 1)\n",
    "plt.title(\"Train\")\n",
    "plot_decision_boundary(model_1, X_train, y_train)\n",
    "plt.subplot(1, 2, 2)\n",
    "plt.title(\"Test\")\n",
    "plot_decision_boundary(model_1, X_test, y_test)"
   ]
  }
 ],
 "metadata": {
  "kernelspec": {
   "display_name": "base",
   "language": "python",
   "name": "python3"
  },
  "language_info": {
   "codemirror_mode": {
    "name": "ipython",
    "version": 3
   },
   "file_extension": ".py",
   "mimetype": "text/x-python",
   "name": "python",
   "nbconvert_exporter": "python",
   "pygments_lexer": "ipython3",
   "version": "3.11.7"
  }
 },
 "nbformat": 4,
 "nbformat_minor": 2
}

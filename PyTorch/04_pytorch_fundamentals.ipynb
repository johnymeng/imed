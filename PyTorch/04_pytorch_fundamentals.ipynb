{
 "cells": [
  {
   "cell_type": "markdown",
   "metadata": {},
   "source": [
    "# 04. PyTorch Custom Datasets \n",
    "\n",
    "we've used some datasets with PyTorch before, but how do we get our own data into PyTorch\n",
    "\n",
    "one way to do this we can use custom datasets.\n",
    "\n",
    "## Domain Libraries\n",
    "\n",
    "depending on what we're doing (ie. vision, text, audio) we can look into PyTorch domain libraries for existing data loading functions and customizable dataloading functions"
   ]
  },
  {
   "cell_type": "code",
   "execution_count": 2,
   "metadata": {},
   "outputs": [
    {
     "data": {
      "text/plain": [
       "'cuda'"
      ]
     },
     "execution_count": 2,
     "metadata": {},
     "output_type": "execute_result"
    }
   ],
   "source": [
    "#set up device agnostic code\n",
    "import torch \n",
    "from torch import nn\n",
    "\n",
    "device = \"cuda\" if torch.cuda.is_available() else \"cpu\"\n",
    "device"
   ]
  },
  {
   "cell_type": "markdown",
   "metadata": {},
   "source": [
    "### 1. Get Data"
   ]
  },
  {
   "cell_type": "code",
   "execution_count": 3,
   "metadata": {},
   "outputs": [
    {
     "name": "stdout",
     "output_type": "stream",
     "text": [
      "data\\pizza_steak_sushi directory is being created\n",
      "downloding dataset\n",
      "Unzipping pizza, steak and sushi data\n"
     ]
    }
   ],
   "source": [
    "import requests\n",
    "import zipfile\n",
    "from pathlib import Path\n",
    "\n",
    "#set path to datafolder\n",
    "data_path = Path(\"data/\")\n",
    "image_path = data_path / \"pizza_steak_sushi\"\n",
    "\n",
    "#check if directory exists already\n",
    "if image_path.is_dir():\n",
    "    print(f\"{image_path} directory already exists\")\n",
    "else:\n",
    "    print(f\"{image_path} directory is being created\")\n",
    "    image_path.mkdir(parents=True, exist_ok=True)\n",
    "\n",
    "#download dataset\n",
    "with open(data_path / \"pizza_steak_sushi.zip\", \"wb\") as f:\n",
    "    request = requests.get(\"https://github.com/mrdbourke/pytorch-deep-learning/raw/main/data/pizza_steak_sushi.zip\")   \n",
    "    print(\"downloding dataset\")\n",
    "    f.write(request.content)\n",
    "\n",
    "#extract data from zip file\n",
    "with zipfile.ZipFile(data_path / \"pizza_steak_sushi.zip\", \"r\") as zip_ref:\n",
    "    print(\"Unzipping pizza, steak and sushi data\")\n",
    "    zip_ref.extractall(image_path)"
   ]
  },
  {
   "cell_type": "markdown",
   "metadata": {},
   "source": [
    "## 2. Becoming One With the Data (Data Preparation and Exploration)"
   ]
  },
  {
   "cell_type": "code",
   "execution_count": 6,
   "metadata": {},
   "outputs": [],
   "source": [
    "import os\n",
    "def walk_through_dir(dir_path):\n",
    "    for dir_path, dirnames, filenames in os.walk(dir_path):\n",
    "        print(f\"There are {len(dirnames)} directories and {len(filenames)} images in '{dir_path}\")"
   ]
  },
  {
   "cell_type": "code",
   "execution_count": 7,
   "metadata": {},
   "outputs": [
    {
     "name": "stdout",
     "output_type": "stream",
     "text": [
      "There are 2 directories and 0 images in 'data\\pizza_steak_sushi\n",
      "There are 3 directories and 0 images in 'data\\pizza_steak_sushi\\test\n",
      "There are 0 directories and 25 images in 'data\\pizza_steak_sushi\\test\\pizza\n",
      "There are 0 directories and 19 images in 'data\\pizza_steak_sushi\\test\\steak\n",
      "There are 0 directories and 31 images in 'data\\pizza_steak_sushi\\test\\sushi\n",
      "There are 3 directories and 0 images in 'data\\pizza_steak_sushi\\train\n",
      "There are 0 directories and 78 images in 'data\\pizza_steak_sushi\\train\\pizza\n",
      "There are 0 directories and 75 images in 'data\\pizza_steak_sushi\\train\\steak\n",
      "There are 0 directories and 72 images in 'data\\pizza_steak_sushi\\train\\sushi\n"
     ]
    }
   ],
   "source": [
    "walk_through_dir(image_path)"
   ]
  },
  {
   "cell_type": "code",
   "execution_count": 8,
   "metadata": {},
   "outputs": [
    {
     "data": {
      "text/plain": [
       "(WindowsPath('data/pizza_steak_sushi/train'),\n",
       " WindowsPath('data/pizza_steak_sushi/test'))"
      ]
     },
     "execution_count": 8,
     "metadata": {},
     "output_type": "execute_result"
    }
   ],
   "source": [
    "#set up training and test paths\n",
    "train_dir = image_path / \"train\"\n",
    "test_dir = image_path / \"test\"\n",
    "\n",
    "train_dir,test_dir"
   ]
  },
  {
   "cell_type": "code",
   "execution_count": null,
   "metadata": {},
   "outputs": [],
   "source": []
  }
 ],
 "metadata": {
  "kernelspec": {
   "display_name": "base",
   "language": "python",
   "name": "python3"
  },
  "language_info": {
   "codemirror_mode": {
    "name": "ipython",
    "version": 3
   },
   "file_extension": ".py",
   "mimetype": "text/x-python",
   "name": "python",
   "nbconvert_exporter": "python",
   "pygments_lexer": "ipython3",
   "version": "3.11.7"
  }
 },
 "nbformat": 4,
 "nbformat_minor": 2
}

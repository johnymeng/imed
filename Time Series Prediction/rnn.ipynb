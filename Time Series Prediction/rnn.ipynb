{
 "cells": [
  {
   "cell_type": "code",
   "execution_count": 1,
   "metadata": {},
   "outputs": [],
   "source": [
    "import torch\n",
    "import pandas as pd\n",
    "import numpy as np\n",
    "from torch import nn\n",
    "import os\n",
    "import sklearn\n",
    "import matplotlib.pyplot as plt\n",
    "import sys"
   ]
  },
  {
   "cell_type": "code",
   "execution_count": 2,
   "metadata": {},
   "outputs": [],
   "source": [
    "path = \"/Users/jm/VS Code/ML/Time Series Prediction/N_TXT\"\n",
    "\n",
    "os.chdir(path)\n",
    "\n",
    "fx_data = np.array([], dtype=np.float32)\n",
    "\n",
    "#gets data from file specified by file_path\n",
    "def get_contents(file_path):\n",
    "    global fx_data\n",
    "    skip_lines = 7\n",
    "\n",
    "    with open(file_path,'r') as file:\n",
    "\n",
    "        for skips in range(skip_lines):\n",
    "            next(file)\n",
    "\n",
    "        lines = file.readlines()[:-1]\n",
    "\n",
    "        for line in lines:\n",
    "            data = line.split()[-1]\n",
    "            fx_data = np.append(fx_data, np.float32(data))\n",
    "            #print(data)"
   ]
  },
  {
   "cell_type": "code",
   "execution_count": 3,
   "metadata": {},
   "outputs": [
    {
     "name": "stdout",
     "output_type": "stream",
     "text": [
      "Currently working on: /Users/jm/VS Code/ML/Time Series Prediction/N_TXT/9Npie.txt\n",
      "Currently working on: /Users/jm/VS Code/ML/Time Series Prediction/N_TXT/8Npie.txt\n",
      "Currently working on: /Users/jm/VS Code/ML/Time Series Prediction/N_TXT/1Npie.txt\n",
      "Currently working on: /Users/jm/VS Code/ML/Time Series Prediction/N_TXT/3Npie.txt\n",
      "Currently working on: /Users/jm/VS Code/ML/Time Series Prediction/N_TXT/10Npie.txt\n",
      "Currently working on: /Users/jm/VS Code/ML/Time Series Prediction/N_TXT/2Npie.txt\n",
      "Currently working on: /Users/jm/VS Code/ML/Time Series Prediction/N_TXT/11Npie.txt\n",
      "Currently working on: /Users/jm/VS Code/ML/Time Series Prediction/N_TXT/7Npie.txt\n",
      "Currently working on: /Users/jm/VS Code/ML/Time Series Prediction/N_TXT/6Npie.txt\n",
      "Currently working on: /Users/jm/VS Code/ML/Time Series Prediction/N_TXT/4Npie.txt\n",
      "Currently working on: /Users/jm/VS Code/ML/Time Series Prediction/N_TXT/5Npie.txt\n"
     ]
    },
    {
     "data": {
      "text/plain": [
       "dtype('float32')"
      ]
     },
     "execution_count": 3,
     "metadata": {},
     "output_type": "execute_result"
    }
   ],
   "source": [
    "#go through all files in directory and extract data from txt files\n",
    "for file in os.listdir():\n",
    "    if file.endswith(\".txt\"):\n",
    "        file_path = f\"{path}/{file}\"\n",
    "        print(f\"Currently working on: {file_path}\")\n",
    "        get_contents(file_path)\n",
    "\n",
    "fx_data.dtype"
   ]
  },
  {
   "cell_type": "code",
   "execution_count": 4,
   "metadata": {},
   "outputs": [
    {
     "data": {
      "text/plain": [
       "(array([0.00000e+00, 1.00000e+00, 2.00000e+00, ..., 1.87857e+05,\n",
       "        1.87858e+05, 1.87859e+05], dtype=float32),\n",
       " dtype('float32'))"
      ]
     },
     "execution_count": 4,
     "metadata": {},
     "output_type": "execute_result"
    }
   ],
   "source": [
    "#create time \"sample\" for dataframe\n",
    "time_data = np.array([], dtype=np.float32)\n",
    "\n",
    "for x in range(len(fx_data)):\n",
    "    time_data = np.append(time_data, np.float32(x))\n",
    "    type(x)\n",
    "\n",
    "time_data, time_data[0].dtype"
   ]
  },
  {
   "cell_type": "code",
   "execution_count": 5,
   "metadata": {},
   "outputs": [
    {
     "data": {
      "text/html": [
       "<div>\n",
       "<style scoped>\n",
       "    .dataframe tbody tr th:only-of-type {\n",
       "        vertical-align: middle;\n",
       "    }\n",
       "\n",
       "    .dataframe tbody tr th {\n",
       "        vertical-align: top;\n",
       "    }\n",
       "\n",
       "    .dataframe thead th {\n",
       "        text-align: right;\n",
       "    }\n",
       "</style>\n",
       "<table border=\"1\" class=\"dataframe\">\n",
       "  <thead>\n",
       "    <tr style=\"text-align: right;\">\n",
       "      <th></th>\n",
       "      <th>Time</th>\n",
       "      <th>FX Channel</th>\n",
       "    </tr>\n",
       "  </thead>\n",
       "  <tbody>\n",
       "    <tr>\n",
       "      <th>0</th>\n",
       "      <td>0.0</td>\n",
       "      <td>-0.6</td>\n",
       "    </tr>\n",
       "    <tr>\n",
       "      <th>1</th>\n",
       "      <td>1.0</td>\n",
       "      <td>-0.6</td>\n",
       "    </tr>\n",
       "    <tr>\n",
       "      <th>2</th>\n",
       "      <td>2.0</td>\n",
       "      <td>-0.6</td>\n",
       "    </tr>\n",
       "    <tr>\n",
       "      <th>3</th>\n",
       "      <td>3.0</td>\n",
       "      <td>-0.6</td>\n",
       "    </tr>\n",
       "    <tr>\n",
       "      <th>4</th>\n",
       "      <td>4.0</td>\n",
       "      <td>-0.6</td>\n",
       "    </tr>\n",
       "    <tr>\n",
       "      <th>...</th>\n",
       "      <td>...</td>\n",
       "      <td>...</td>\n",
       "    </tr>\n",
       "    <tr>\n",
       "      <th>187855</th>\n",
       "      <td>187855.0</td>\n",
       "      <td>4.1</td>\n",
       "    </tr>\n",
       "    <tr>\n",
       "      <th>187856</th>\n",
       "      <td>187856.0</td>\n",
       "      <td>4.1</td>\n",
       "    </tr>\n",
       "    <tr>\n",
       "      <th>187857</th>\n",
       "      <td>187857.0</td>\n",
       "      <td>4.1</td>\n",
       "    </tr>\n",
       "    <tr>\n",
       "      <th>187858</th>\n",
       "      <td>187858.0</td>\n",
       "      <td>4.1</td>\n",
       "    </tr>\n",
       "    <tr>\n",
       "      <th>187859</th>\n",
       "      <td>187859.0</td>\n",
       "      <td>4.1</td>\n",
       "    </tr>\n",
       "  </tbody>\n",
       "</table>\n",
       "<p>187860 rows × 2 columns</p>\n",
       "</div>"
      ],
      "text/plain": [
       "            Time  FX Channel\n",
       "0            0.0        -0.6\n",
       "1            1.0        -0.6\n",
       "2            2.0        -0.6\n",
       "3            3.0        -0.6\n",
       "4            4.0        -0.6\n",
       "...          ...         ...\n",
       "187855  187855.0         4.1\n",
       "187856  187856.0         4.1\n",
       "187857  187857.0         4.1\n",
       "187858  187858.0         4.1\n",
       "187859  187859.0         4.1\n",
       "\n",
       "[187860 rows x 2 columns]"
      ]
     },
     "execution_count": 5,
     "metadata": {},
     "output_type": "execute_result"
    }
   ],
   "source": [
    "#create time \"sample\" for dataframe\n",
    "dataset = pd.DataFrame({\"Time\": time_data,\n",
    "                        \"FX Channel\": fx_data})\n",
    "dataset"
   ]
  },
  {
   "cell_type": "code",
   "execution_count": 6,
   "metadata": {},
   "outputs": [
    {
     "data": {
      "text/plain": [
       "[<matplotlib.lines.Line2D at 0x32873c0a0>]"
      ]
     },
     "execution_count": 6,
     "metadata": {},
     "output_type": "execute_result"
    },
    {
     "data": {
      "image/png": "[encoded data removed]",
      "text/plain": [
       "<Figure size 640x480 with 1 Axes>"
      ]
     },
     "metadata": {},
     "output_type": "display_data"
    }
   ],
   "source": [
    "plt.plot(dataset[\"FX Channel\"])"
   ]
  },
  {
   "cell_type": "code",
   "execution_count": 7,
   "metadata": {},
   "outputs": [
    {
     "data": {
      "text/plain": [
       "0        -0.6\n",
       "1        -0.6\n",
       "2        -0.6\n",
       "3        -0.6\n",
       "4        -0.6\n",
       "         ... \n",
       "187855    4.1\n",
       "187856    4.1\n",
       "187857    4.1\n",
       "187858    4.1\n",
       "187859    4.1\n",
       "Name: FX Channel, Length: 187860, dtype: float32"
      ]
     },
     "execution_count": 7,
     "metadata": {},
     "output_type": "execute_result"
    }
   ],
   "source": [
    "dataset.iloc[:, 1]"
   ]
  },
  {
   "cell_type": "code",
   "execution_count": 8,
   "metadata": {},
   "outputs": [
    {
     "data": {
      "text/plain": [
       "((187860,), pandas.core.series.Series)"
      ]
     },
     "execution_count": 8,
     "metadata": {},
     "output_type": "execute_result"
    }
   ],
   "source": [
    "dataset[\"FX Channel\"].shape, type(dataset[\"FX Channel\"])"
   ]
  },
  {
   "cell_type": "code",
   "execution_count": 9,
   "metadata": {},
   "outputs": [
    {
     "data": {
      "text/plain": [
       "(150288, 37572, (150288,), (37572,))"
      ]
     },
     "execution_count": 9,
     "metadata": {},
     "output_type": "execute_result"
    }
   ],
   "source": [
    "from sklearn.model_selection import train_test_split\n",
    "\n",
    "RANDOM_SEED = 42\n",
    "\n",
    "#split into train, test and validation, convert PD series to numpy first before train_test_split\n",
    "X_train, X_test, y_train, y_test = train_test_split(dataset[\"Time\"].to_numpy(), dataset[\"FX Channel\"].to_numpy(), test_size = 0.2, random_state=RANDOM_SEED)\n",
    "\n",
    "X_train.size, X_test.size, X_train.shape, X_test.shape"
   ]
  },
  {
   "cell_type": "code",
   "execution_count": 10,
   "metadata": {},
   "outputs": [
    {
     "data": {
      "text/plain": [
       "((37572, 1), (150288, 1), (150288,))"
      ]
     },
     "execution_count": 10,
     "metadata": {},
     "output_type": "execute_result"
    }
   ],
   "source": [
    "#reshape X_train and y_train so that we can use scaler from sklearn\n",
    "X_train = X_train.reshape(-1, 1)\n",
    "X_test = X_test.reshape(-1, 1)\n",
    "X_test.shape, X_train.shape, y_train.shape"
   ]
  },
  {
   "cell_type": "code",
   "execution_count": 11,
   "metadata": {},
   "outputs": [
    {
     "data": {
      "text/plain": [
       "array([[ 0.2881603 ],\n",
       "       [-0.8517299 ],\n",
       "       [-0.04598645],\n",
       "       ...,\n",
       "       [ 0.6411164 ],\n",
       "       [-1.186853  ],\n",
       "       [ 1.4533998 ]], dtype=float32)"
      ]
     },
     "execution_count": 11,
     "metadata": {},
     "output_type": "execute_result"
    }
   ],
   "source": [
    "from sklearn import preprocessing\n",
    "\n",
    "#scale and normalize data\n",
    "scaler = preprocessing.StandardScaler()\n",
    "\n",
    "scaler.fit_transform(X_train)\n",
    "scaler.fit_transform(X_test)"
   ]
  },
  {
   "cell_type": "code",
   "execution_count": 12,
   "metadata": {},
   "outputs": [],
   "source": [
    "#set device\n",
    "device = \"cuda\" if torch.cuda.is_available() else \"cpu\""
   ]
  },
  {
   "cell_type": "code",
   "execution_count": 13,
   "metadata": {},
   "outputs": [],
   "source": [
    "#convert data from numpy to tensors\n",
    "X_train = torch.from_numpy(X_train).type(torch.float32)\n",
    "X_test = torch.from_numpy(X_test).type(torch.float32)\n",
    "y_train = torch.from_numpy(y_train).type(torch.float32)\n",
    "y_test = torch.from_numpy(y_test).type(torch.float32)"
   ]
  },
  {
   "cell_type": "code",
   "execution_count": 14,
   "metadata": {},
   "outputs": [
    {
     "data": {
      "text/plain": [
       "(torch.Tensor, torch.float32)"
      ]
     },
     "execution_count": 14,
     "metadata": {},
     "output_type": "execute_result"
    }
   ],
   "source": [
    "type(X_train), X_train.dtype"
   ]
  },
  {
   "cell_type": "code",
   "execution_count": 15,
   "metadata": {},
   "outputs": [
    {
     "data": {
      "text/html": [
       "<div>\n",
       "<style scoped>\n",
       "    .dataframe tbody tr th:only-of-type {\n",
       "        vertical-align: middle;\n",
       "    }\n",
       "\n",
       "    .dataframe tbody tr th {\n",
       "        vertical-align: top;\n",
       "    }\n",
       "\n",
       "    .dataframe thead th {\n",
       "        text-align: right;\n",
       "    }\n",
       "</style>\n",
       "<table border=\"1\" class=\"dataframe\">\n",
       "  <thead>\n",
       "    <tr style=\"text-align: right;\">\n",
       "      <th></th>\n",
       "      <th>Time</th>\n",
       "      <th>FX Channel</th>\n",
       "    </tr>\n",
       "  </thead>\n",
       "  <tbody>\n",
       "    <tr>\n",
       "      <th>0</th>\n",
       "      <td>0.0</td>\n",
       "      <td>-0.6</td>\n",
       "    </tr>\n",
       "    <tr>\n",
       "      <th>1</th>\n",
       "      <td>1.0</td>\n",
       "      <td>-0.6</td>\n",
       "    </tr>\n",
       "    <tr>\n",
       "      <th>2</th>\n",
       "      <td>2.0</td>\n",
       "      <td>-0.6</td>\n",
       "    </tr>\n",
       "    <tr>\n",
       "      <th>3</th>\n",
       "      <td>3.0</td>\n",
       "      <td>-0.6</td>\n",
       "    </tr>\n",
       "    <tr>\n",
       "      <th>4</th>\n",
       "      <td>4.0</td>\n",
       "      <td>-0.6</td>\n",
       "    </tr>\n",
       "    <tr>\n",
       "      <th>...</th>\n",
       "      <td>...</td>\n",
       "      <td>...</td>\n",
       "    </tr>\n",
       "    <tr>\n",
       "      <th>187855</th>\n",
       "      <td>187855.0</td>\n",
       "      <td>4.1</td>\n",
       "    </tr>\n",
       "    <tr>\n",
       "      <th>187856</th>\n",
       "      <td>187856.0</td>\n",
       "      <td>4.1</td>\n",
       "    </tr>\n",
       "    <tr>\n",
       "      <th>187857</th>\n",
       "      <td>187857.0</td>\n",
       "      <td>4.1</td>\n",
       "    </tr>\n",
       "    <tr>\n",
       "      <th>187858</th>\n",
       "      <td>187858.0</td>\n",
       "      <td>4.1</td>\n",
       "    </tr>\n",
       "    <tr>\n",
       "      <th>187859</th>\n",
       "      <td>187859.0</td>\n",
       "      <td>4.1</td>\n",
       "    </tr>\n",
       "  </tbody>\n",
       "</table>\n",
       "<p>187860 rows × 2 columns</p>\n",
       "</div>"
      ],
      "text/plain": [
       "            Time  FX Channel\n",
       "0            0.0        -0.6\n",
       "1            1.0        -0.6\n",
       "2            2.0        -0.6\n",
       "3            3.0        -0.6\n",
       "4            4.0        -0.6\n",
       "...          ...         ...\n",
       "187855  187855.0         4.1\n",
       "187856  187856.0         4.1\n",
       "187857  187857.0         4.1\n",
       "187858  187858.0         4.1\n",
       "187859  187859.0         4.1\n",
       "\n",
       "[187860 rows x 2 columns]"
      ]
     },
     "execution_count": 15,
     "metadata": {},
     "output_type": "execute_result"
    }
   ],
   "source": [
    "dataset"
   ]
  },
  {
   "cell_type": "code",
   "execution_count": 16,
   "metadata": {},
   "outputs": [
    {
     "data": {
      "text/plain": [
       "((187860,), (187860,), 187860)"
      ]
     },
     "execution_count": 16,
     "metadata": {},
     "output_type": "execute_result"
    }
   ],
   "source": [
    "time_data.shape, fx_data.shape, fx_data.shape[0]"
   ]
  },
  {
   "cell_type": "code",
   "execution_count": 17,
   "metadata": {},
   "outputs": [],
   "source": [
    "#send data to device\n",
    "X_train = X_train.to(device).type(torch.float32) \n",
    "X_test = X_test.to(device).type(torch.float32) \n",
    "y_test = y_test.to(device).type(torch.float32) \n",
    "y_train = y_train.to(device).type(torch.float32) "
   ]
  },
  {
   "cell_type": "code",
   "execution_count": 18,
   "metadata": {},
   "outputs": [
    {
     "data": {
      "text/plain": [
       "(300576,\n",
       " 75144,\n",
       " 0         -0.600000\n",
       " 1         -0.600000\n",
       " 2         -0.600000\n",
       " 3         -0.600000\n",
       " 4         -0.600000\n",
       "             ...    \n",
       " 150283   -90.599998\n",
       " 150284   -90.699997\n",
       " 150285   -90.800003\n",
       " 150286   -90.900002\n",
       " 150287   -90.900002\n",
       " Name: FX Channel, Length: 150288, dtype: float32,\n",
       " 0              0.0\n",
       " 1              1.0\n",
       " 2              2.0\n",
       " 3              3.0\n",
       " 4              4.0\n",
       "             ...   \n",
       " 150283    150283.0\n",
       " 150284    150284.0\n",
       " 150285    150285.0\n",
       " 150286    150286.0\n",
       " 150287    150287.0\n",
       " Name: Time, Length: 150288, dtype: float32)"
      ]
     },
     "execution_count": 18,
     "metadata": {},
     "output_type": "execute_result"
    }
   ],
   "source": [
    "#trying to split data loader now? not too sure if this is the best way\n",
    "split_idx = int(0.8 * len(dataset))\n",
    "\n",
    "train_data = dataset[:split_idx]\n",
    "test_data = dataset[split_idx:]\n",
    "\n",
    "train_data.size, test_data.size, train_data[\"FX Channel\"], train_data[\"Time\"]"
   ]
  },
  {
   "cell_type": "code",
   "execution_count": 20,
   "metadata": {},
   "outputs": [
    {
     "ename": "AttributeError",
     "evalue": "'numpy.ndarray' object has no attribute 'to'",
     "output_type": "error",
     "traceback": [
      "\u001b[0;31m---------------------------------------------------------------------------\u001b[0m",
      "\u001b[0;31mAttributeError\u001b[0m                            Traceback (most recent call last)",
      "Cell \u001b[0;32mIn[20], line 1\u001b[0m\n\u001b[0;32m----> 1\u001b[0m \u001b[43mtime_data\u001b[49m\u001b[38;5;241;43m.\u001b[39;49m\u001b[43mto\u001b[49m(device)\n\u001b[1;32m      2\u001b[0m fx_data\u001b[38;5;241m.\u001b[39mto(device)\n\u001b[1;32m      3\u001b[0m time_data\u001b[38;5;241m.\u001b[39mshape, time_data[\u001b[38;5;241m7\u001b[39m]\u001b[38;5;241m.\u001b[39msize, fx_data[\u001b[38;5;241m0\u001b[39m]\u001b[38;5;241m.\u001b[39msize\n",
      "\u001b[0;31mAttributeError\u001b[0m: 'numpy.ndarray' object has no attribute 'to'"
     ]
    }
   ],
   "source": [
    "# time_data.to(device)\n",
    "# fx_data.to(device)\n",
    "# time_data.shape, time_data[7].size, fx_data[0].size"
   ]
  },
  {
   "cell_type": "code",
   "execution_count": 21,
   "metadata": {},
   "outputs": [
    {
     "name": "stdout",
     "output_type": "stream",
     "text": [
      "150288\n"
     ]
    }
   ],
   "source": [
    "import os\n",
    "import pandas as pd\n",
    "from torchvision.io import read_image\n",
    "from torch.utils.data import Dataset\n",
    "from pathlib import Path\n",
    "\n",
    "split_idx = int(0.8 * len(fx_data))\n",
    "print(f\"{split_idx}\")\n",
    "\n",
    "#convert data to use for dataloader\n",
    "class FX_train_dataset(Dataset):\n",
    "    def __init__(self):\n",
    "        self.x = torch.from_numpy(time_data[:split_idx])\n",
    "        self.y = torch.from_numpy(fx_data[:split_idx])\n",
    "        self.n_samples = split_idx\n",
    "\n",
    "    def __len__(self):\n",
    "        return self.n_samples\n",
    "\n",
    "    def __getitem__(self, idx):\n",
    "        return self.x[idx], self.y[idx]\n",
    "    \n",
    "#convert data to use for dataloader\n",
    "class FX_test_dataset(Dataset):\n",
    "    def __init__(self):\n",
    "        self.x = torch.from_numpy(time_data[split_idx:])\n",
    "        self.y = torch.from_numpy(fx_data[split_idx:])\n",
    "        self.n_samples = fx_data.shape[0] - split_idx\n",
    "\n",
    "    def __len__(self):\n",
    "        return self.n_samples\n",
    "\n",
    "    def __getitem__(self, idx):\n",
    "        return self.x[idx], self.y[idx]"
   ]
  },
  {
   "cell_type": "code",
   "execution_count": 22,
   "metadata": {},
   "outputs": [
    {
     "data": {
      "text/plain": [
       "(150288, (tensor(0.), tensor(-0.6000)), (tensor(100000.), tensor(51.7000)))"
      ]
     },
     "execution_count": 22,
     "metadata": {},
     "output_type": "execute_result"
    }
   ],
   "source": [
    "train_data = FX_train_dataset()\n",
    "test_data = FX_test_dataset()\n",
    "\n",
    "len(train_data), train_data[0], train_data[100000]"
   ]
  },
  {
   "cell_type": "code",
   "execution_count": 23,
   "metadata": {},
   "outputs": [
    {
     "name": "stdout",
     "output_type": "stream",
     "text": [
      "(tensor(0.), tensor(-0.6000))\n",
      "\n",
      "(tensor(1.), tensor(-0.6000))\n",
      "\n",
      "(tensor(2.), tensor(-0.6000))\n",
      "\n",
      "(tensor(3.), tensor(-0.6000))\n",
      "\n",
      "(tensor(4.), tensor(-0.6000))\n",
      "\n",
      "(tensor(5.), tensor(-0.6000))\n",
      "\n",
      "(tensor(6.), tensor(-0.6000))\n",
      "\n",
      "(tensor(7.), tensor(-0.6000))\n",
      "\n",
      "(tensor(8.), tensor(-0.6000))\n",
      "\n",
      "(tensor(9.), tensor(-0.6000))\n",
      "\n"
     ]
    }
   ],
   "source": [
    "for x in range(10):\n",
    "    print(f\"{train_data[x]}\\n\")"
   ]
  },
  {
   "cell_type": "code",
   "execution_count": 35,
   "metadata": {},
   "outputs": [
    {
     "name": "stdout",
     "output_type": "stream",
     "text": [
      "Dataloaders: (<torch.utils.data.dataloader.DataLoader object at 0x32a9569b0>, <torch.utils.data.dataloader.DataLoader object at 0x32d4b1570>)\n",
      "Length of train_dataloader: 9393 batches of 16\n",
      "Length of train_dataloader: 2349 batches of 16\n"
     ]
    }
   ],
   "source": [
    "from torch.utils.data import DataLoader\n",
    "\n",
    "#setup batch size hyperparameter\n",
    "BATCH_SIZE = 16\n",
    "\n",
    "#turn datasets into iterables (batches)\n",
    "train_dataloader = DataLoader(dataset=train_data, \n",
    "                              batch_size=BATCH_SIZE, \n",
    "                              shuffle=True)\n",
    "\n",
    "test_dataloader = DataLoader(dataset=test_data, \n",
    "                              batch_size=BATCH_SIZE, \n",
    "                              shuffle=False)\n",
    "\n",
    "#check out what we've created\n",
    "print(f\"Dataloaders: {train_dataloader, test_dataloader}\")\n",
    "print(f\"Length of train_dataloader: {len(train_dataloader)} batches of {BATCH_SIZE}\")\n",
    "print(f\"Length of train_dataloader: {len(test_dataloader)} batches of {BATCH_SIZE}\")"
   ]
  },
  {
   "cell_type": "code",
   "execution_count": 36,
   "metadata": {},
   "outputs": [
    {
     "data": {
      "text/plain": [
       "torch.utils.data.dataloader.DataLoader"
      ]
     },
     "execution_count": 36,
     "metadata": {},
     "output_type": "execute_result"
    }
   ],
   "source": [
    "type(train_dataloader)"
   ]
  },
  {
   "cell_type": "code",
   "execution_count": 37,
   "metadata": {},
   "outputs": [
    {
     "data": {
      "text/plain": [
       "(torch.Size([16]), torch.Size([16]))"
      ]
     },
     "execution_count": 37,
     "metadata": {},
     "output_type": "execute_result"
    }
   ],
   "source": [
    "# #checkout whats inside the training dataloader\n",
    "train_features_batch, train_labels_batch = next(iter(train_dataloader))\n",
    "train_features_batch.shape, train_labels_batch.shape\n"
   ]
  },
  {
   "cell_type": "code",
   "execution_count": 38,
   "metadata": {},
   "outputs": [],
   "source": [
    "#set manual seed\n",
    "torch.manual_seed(42)\n",
    "torch.cuda.manual_seed(42)"
   ]
  },
  {
   "cell_type": "code",
   "execution_count": 39,
   "metadata": {},
   "outputs": [
    {
     "data": {
      "text/plain": [
       "torch.float32"
      ]
     },
     "execution_count": 39,
     "metadata": {},
     "output_type": "execute_result"
    }
   ],
   "source": [
    "X_train.dtype"
   ]
  },
  {
   "cell_type": "code",
   "execution_count": 40,
   "metadata": {},
   "outputs": [],
   "source": [
    "\"\"\"\n",
    "Model definition\n",
    "\"\"\"\n",
    "class RNN(nn.Module):\n",
    "    \"\"\"\n",
    "    Basic RNN block. This represents a single layer of RNN\n",
    "    \"\"\"\n",
    "    def __init__(self, input_size: int, hidden_size: int, output_size: int) -> None:\n",
    "        \"\"\"\n",
    "        input_size: Number of features of your input vector\n",
    "        hidden_size: Number of hidden neurons\n",
    "        output_size: Number of features of your output vector\n",
    "        \"\"\"\n",
    "        super().__init__()\n",
    "        self.input_size = input_size\n",
    "        self.hidden_size = hidden_size\n",
    "        self.output_size = output_size\n",
    "        self.batch_size = 16\n",
    "\n",
    "        self.i2h = nn.Linear(input_size, hidden_size, bias=False)\n",
    "        self.h2h = nn.Linear(hidden_size, hidden_size)\n",
    "        self.h2o = nn.Linear(hidden_size, output_size)\n",
    "\n",
    "\n",
    "    def forward(self, x, hidden_state) -> tuple[torch.Tensor, torch.Tensor]:\n",
    "        \"\"\"\n",
    "        Returns softmax(linear_out) and tanh(i2h + i2o)\n",
    "        Inputs\n",
    "        ------\n",
    "        x: Input vector x  with shape (vocab_size, )\n",
    "        hidden_state: Hidden state matrix\n",
    "        Outputs\n",
    "        -------\n",
    "        out: Prediction vector\n",
    "        hidden_state: New hidden state matrix\n",
    "        \"\"\"\n",
    "        x = self.i2h(x)\n",
    "       # print(f\"X rnn shape: {x.shape}\")\n",
    "        hidden_state = self.h2h(hidden_state)\n",
    "        hidden_state = torch.tanh(x + hidden_state)\n",
    "       # print(f\"hidden_Staete shape: {hidden_state.shape}\")\n",
    "        return self.h2o(hidden_state), hidden_state\n",
    "\n",
    "    def init_zero_hidden(self, batch_size=1) -> torch.Tensor:\n",
    "        \"\"\"\n",
    "        Returns a hidden state with specified batch size. Defaults to 1\n",
    "        \"\"\"\n",
    "        return torch.zeros(batch_size, self.hidden_size, requires_grad=False)"
   ]
  },
  {
   "cell_type": "code",
   "execution_count": 41,
   "metadata": {},
   "outputs": [],
   "source": [
    "rnn = RNN(input_size = 1,\n",
    "          hidden_size = 16,\n",
    "          output_size = 1,\n",
    "         ).to(device)\n",
    "\n",
    "loss_fn = nn.MSELoss()\n",
    "\n",
    "optimizer = torch.optim.Adam(params=rnn.parameters(),\n",
    "                             lr = 0.1)"
   ]
  },
  {
   "cell_type": "code",
   "execution_count": 52,
   "metadata": {},
   "outputs": [],
   "source": [
    "def training_loop(model: torch.nn.Module,\n",
    "                dataloader: torch.utils.data.DataLoader,\n",
    "                epochs: int,\n",
    "                optimizer: torch.optim,\n",
    "                loss_fn: torch.optim.Optimizer):\n",
    "    train_loss = {}\n",
    "    model.to(device)\n",
    "\n",
    "    #set to train\n",
    "    model.train()\n",
    "\n",
    "    for epoch in range(epochs):\n",
    "        epoch_loss = list()\n",
    "\n",
    "        loss = 0\n",
    "\n",
    "        for batch, (X, y) in enumerate(train_dataloader):\n",
    "\n",
    "            hidden = torch.zeros(1, 1, 8) \n",
    "\n",
    "            #print(f\"X shape: {X.shape}\")\n",
    "\n",
    "            X, y, hidden = X.to(device).reshape(1, 16,1), y.to(device), hidden.to(device)\n",
    "            #make pred\n",
    "            y_pred, hidden = model(X, hidden)\n",
    "\n",
    "            #calc loss\n",
    "            loss += loss_fn(y_pred, y)\n",
    "\n",
    "            #optim zero grad\n",
    "            model.zero_grad()\n",
    "\n",
    "        #back prop\n",
    "        loss.backward()\n",
    "\n",
    "        #optim step\n",
    "        nn.utils.clip_grad_norm_(model.parameters(), 2)\n",
    "        optimizer.step()\n",
    "\n",
    "        epoch_loss.append(loss.detach().item() / len(train_dataloader))\n",
    "\n",
    "        train_loss[epoch] = torch.tensor(epoch_loss).mean()\n",
    "\n",
    "        print(f\"epoch: {epoch} | loss: {train_loss[epoch]}\")"
   ]
  },
  {
   "cell_type": "code",
   "execution_count": 43,
   "metadata": {},
   "outputs": [
    {
     "data": {
      "text/plain": [
       "(<function Tensor.type>, torch.float32)"
      ]
     },
     "execution_count": 43,
     "metadata": {},
     "output_type": "execute_result"
    }
   ],
   "source": [
    "X_train.type, X_train.dtype"
   ]
  },
  {
   "cell_type": "code",
   "execution_count": 44,
   "metadata": {},
   "outputs": [
    {
     "name": "stderr",
     "output_type": "stream",
     "text": [
      "/Users/jm/miniforge3/lib/python3.10/site-packages/torch/nn/modules/loss.py:535: UserWarning: Using a target size (torch.Size([16])) that is different to the input size (torch.Size([1, 16, 1])). This will likely lead to incorrect results due to broadcasting. Please ensure they have the same size.\n",
      "  return F.mse_loss(input, target, reduction=self.reduction)\n"
     ]
    },
    {
     "name": "stdout",
     "output_type": "stream",
     "text": [
      "epoch: 0 | loss: 3699.85693359375\n",
      "epoch: 1 | loss: 3594.262451171875\n",
      "epoch: 2 | loss: 3494.43701171875\n",
      "epoch: 3 | loss: 3406.49853515625\n",
      "epoch: 4 | loss: 3325.035400390625\n",
      "epoch: 5 | loss: 3246.765625\n",
      "epoch: 6 | loss: 3172.5693359375\n",
      "epoch: 7 | loss: 3102.92431640625\n",
      "epoch: 8 | loss: 3038.14697265625\n",
      "epoch: 9 | loss: 2978.4560546875\n",
      "epoch: 10 | loss: 2924.02490234375\n",
      "epoch: 11 | loss: 2874.9228515625\n",
      "epoch: 12 | loss: 2831.26318359375\n",
      "epoch: 13 | loss: 2793.111572265625\n",
      "epoch: 14 | loss: 2760.50634765625\n",
      "epoch: 15 | loss: 2733.4833984375\n",
      "epoch: 16 | loss: 2712.090576171875\n",
      "epoch: 17 | loss: 2696.350830078125\n",
      "epoch: 18 | loss: 2686.27978515625\n",
      "epoch: 19 | loss: 2681.904541015625\n",
      "epoch: 20 | loss: 2683.223876953125\n",
      "epoch: 21 | loss: 2688.17626953125\n",
      "epoch: 22 | loss: 2694.10205078125\n",
      "epoch: 23 | loss: 2699.360107421875\n",
      "epoch: 24 | loss: 2703.1005859375\n",
      "epoch: 25 | loss: 2704.926025390625\n",
      "epoch: 26 | loss: 2704.84619140625\n",
      "epoch: 27 | loss: 2703.0703125\n",
      "epoch: 28 | loss: 2699.980224609375\n",
      "epoch: 29 | loss: 2696.03515625\n",
      "epoch: 30 | loss: 2691.752685546875\n",
      "epoch: 31 | loss: 2687.660888671875\n",
      "epoch: 32 | loss: 2684.29443359375\n",
      "epoch: 33 | loss: 2682.17236328125\n",
      "epoch: 34 | loss: 2681.78271484375\n",
      "epoch: 35 | loss: 2682.749755859375\n",
      "epoch: 36 | loss: 2683.957763671875\n",
      "epoch: 37 | loss: 2684.7734375\n",
      "epoch: 38 | loss: 2684.966796875\n",
      "epoch: 39 | loss: 2684.533203125\n",
      "epoch: 40 | loss: 2683.659423828125\n",
      "epoch: 41 | loss: 2682.641845703125\n",
      "epoch: 42 | loss: 2681.859130859375\n",
      "epoch: 43 | loss: 2681.759765625\n",
      "epoch: 44 | loss: 2682.173828125\n",
      "epoch: 45 | loss: 2682.519775390625\n",
      "epoch: 46 | loss: 2682.561279296875\n",
      "epoch: 47 | loss: 2682.310791015625\n",
      "epoch: 48 | loss: 2681.925537109375\n",
      "epoch: 49 | loss: 2681.693359375\n",
      "epoch: 50 | loss: 2681.995361328125\n",
      "epoch: 51 | loss: 2682.47216796875\n",
      "epoch: 52 | loss: 2682.741943359375\n",
      "epoch: 53 | loss: 2682.646240234375\n",
      "epoch: 54 | loss: 2682.2822265625\n",
      "epoch: 55 | loss: 2681.855712890625\n",
      "epoch: 56 | loss: 2681.70849609375\n",
      "epoch: 57 | loss: 2681.830810546875\n",
      "epoch: 58 | loss: 2681.8955078125\n",
      "epoch: 59 | loss: 2681.812744140625\n",
      "epoch: 60 | loss: 2681.7041015625\n",
      "epoch: 61 | loss: 2681.803466796875\n",
      "epoch: 62 | loss: 2681.95556640625\n",
      "epoch: 63 | loss: 2681.96240234375\n",
      "epoch: 64 | loss: 2681.81494140625\n",
      "epoch: 65 | loss: 2681.699462890625\n",
      "epoch: 66 | loss: 2681.8798828125\n",
      "epoch: 67 | loss: 2682.12939453125\n",
      "epoch: 68 | loss: 2682.20068359375\n",
      "epoch: 69 | loss: 2682.038818359375\n",
      "epoch: 70 | loss: 2681.789306640625\n",
      "epoch: 71 | loss: 2681.7119140625\n",
      "epoch: 72 | loss: 2681.812744140625\n",
      "epoch: 73 | loss: 2681.818115234375\n",
      "epoch: 74 | loss: 2681.743896484375\n",
      "epoch: 75 | loss: 2681.7021484375\n",
      "epoch: 76 | loss: 2681.734375\n",
      "epoch: 77 | loss: 2683.61962890625\n",
      "epoch: 78 | loss: 2683.3203125\n",
      "epoch: 79 | loss: 2682.711669921875\n",
      "epoch: 80 | loss: 2682.05224609375\n",
      "epoch: 81 | loss: 2681.698974609375\n",
      "epoch: 82 | loss: 2682.0556640625\n",
      "epoch: 83 | loss: 2682.746826171875\n",
      "epoch: 84 | loss: 2683.21826171875\n",
      "epoch: 85 | loss: 2683.25634765625\n",
      "epoch: 86 | loss: 2682.89697265625\n",
      "epoch: 87 | loss: 2682.321044921875\n",
      "epoch: 88 | loss: 2681.807373046875\n",
      "epoch: 89 | loss: 2681.749755859375\n",
      "epoch: 90 | loss: 2682.03173828125\n",
      "epoch: 91 | loss: 2682.21484375\n",
      "epoch: 92 | loss: 2682.154052734375\n",
      "epoch: 93 | loss: 2681.91455078125\n",
      "epoch: 94 | loss: 2681.70263671875\n",
      "epoch: 95 | loss: 2681.84619140625\n",
      "epoch: 96 | loss: 2682.120361328125\n",
      "epoch: 97 | loss: 2682.231201171875\n",
      "epoch: 98 | loss: 2682.10009765625\n",
      "epoch: 99 | loss: 2681.8310546875\n",
      "epoch: 100 | loss: 2681.694091796875\n"
     ]
    },
    {
     "ename": "KeyboardInterrupt",
     "evalue": "",
     "output_type": "error",
     "traceback": [
      "\u001b[0;31m---------------------------------------------------------------------------\u001b[0m",
      "\u001b[0;31mKeyboardInterrupt\u001b[0m                         Traceback (most recent call last)",
      "Cell \u001b[0;32mIn[44], line 3\u001b[0m\n\u001b[1;32m      1\u001b[0m EPOCHS \u001b[38;5;241m=\u001b[39m \u001b[38;5;241m1000\u001b[39m\n\u001b[0;32m----> 3\u001b[0m \u001b[43mtraining_loop\u001b[49m\u001b[43m(\u001b[49m\u001b[43mmodel\u001b[49m\u001b[38;5;241;43m=\u001b[39;49m\u001b[43mrnn\u001b[49m\u001b[43m,\u001b[49m\n\u001b[1;32m      4\u001b[0m \u001b[43m              \u001b[49m\u001b[43mdataloader\u001b[49m\u001b[38;5;241;43m=\u001b[39;49m\u001b[43mtrain_dataloader\u001b[49m\u001b[43m,\u001b[49m\n\u001b[1;32m      5\u001b[0m \u001b[43m              \u001b[49m\u001b[43mepochs\u001b[49m\u001b[43m \u001b[49m\u001b[38;5;241;43m=\u001b[39;49m\u001b[43m \u001b[49m\u001b[43mEPOCHS\u001b[49m\u001b[43m,\u001b[49m\n\u001b[1;32m      6\u001b[0m \u001b[43m              \u001b[49m\u001b[43moptimizer\u001b[49m\u001b[38;5;241;43m=\u001b[39;49m\u001b[43moptimizer\u001b[49m\u001b[43m,\u001b[49m\n\u001b[1;32m      7\u001b[0m \u001b[43m              \u001b[49m\u001b[43mloss_fn\u001b[49m\u001b[38;5;241;43m=\u001b[39;49m\u001b[43mloss_fn\u001b[49m\u001b[43m)\u001b[49m\n",
      "Cell \u001b[0;32mIn[42], line 34\u001b[0m, in \u001b[0;36mtraining_loop\u001b[0;34m(model, dataloader, epochs, optimizer, loss_fn)\u001b[0m\n\u001b[1;32m     31\u001b[0m     model\u001b[38;5;241m.\u001b[39mzero_grad()\n\u001b[1;32m     33\u001b[0m \u001b[38;5;66;03m#back prop\u001b[39;00m\n\u001b[0;32m---> 34\u001b[0m \u001b[43mloss\u001b[49m\u001b[38;5;241;43m.\u001b[39;49m\u001b[43mbackward\u001b[49m\u001b[43m(\u001b[49m\u001b[43m)\u001b[49m\n\u001b[1;32m     36\u001b[0m \u001b[38;5;66;03m#optim step\u001b[39;00m\n\u001b[1;32m     37\u001b[0m nn\u001b[38;5;241m.\u001b[39mutils\u001b[38;5;241m.\u001b[39mclip_grad_norm_(model\u001b[38;5;241m.\u001b[39mparameters(), \u001b[38;5;241m2\u001b[39m)\n",
      "File \u001b[0;32m~/miniforge3/lib/python3.10/site-packages/torch/_tensor.py:525\u001b[0m, in \u001b[0;36mTensor.backward\u001b[0;34m(self, gradient, retain_graph, create_graph, inputs)\u001b[0m\n\u001b[1;32m    515\u001b[0m \u001b[38;5;28;01mif\u001b[39;00m has_torch_function_unary(\u001b[38;5;28mself\u001b[39m):\n\u001b[1;32m    516\u001b[0m     \u001b[38;5;28;01mreturn\u001b[39;00m handle_torch_function(\n\u001b[1;32m    517\u001b[0m         Tensor\u001b[38;5;241m.\u001b[39mbackward,\n\u001b[1;32m    518\u001b[0m         (\u001b[38;5;28mself\u001b[39m,),\n\u001b[0;32m   (...)\u001b[0m\n\u001b[1;32m    523\u001b[0m         inputs\u001b[38;5;241m=\u001b[39minputs,\n\u001b[1;32m    524\u001b[0m     )\n\u001b[0;32m--> 525\u001b[0m \u001b[43mtorch\u001b[49m\u001b[38;5;241;43m.\u001b[39;49m\u001b[43mautograd\u001b[49m\u001b[38;5;241;43m.\u001b[39;49m\u001b[43mbackward\u001b[49m\u001b[43m(\u001b[49m\n\u001b[1;32m    526\u001b[0m \u001b[43m    \u001b[49m\u001b[38;5;28;43mself\u001b[39;49m\u001b[43m,\u001b[49m\u001b[43m \u001b[49m\u001b[43mgradient\u001b[49m\u001b[43m,\u001b[49m\u001b[43m \u001b[49m\u001b[43mretain_graph\u001b[49m\u001b[43m,\u001b[49m\u001b[43m \u001b[49m\u001b[43mcreate_graph\u001b[49m\u001b[43m,\u001b[49m\u001b[43m \u001b[49m\u001b[43minputs\u001b[49m\u001b[38;5;241;43m=\u001b[39;49m\u001b[43minputs\u001b[49m\n\u001b[1;32m    527\u001b[0m \u001b[43m\u001b[49m\u001b[43m)\u001b[49m\n",
      "File \u001b[0;32m~/miniforge3/lib/python3.10/site-packages/torch/autograd/__init__.py:267\u001b[0m, in \u001b[0;36mbackward\u001b[0;34m(tensors, grad_tensors, retain_graph, create_graph, grad_variables, inputs)\u001b[0m\n\u001b[1;32m    262\u001b[0m     retain_graph \u001b[38;5;241m=\u001b[39m create_graph\n\u001b[1;32m    264\u001b[0m \u001b[38;5;66;03m# The reason we repeat the same comment below is that\u001b[39;00m\n\u001b[1;32m    265\u001b[0m \u001b[38;5;66;03m# some Python versions print out the first line of a multi-line function\u001b[39;00m\n\u001b[1;32m    266\u001b[0m \u001b[38;5;66;03m# calls in the traceback and some print out the last line\u001b[39;00m\n\u001b[0;32m--> 267\u001b[0m \u001b[43m_engine_run_backward\u001b[49m\u001b[43m(\u001b[49m\n\u001b[1;32m    268\u001b[0m \u001b[43m    \u001b[49m\u001b[43mtensors\u001b[49m\u001b[43m,\u001b[49m\n\u001b[1;32m    269\u001b[0m \u001b[43m    \u001b[49m\u001b[43mgrad_tensors_\u001b[49m\u001b[43m,\u001b[49m\n\u001b[1;32m    270\u001b[0m \u001b[43m    \u001b[49m\u001b[43mretain_graph\u001b[49m\u001b[43m,\u001b[49m\n\u001b[1;32m    271\u001b[0m \u001b[43m    \u001b[49m\u001b[43mcreate_graph\u001b[49m\u001b[43m,\u001b[49m\n\u001b[1;32m    272\u001b[0m \u001b[43m    \u001b[49m\u001b[43minputs\u001b[49m\u001b[43m,\u001b[49m\n\u001b[1;32m    273\u001b[0m \u001b[43m    \u001b[49m\u001b[43mallow_unreachable\u001b[49m\u001b[38;5;241;43m=\u001b[39;49m\u001b[38;5;28;43;01mTrue\u001b[39;49;00m\u001b[43m,\u001b[49m\n\u001b[1;32m    274\u001b[0m \u001b[43m    \u001b[49m\u001b[43maccumulate_grad\u001b[49m\u001b[38;5;241;43m=\u001b[39;49m\u001b[38;5;28;43;01mTrue\u001b[39;49;00m\u001b[43m,\u001b[49m\n\u001b[1;32m    275\u001b[0m \u001b[43m\u001b[49m\u001b[43m)\u001b[49m\n",
      "File \u001b[0;32m~/miniforge3/lib/python3.10/site-packages/torch/autograd/graph.py:744\u001b[0m, in \u001b[0;36m_engine_run_backward\u001b[0;34m(t_outputs, *args, **kwargs)\u001b[0m\n\u001b[1;32m    742\u001b[0m     unregister_hooks \u001b[38;5;241m=\u001b[39m _register_logging_hooks_on_whole_graph(t_outputs)\n\u001b[1;32m    743\u001b[0m \u001b[38;5;28;01mtry\u001b[39;00m:\n\u001b[0;32m--> 744\u001b[0m     \u001b[38;5;28;01mreturn\u001b[39;00m \u001b[43mVariable\u001b[49m\u001b[38;5;241;43m.\u001b[39;49m\u001b[43m_execution_engine\u001b[49m\u001b[38;5;241;43m.\u001b[39;49m\u001b[43mrun_backward\u001b[49m\u001b[43m(\u001b[49m\u001b[43m  \u001b[49m\u001b[38;5;66;43;03m# Calls into the C++ engine to run the backward pass\u001b[39;49;00m\n\u001b[1;32m    745\u001b[0m \u001b[43m        \u001b[49m\u001b[43mt_outputs\u001b[49m\u001b[43m,\u001b[49m\u001b[43m \u001b[49m\u001b[38;5;241;43m*\u001b[39;49m\u001b[43margs\u001b[49m\u001b[43m,\u001b[49m\u001b[43m \u001b[49m\u001b[38;5;241;43m*\u001b[39;49m\u001b[38;5;241;43m*\u001b[39;49m\u001b[43mkwargs\u001b[49m\n\u001b[1;32m    746\u001b[0m \u001b[43m    \u001b[49m\u001b[43m)\u001b[49m  \u001b[38;5;66;03m# Calls into the C++ engine to run the backward pass\u001b[39;00m\n\u001b[1;32m    747\u001b[0m \u001b[38;5;28;01mfinally\u001b[39;00m:\n\u001b[1;32m    748\u001b[0m     \u001b[38;5;28;01mif\u001b[39;00m attach_logging_hooks:\n",
      "\u001b[0;31mKeyboardInterrupt\u001b[0m: "
     ]
    }
   ],
   "source": [
    "EPOCHS = 1000\n",
    "\n",
    "training_loop(model=rnn,\n",
    "              dataloader=train_dataloader,\n",
    "              epochs = EPOCHS,\n",
    "              optimizer=optimizer,\n",
    "              loss_fn=loss_fn)"
   ]
  },
  {
   "cell_type": "code",
   "execution_count": 45,
   "metadata": {},
   "outputs": [],
   "source": [
    "  # Calculate accuracy (a classification metric)\n",
    "def accuracy_fn(y_true, y_pred):\n",
    "    \"\"\"Calculates accuracy between truth labels and predictions.\n",
    "\n",
    "    Args:\n",
    "        y_true (torch.Tensor): Truth labels for predictions.\n",
    "        y_pred (torch.Tensor): Predictions to be compared to predictions.\n",
    "\n",
    "    Returns:\n",
    "        [torch.float]: Accuracy value between y_true and y_pred, e.g. 78.45\n",
    "    \"\"\"\n",
    "    correct = torch.eq(y_true, y_pred).sum().item()\n",
    "    acc = (correct / len(y_pred)) * 100\n",
    "    return acc"
   ]
  },
  {
   "cell_type": "code",
   "execution_count": 46,
   "metadata": {},
   "outputs": [],
   "source": [
    "predictions = np.array([])\n",
    "\n",
    "# Move values to device\n",
    "torch.manual_seed(42)\n",
    "def eval_model(model: torch.nn.Module,\n",
    "               data_loader: torch.utils.data.DataLoader,\n",
    "               loss_fn: torch.nn.Module,\n",
    "               accuracy_fn,\n",
    "               device: torch.device = device):\n",
    "    \"\"\"Evaluates a given model on a given dataset.\n",
    "\n",
    "    Args:\n",
    "        model (torch.nn.Module): A PyTorch model capable of making predictions on data_loader.\n",
    "        data_loader (torch.utils.data.DataLoader): The target dataset to predict on.\n",
    "        loss_fn (torch.nn.Module): The loss function of model.\n",
    "        accuracy_fn: An accuracy function to compare the models predictions to the truth labels.\n",
    "        device (str, optional): Target device to compute on. Defaults to device.\n",
    "\n",
    "    Returns:\n",
    "        (dict): Results of model making predictions on data_loader.\n",
    "    \"\"\"\n",
    "    loss, acc = 0, 0\n",
    "    model.eval()\n",
    "    with torch.inference_mode():\n",
    "        for X, y in data_loader:\n",
    "            global predictions\n",
    "\n",
    "            hidden = model.init_zero_hidden(batch_size=model.batch_size)\n",
    "\n",
    "            # Send data to the target device\n",
    "            X, y, hidden = X.reshape(1, len(X), 1).to(device), y.reshape(1, len(X), 1).to(device), hidden\n",
    "\n",
    "            y_pred = model(X, hidden)\n",
    "            print(f\"y pred shape: {y_pred}\")\n",
    "            predictions = np.append(predictions, y_pred)\n",
    "            loss += loss_fn(y_pred, y)\n",
    "            acc += accuracy_fn(y_true=y, y_pred=y_pred.argmax(dim=1))\n",
    "\n",
    "        # Scale loss and acc\n",
    "        loss /= len(data_loader)\n",
    "        acc /= len(data_loader)\n",
    "    return {\"model_name\": model.__class__.__name__, # only works when model was created with a class\n",
    "            \"model_loss\": loss.item(),\n",
    "            \"model_acc\": acc}"
   ]
  },
  {
   "cell_type": "code",
   "execution_count": 47,
   "metadata": {},
   "outputs": [
    {
     "name": "stdout",
     "output_type": "stream",
     "text": [
      "y pred shape: (tensor([[[31.0048],\n",
      "         [31.0048],\n",
      "         [31.0048],\n",
      "         [31.0048],\n",
      "         [31.0048],\n",
      "         [31.0048],\n",
      "         [31.0048],\n",
      "         [31.0048],\n",
      "         [31.0048],\n",
      "         [31.0048],\n",
      "         [31.0048],\n",
      "         [31.0048],\n",
      "         [31.0048],\n",
      "         [31.0048],\n",
      "         [31.0048],\n",
      "         [31.0048]]]), tensor([[[ 1.,  1., -1.,  1., -1.,  1., -1.,  1.,  1., -1.,  1.,  1.,  1.,  1.,\n",
      "           1., -1.],\n",
      "         [ 1.,  1., -1.,  1., -1.,  1., -1.,  1.,  1., -1.,  1.,  1.,  1.,  1.,\n",
      "           1., -1.],\n",
      "         [ 1.,  1., -1.,  1., -1.,  1., -1.,  1.,  1., -1.,  1.,  1.,  1.,  1.,\n",
      "           1., -1.],\n",
      "         [ 1.,  1., -1.,  1., -1.,  1., -1.,  1.,  1., -1.,  1.,  1.,  1.,  1.,\n",
      "           1., -1.],\n",
      "         [ 1.,  1., -1.,  1., -1.,  1., -1.,  1.,  1., -1.,  1.,  1.,  1.,  1.,\n",
      "           1., -1.],\n",
      "         [ 1.,  1., -1.,  1., -1.,  1., -1.,  1.,  1., -1.,  1.,  1.,  1.,  1.,\n",
      "           1., -1.],\n",
      "         [ 1.,  1., -1.,  1., -1.,  1., -1.,  1.,  1., -1.,  1.,  1.,  1.,  1.,\n",
      "           1., -1.],\n",
      "         [ 1.,  1., -1.,  1., -1.,  1., -1.,  1.,  1., -1.,  1.,  1.,  1.,  1.,\n",
      "           1., -1.],\n",
      "         [ 1.,  1., -1.,  1., -1.,  1., -1.,  1.,  1., -1.,  1.,  1.,  1.,  1.,\n",
      "           1., -1.],\n",
      "         [ 1.,  1., -1.,  1., -1.,  1., -1.,  1.,  1., -1.,  1.,  1.,  1.,  1.,\n",
      "           1., -1.],\n",
      "         [ 1.,  1., -1.,  1., -1.,  1., -1.,  1.,  1., -1.,  1.,  1.,  1.,  1.,\n",
      "           1., -1.],\n",
      "         [ 1.,  1., -1.,  1., -1.,  1., -1.,  1.,  1., -1.,  1.,  1.,  1.,  1.,\n",
      "           1., -1.],\n",
      "         [ 1.,  1., -1.,  1., -1.,  1., -1.,  1.,  1., -1.,  1.,  1.,  1.,  1.,\n",
      "           1., -1.],\n",
      "         [ 1.,  1., -1.,  1., -1.,  1., -1.,  1.,  1., -1.,  1.,  1.,  1.,  1.,\n",
      "           1., -1.],\n",
      "         [ 1.,  1., -1.,  1., -1.,  1., -1.,  1.,  1., -1.,  1.,  1.,  1.,  1.,\n",
      "           1., -1.],\n",
      "         [ 1.,  1., -1.,  1., -1.,  1., -1.,  1.,  1., -1.,  1.,  1.,  1.,  1.,\n",
      "           1., -1.]]]))\n"
     ]
    },
    {
     "ename": "ValueError",
     "evalue": "setting an array element with a sequence. The requested array has an inhomogeneous shape after 3 dimensions. The detected shape was (2, 1, 16) + inhomogeneous part.",
     "output_type": "error",
     "traceback": [
      "\u001b[0;31m---------------------------------------------------------------------------\u001b[0m",
      "\u001b[0;31mValueError\u001b[0m                                Traceback (most recent call last)",
      "Cell \u001b[0;32mIn[47], line 1\u001b[0m\n\u001b[0;32m----> 1\u001b[0m \u001b[43meval_model\u001b[49m\u001b[43m(\u001b[49m\u001b[43mmodel\u001b[49m\u001b[38;5;241;43m=\u001b[39;49m\u001b[43mrnn\u001b[49m\u001b[43m,\u001b[49m\n\u001b[1;32m      2\u001b[0m \u001b[43m           \u001b[49m\u001b[43mdata_loader\u001b[49m\u001b[38;5;241;43m=\u001b[39;49m\u001b[43m \u001b[49m\u001b[43mtest_dataloader\u001b[49m\u001b[43m,\u001b[49m\n\u001b[1;32m      3\u001b[0m \u001b[43m           \u001b[49m\u001b[43mloss_fn\u001b[49m\u001b[43m \u001b[49m\u001b[38;5;241;43m=\u001b[39;49m\u001b[43m \u001b[49m\u001b[43mloss_fn\u001b[49m\u001b[43m,\u001b[49m\n\u001b[1;32m      4\u001b[0m \u001b[43m           \u001b[49m\u001b[43maccuracy_fn\u001b[49m\u001b[38;5;241;43m=\u001b[39;49m\u001b[43maccuracy_fn\u001b[49m\u001b[43m,\u001b[49m\n\u001b[1;32m      5\u001b[0m \u001b[43m           \u001b[49m\u001b[43mdevice\u001b[49m\u001b[38;5;241;43m=\u001b[39;49m\u001b[43mdevice\u001b[49m\u001b[43m)\u001b[49m\n",
      "Cell \u001b[0;32mIn[46], line 35\u001b[0m, in \u001b[0;36meval_model\u001b[0;34m(model, data_loader, loss_fn, accuracy_fn, device)\u001b[0m\n\u001b[1;32m     33\u001b[0m y_pred \u001b[38;5;241m=\u001b[39m model(X, hidden)\n\u001b[1;32m     34\u001b[0m \u001b[38;5;28mprint\u001b[39m(\u001b[38;5;124mf\u001b[39m\u001b[38;5;124m\"\u001b[39m\u001b[38;5;124my pred shape: \u001b[39m\u001b[38;5;132;01m{\u001b[39;00my_pred\u001b[38;5;132;01m}\u001b[39;00m\u001b[38;5;124m\"\u001b[39m)\n\u001b[0;32m---> 35\u001b[0m predictions \u001b[38;5;241m=\u001b[39m \u001b[43mnp\u001b[49m\u001b[38;5;241;43m.\u001b[39;49m\u001b[43mappend\u001b[49m\u001b[43m(\u001b[49m\u001b[43mpredictions\u001b[49m\u001b[43m,\u001b[49m\u001b[43m \u001b[49m\u001b[43my_pred\u001b[49m\u001b[43m)\u001b[49m\n\u001b[1;32m     36\u001b[0m loss \u001b[38;5;241m+\u001b[39m\u001b[38;5;241m=\u001b[39m loss_fn(y_pred, y)\n\u001b[1;32m     37\u001b[0m acc \u001b[38;5;241m+\u001b[39m\u001b[38;5;241m=\u001b[39m accuracy_fn(y_true\u001b[38;5;241m=\u001b[39my, y_pred\u001b[38;5;241m=\u001b[39my_pred\u001b[38;5;241m.\u001b[39margmax(dim\u001b[38;5;241m=\u001b[39m\u001b[38;5;241m1\u001b[39m))\n",
      "File \u001b[0;32m~/miniforge3/lib/python3.10/site-packages/numpy/lib/function_base.py:5616\u001b[0m, in \u001b[0;36mappend\u001b[0;34m(arr, values, axis)\u001b[0m\n\u001b[1;32m   5614\u001b[0m     \u001b[38;5;28;01mif\u001b[39;00m arr\u001b[38;5;241m.\u001b[39mndim \u001b[38;5;241m!=\u001b[39m \u001b[38;5;241m1\u001b[39m:\n\u001b[1;32m   5615\u001b[0m         arr \u001b[38;5;241m=\u001b[39m arr\u001b[38;5;241m.\u001b[39mravel()\n\u001b[0;32m-> 5616\u001b[0m     values \u001b[38;5;241m=\u001b[39m \u001b[43mravel\u001b[49m\u001b[43m(\u001b[49m\u001b[43mvalues\u001b[49m\u001b[43m)\u001b[49m\n\u001b[1;32m   5617\u001b[0m     axis \u001b[38;5;241m=\u001b[39m arr\u001b[38;5;241m.\u001b[39mndim\u001b[38;5;241m-\u001b[39m\u001b[38;5;241m1\u001b[39m\n\u001b[1;32m   5618\u001b[0m \u001b[38;5;28;01mreturn\u001b[39;00m concatenate((arr, values), axis\u001b[38;5;241m=\u001b[39maxis)\n",
      "File \u001b[0;32m~/miniforge3/lib/python3.10/site-packages/numpy/core/fromnumeric.py:1874\u001b[0m, in \u001b[0;36mravel\u001b[0;34m(a, order)\u001b[0m\n\u001b[1;32m   1872\u001b[0m     \u001b[38;5;28;01mreturn\u001b[39;00m asarray(a)\u001b[38;5;241m.\u001b[39mravel(order\u001b[38;5;241m=\u001b[39morder)\n\u001b[1;32m   1873\u001b[0m \u001b[38;5;28;01melse\u001b[39;00m:\n\u001b[0;32m-> 1874\u001b[0m     \u001b[38;5;28;01mreturn\u001b[39;00m \u001b[43masanyarray\u001b[49m\u001b[43m(\u001b[49m\u001b[43ma\u001b[49m\u001b[43m)\u001b[49m\u001b[38;5;241m.\u001b[39mravel(order\u001b[38;5;241m=\u001b[39morder)\n",
      "\u001b[0;31mValueError\u001b[0m: setting an array element with a sequence. The requested array has an inhomogeneous shape after 3 dimensions. The detected shape was (2, 1, 16) + inhomogeneous part."
     ]
    }
   ],
   "source": [
    "eval_model(model=rnn,\n",
    "           data_loader= test_dataloader,\n",
    "           loss_fn = loss_fn,\n",
    "           accuracy_fn=accuracy_fn,\n",
    "           device=device)"
   ]
  },
  {
   "cell_type": "code",
   "execution_count": 48,
   "metadata": {},
   "outputs": [],
   "source": [
    "# Plot linear data or training and test and predictions (optional)\n",
    "def plot_predictions(\n",
    "    train_data, train_labels, test_data, test_labels, predictions=None\n",
    "):\n",
    "    \"\"\"\n",
    "  Plots linear training data and test data and compares predictions.\n",
    "  \"\"\"\n",
    "    plt.figure(figsize=(20, 15))\n",
    "\n",
    "    # Plot training data in blue\n",
    "    plt.scatter(train_data, train_labels, c=\"b\", s=4, label=\"Training data\")\n",
    "\n",
    "    # Plot test data in green\n",
    "    plt.scatter(test_data, test_labels, c=\"g\", s=4, label=\"Testing data\")\n",
    "\n",
    "    if predictions is not None:\n",
    "        # Plot the predictions in red (predictions were made on the test data)\n",
    "        plt.scatter(test_data, predictions, c=\"r\", s=4, label=\"Predictions\")\n",
    "\n",
    "    # Show the legend\n",
    "    plt.legend(prop={\"size\": 14})"
   ]
  },
  {
   "cell_type": "code",
   "execution_count": null,
   "metadata": {},
   "outputs": [],
   "source": [
    "plot_predictions(X_train.cpu().numpy(), y_train.cpu().numpy(), X_test.cpu().numpy(), y_test.cpu().numpy(), predictions=predictions)"
   ]
  },
  {
   "cell_type": "code",
   "execution_count": 55,
   "metadata": {},
   "outputs": [],
   "source": [
    "#testing a different model\n",
    "# number of points\n",
    "num_time_steps = len(fx_data)\n",
    "hidden_size = 8\n",
    "input_size = 1\n",
    "output_size = 1\n",
    "lr = 0.1\n",
    "\n",
    "\n",
    "class RNN_Model(nn.Module):\n",
    "    def __init__(self):\n",
    "        super(RNN_Model, self).__init__()\n",
    "\n",
    "        self.rnn = nn.RNN(\n",
    "            input_size=input_size,\n",
    "            hidden_size=hidden_size,\n",
    "            num_layers=1,\n",
    "            batch_first=True,\n",
    "            # use batch_first for input with another data shape with b first\n",
    "        )\n",
    "        # compress output to the same dim as y\n",
    "        self.linear = nn.Linear(hidden_size, output_size)\n",
    "\n",
    "    def forward(self, x, hidden_prev):\n",
    "        out, hidden_prev = self.rnn(x, hidden_prev)\n",
    "        # [1, seq, h] => [seq, h]  (batch=1)\n",
    "        out = out.reshape(-1, hidden_size)  # stack batch and seq\n",
    "\n",
    "        # linear layer so that output is not [seq,h] but [seq, 1]\n",
    "        # so it is comparable with y, for loss calculation\n",
    "        out = self.linear(out)  # [seq, h] => [seq, 1]\n",
    "        out = out.unsqueeze(dim=0)  # => [1, seq, 1]\n",
    "        return out, hidden_prev\n",
    "\n",
    "\n",
    "\n",
    "model = RNN_Model()\n",
    "criterion = nn.MSELoss()\n",
    "optimizer = torch.optim.Adam(model.parameters(), lr)\n",
    "\n",
    "hidden_prev = torch.zeros(1, 1, hidden_size)  # [b, layer, mem_size]"
   ]
  },
  {
   "cell_type": "code",
   "execution_count": 56,
   "metadata": {},
   "outputs": [],
   "source": [
    "EPOCHS = 1000\n",
    "\n",
    "training_loop(model=model,\n",
    "              dataloader=train_dataloader,\n",
    "              epochs = EPOCHS,\n",
    "              optimizer=optimizer,\n",
    "              loss_fn=loss_fn)"
   ]
  },
  {
   "cell_type": "code",
   "execution_count": null,
   "metadata": {},
   "outputs": [],
   "source": []
  }
 ],
 "metadata": {
  "kernelspec": {
   "display_name": "base",
   "language": "python",
   "name": "python3"
  },
  "language_info": {
   "codemirror_mode": {
    "name": "ipython",
    "version": 3
   },
   "file_extension": ".py",
   "mimetype": "text/x-python",
   "name": "python",
   "nbconvert_exporter": "python",
   "pygments_lexer": "ipython3",
   "version": "3.10.14"
  }
 },
 "nbformat": 4,
 "nbformat_minor": 2
}

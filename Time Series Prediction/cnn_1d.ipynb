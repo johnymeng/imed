{
 "cells": [
  {
   "cell_type": "code",
   "execution_count": null,
   "metadata": {},
   "outputs": [],
   "source": [
    "import torch\n",
    "import pandas as pd\n",
    "import numpy as np\n",
    "from torch import nn\n",
    "import os\n",
    "import sklearn\n",
    "import matplotlib.pyplot as plt\n",
    "import sys\n",
    "import re"
   ]
  },
  {
   "cell_type": "markdown",
   "metadata": {},
   "source": [
    "### For Colab"
   ]
  },
  {
   "cell_type": "code",
   "execution_count": null,
   "metadata": {},
   "outputs": [],
   "source": [
    "# # This mounts your Google Drive to the Colab VM.\n",
    "# from google.colab import drive\n",
    "# drive.mount('/content/drive')\n",
    "\n",
    "# # TODO: Enter the foldername in your Drive where you have saved the unzipped\n",
    "# # assignment folder, e.g. 'cs231n/assignments/assignment1/'\n",
    "# FOLDERNAME = 'PyTorch Test Project/N_TXT'\n",
    "# assert FOLDERNAME is not None, \"[!] Enter the foldername.\"\n",
    "\n",
    "# # Now that we've mounted your Drive, this ensures that\n",
    "# # the Python interpreter of the Colab VM can load\n",
    "# # python files from within it.\n",
    "# import sys\n",
    "# sys.path.append('/content/drive/My Drive/{}'.format(FOLDERNAME))\n",
    "\n",
    "# # This downloads the CIFAR-10 dataset to your Drive\n",
    "# # if it doesn't already exist.\n",
    "# # %cd /content/drive/My\\ Drive/$FOLDERNAME/cs231n/datasets/\n",
    "# # !bash get_datasets.sh\n",
    "# # %cd /content/drive/My\\ Drive/$FOLDERNAME"
   ]
  },
  {
   "cell_type": "code",
   "execution_count": null,
   "metadata": {},
   "outputs": [],
   "source": [
    "# path = \"/content/drive/MyDrive/PyTorch Test Project/N_TXT\"\n",
    "\n",
    "# os.chdir(path)\n",
    "\n",
    "# fx_data = np.array([], dtype=np.float32)\n",
    "\n",
    "# #gets data from file specified by file_path\n",
    "# def get_contents(file_path):\n",
    "#     global fx_data\n",
    "#     skip_lines = 7\n",
    "\n",
    "#     with open(file_path,'r') as file:\n",
    "\n",
    "#         for skips in range(skip_lines):\n",
    "#             next(file)\n",
    "\n",
    "#         lines = file.readlines()[:-1]\n",
    "\n",
    "#         for line in lines:\n",
    "#             data = line.split()[-1]\n",
    "#             fx_data = np.append(fx_data, np.float32(data))\n",
    "#             #print(data)"
   ]
  },
  {
   "cell_type": "code",
   "execution_count": null,
   "metadata": {},
   "outputs": [],
   "source": [
    "path = \"/Users/jm/VS Code/ML/Time Series Prediction/N_TXT\"\n",
    "\n",
    "os.chdir(path)\n",
    "\n",
    "fx_data = np.array([], dtype=np.float32)\n",
    "\n",
    "#gets data from file specified by file_path\n",
    "def get_contents(file_path):\n",
    "    global fx_data\n",
    "    skip_lines = 7\n",
    "\n",
    "    with open(file_path,'r') as file:\n",
    "\n",
    "        for skips in range(skip_lines):\n",
    "            next(file)\n",
    "\n",
    "        lines = file.readlines()[:-1]\n",
    "\n",
    "        for line in lines:\n",
    "            data = line.split()[-1]\n",
    "            fx_data = np.append(fx_data, np.float32(data))\n",
    "            #print(data)"
   ]
  },
  {
   "cell_type": "code",
   "execution_count": null,
   "metadata": {},
   "outputs": [],
   "source": [
    "#go through all files in directory and extract data from txt files\n",
    "for file in os.listdir():\n",
    "    if file.endswith(\".txt\"):\n",
    "        file_path = f\"{path}/{file}\"\n",
    "\n",
    "        print(f\"Currently working on: {file_path}\")\n",
    "        get_contents(file_path)\n",
    "\n",
    "fx_data.dtype"
   ]
  },
  {
   "cell_type": "code",
   "execution_count": null,
   "metadata": {},
   "outputs": [],
   "source": [
    "#create time \"sample\" for dataframe\n",
    "time_data = np.array([], dtype=np.float32)\n",
    "\n",
    "for x in range(len(fx_data)):\n",
    "    time_data = np.append(time_data, np.float32(x))\n",
    "    type(x)\n",
    "\n",
    "time_data, time_data[0].dtype"
   ]
  },
  {
   "cell_type": "code",
   "execution_count": null,
   "metadata": {},
   "outputs": [],
   "source": [
    "#create time \"sample\" for dataframe\n",
    "dataset = pd.DataFrame({\"Time\": time_data,\n",
    "                        \"FX Channel\": fx_data})\n",
    "dataset"
   ]
  },
  {
   "cell_type": "code",
   "execution_count": null,
   "metadata": {},
   "outputs": [],
   "source": [
    "plt.plot(dataset[\"Time\"], dataset[\"FX Channel\"]), type(dataset)"
   ]
  },
  {
   "cell_type": "code",
   "execution_count": null,
   "metadata": {},
   "outputs": [],
   "source": [
    "from copy import deepcopy as dc\n",
    "\n",
    "def lstm_dataframe(df, n_steps):\n",
    "    df = dc(df)\n",
    "    \n",
    "    # df.set_index(\"FX Channel\")\n",
    "\n",
    "    for i in range(1, n_steps+1):\n",
    "        df[f'Time(t-{i})'] = df['Time'].shift(i)\n",
    "        \n",
    "    df.dropna(inplace=True)\n",
    "    \n",
    "    return df\n",
    "\n",
    "n_steps = 7\n",
    "shifted_df = lstm_dataframe(dataset, n_steps)\n",
    "\n",
    "shifted_df, shifted_df.shape"
   ]
  },
  {
   "cell_type": "code",
   "execution_count": null,
   "metadata": {},
   "outputs": [],
   "source": [
    "columnsTitles = ['FX Channel', 'Time']\n",
    "\n",
    "for i in range(n_steps+1):\n",
    "    columnsTitles.append(f\"Time(t-{i})\")\n",
    "\n",
    "shifted_df = shifted_df.reindex(columns=columnsTitles)\n",
    "shifted_df = shifted_df.drop(columns=[\"Time(t-0)\"])\n",
    "\n",
    "shifted_df, type(columnsTitles), len(columnsTitles), shifted_df.shape"
   ]
  },
  {
   "cell_type": "code",
   "execution_count": null,
   "metadata": {},
   "outputs": [],
   "source": [
    "dataset = shifted_df.to_numpy()\n",
    "\n",
    "dataset.shape, dataset"
   ]
  },
  {
   "cell_type": "code",
   "execution_count": null,
   "metadata": {},
   "outputs": [],
   "source": [
    "X = dataset[:, 1:]\n",
    "y = dataset[:, 0]\n",
    "\n",
    "X.shape, y.shape, y[0], X[0]"
   ]
  },
  {
   "cell_type": "code",
   "execution_count": null,
   "metadata": {},
   "outputs": [],
   "source": [
    "X = dc(np.flip(X, axis=1))\n",
    "X"
   ]
  },
  {
   "cell_type": "code",
   "execution_count": null,
   "metadata": {},
   "outputs": [],
   "source": [
    "#trying to split data loader now? not too sure if this is the best way\n",
    "split_idx = int(0.8 * len(dataset))\n",
    "\n",
    "X_train = X[:split_idx]\n",
    "X_test = X[split_idx:]\n",
    "\n",
    "y_train = y[:split_idx]\n",
    "y_test = y[split_idx:]\n",
    "\n",
    "X_train.shape, X_test.shape, y_train.shape, y_test.shape"
   ]
  },
  {
   "cell_type": "code",
   "execution_count": null,
   "metadata": {},
   "outputs": [],
   "source": [
    "# X_train = torch.from_numpy(X_train.to_numpy()).type(torch.float32)\n",
    "# y_train = torch.from_numpy(y_train.to_numpy()).type(torch.float32)\n",
    "# X_test = torch.from_numpy(X_test.to_numpy()).type(torch.float32)\n",
    "# y_test = torch.from_numpy(y_test.to_numpy()).type(torch.float32)\n",
    "\n",
    "# X_train.shape, X_test.shape, y_train.shape, y_test.shape"
   ]
  },
  {
   "cell_type": "code",
   "execution_count": null,
   "metadata": {},
   "outputs": [],
   "source": [
    "from sklearn.preprocessing import MinMaxScaler\n",
    "\n",
    "scaler = MinMaxScaler(feature_range=(0, 1))\n",
    "\n",
    "X_train = scaler.fit_transform(X_train.reshape(-1, 1))\n",
    "X_test = scaler.fit_transform(X_test.reshape(-1, 1))\n",
    "\n",
    "y_train = scaler.fit_transform(y_train.reshape(-1,1))\n",
    "y_test = scaler.fit_transform(y_test.reshape(-1,1))"
   ]
  },
  {
   "cell_type": "code",
   "execution_count": null,
   "metadata": {},
   "outputs": [],
   "source": [
    "X_train = torch.from_numpy(X_train).float()\n",
    "y_train = torch.from_numpy(y_train).float()\n",
    "X_test = torch.from_numpy(X_test).float()\n",
    "y_test = torch.from_numpy(y_test).float()\n",
    "\n",
    "X_train.shape, X_test.shape, y_train.shape, y_test.shape"
   ]
  },
  {
   "cell_type": "code",
   "execution_count": null,
   "metadata": {},
   "outputs": [],
   "source": [
    "X_train[0].dtype, type(X_train)"
   ]
  },
  {
   "cell_type": "code",
   "execution_count": null,
   "metadata": {},
   "outputs": [],
   "source": [
    "#set device\n",
    "device = \"cuda\" if torch.cuda.is_available() else \"cpu\"\n",
    "device = \"mps\" if torch.backends.mps.is_available() else \"cpu\"\n",
    "\n",
    "device"
   ]
  },
  {
   "cell_type": "code",
   "execution_count": null,
   "metadata": {},
   "outputs": [],
   "source": [
    "X_train.shape, X_test.shape, y_train.shape, y_test.shape"
   ]
  },
  {
   "cell_type": "code",
   "execution_count": null,
   "metadata": {},
   "outputs": [],
   "source": [
    "from torch.utils.data import Dataset\n",
    "\n",
    "class TimeSeriesDataset(Dataset):\n",
    "    def __init__(self, X, y):\n",
    "        self.X = X\n",
    "        self.y = y\n",
    "\n",
    "    def __len__(self):\n",
    "        return len(self.X)\n",
    "\n",
    "    def __getitem__(self, i):\n",
    "        return self.X[i], self.y[i]\n",
    "    \n",
    "train_dataset = TimeSeriesDataset(X_train, y_train)\n",
    "test_dataset = TimeSeriesDataset(X_test, y_test)"
   ]
  },
  {
   "cell_type": "code",
   "execution_count": null,
   "metadata": {},
   "outputs": [],
   "source": [
    "from torch.utils.data import DataLoader\n",
    "\n",
    "#setup batch size hyperparameter\n",
    "BATCH_SIZE = 64\n",
    "\n",
    "#turn datasets into iterables (batches)\n",
    "train_loader = DataLoader(dataset=train_dataset, \n",
    "                              batch_size=BATCH_SIZE, \n",
    "                              shuffle=True, \n",
    "                              drop_last=True)\n",
    "\n",
    "test_loader = DataLoader(dataset=test_dataset, \n",
    "                              batch_size=BATCH_SIZE, \n",
    "                              shuffle=False,\n",
    "                              drop_last=True)\n",
    "\n",
    "#check out what we've created\n",
    "print(f\"Dataloaders: {train_loader, test_loader}\")\n",
    "print(f\"Length of train_dataloader: {len(train_loader)} batches of {BATCH_SIZE}\")\n",
    "print(f\"Length of train_dataloader: {len(test_loader)} batches of {BATCH_SIZE}\")"
   ]
  },
  {
   "cell_type": "code",
   "execution_count": null,
   "metadata": {},
   "outputs": [],
   "source": [
    "#set manual seed\n",
    "torch.manual_seed(42)\n",
    "torch.cuda.manual_seed(42)\n",
    "device"
   ]
  },
  {
   "cell_type": "code",
   "execution_count": null,
   "metadata": {},
   "outputs": [],
   "source": [
    "class CNN(nn.Module):\n",
    "    def __init__(self, input_size, hidden_size, output_size):\n",
    "        super().__init__()\n",
    "        self.conv_block_1 = nn.Sequential(\n",
    "            #create a conv later\n",
    "            nn.Conv1d(in_channels=input_size, \n",
    "                      out_channels=hidden_size,\n",
    "                      kernel_size=1,\n",
    "                      stride=1,\n",
    "                      padding=1), #values we can set outselves in our NN are called hyperparameters\n",
    "            nn.ReLU(),\n",
    "            nn.Conv1d(in_channels=hidden_size,\n",
    "                      out_channels = hidden_size,\n",
    "                      kernel_size=1,\n",
    "                      stride=1,\n",
    "                      padding=1\n",
    "            ),\n",
    "            nn.ReLU(),\n",
    "            nn.MaxPool1d(kernel_size=1)\n",
    "        )\n",
    "        self.regressor = nn.Sequential(\n",
    "            nn.Linear(in_features=5, \n",
    "                      out_features=output_size)\n",
    "        )\n",
    "\n",
    "    def forward(self, x):\n",
    "        x = self.conv_block_1(x)\n",
    "\n",
    "        x  = self.regressor(x)\n",
    "        return x\n",
    "\n",
    "model = CNN(1, 1, 1)\n",
    "model.to(device)\n",
    "model"
   ]
  },
  {
   "cell_type": "code",
   "execution_count": null,
   "metadata": {},
   "outputs": [],
   "source": [
    "def train_one_epoch():\n",
    "    model.train(True)\n",
    "    print(f'Epoch: {epoch + 1}')\n",
    "    running_loss = 0.0\n",
    "    train_loss = 0.0\n",
    "    \n",
    "    for batch_index, batch in enumerate(train_loader):\n",
    "        x_batch, y_batch = batch[0].to(device), batch[1].to(device)\n",
    "        # print(f\"X batch shape = {x_batch.shape}\")\n",
    "        # print(f\"y batch shape = {y_batch.shape}\")\n",
    "        output = model(x_batch)\n",
    "        loss = loss_function(output, y_batch)\n",
    "        running_loss += loss.item()\n",
    "        train_loss += loss.item()\n",
    "        \n",
    "        optimizer.zero_grad()\n",
    "        loss.backward()\n",
    "        optimizer.step()\n",
    "\n",
    "        if batch_index % 100 == 99:  # print every 100 batches\n",
    "            avg_loss_across_batches = running_loss / 100\n",
    "            print('Batch {0}, Loss: {1:.3f}'.format(batch_index+1,\n",
    "                                                    avg_loss_across_batches))\n",
    "            running_loss = 0.0\n",
    "\n",
    "    global train_acc\n",
    "    train_acc = np.append(train_acc, train_loss/len(train_loader))\n",
    "    print()"
   ]
  },
  {
   "cell_type": "code",
   "execution_count": null,
   "metadata": {},
   "outputs": [],
   "source": [
    "def validate_one_epoch():\n",
    "    model.eval()\n",
    "    running_loss = 0.0\n",
    "    test_loss = 0.0\n",
    "    \n",
    "    for batch_index, batch in enumerate(test_loader):\n",
    "        x_batch, y_batch = batch[0].to(device), batch[1].to(device)\n",
    "        # print(f\"X batch shape = {x_batch.shape}\")\n",
    "        # print(f\"y batch shape = {y_batch.shape}\")\n",
    "        with torch.inference_mode():\n",
    "            output = model(x_batch)\n",
    "            # print(f\"{y_batch.shape}\")\n",
    "            loss = loss_function(output, y_batch)\n",
    "            running_loss += loss.item()\n",
    "            test_loss += loss.item()\n",
    "                \n",
    "\n",
    "    avg_loss_across_batches = running_loss / len(test_loader)\n",
    "    \n",
    "    global test_acc\n",
    "    test_acc = np.append(test_acc, avg_loss_across_batches)\n",
    "\n",
    "    test_loss = 0.0\n",
    "    \n",
    "    print('Val Loss: {0:.3f}'.format(avg_loss_across_batches))\n",
    "    print('***************************************************')\n",
    "    print()"
   ]
  },
  {
   "cell_type": "code",
   "execution_count": null,
   "metadata": {},
   "outputs": [],
   "source": [
    "learning_rate = 0.01\n",
    "num_epochs = 25\n",
    "loss_function = nn.MSELoss()\n",
    "# optimizer = torch.optim.Adam(model.parameters(), \n",
    "#                              lr=learning_rate, \n",
    "#                              weight_decay=1e-5)\n",
    "\n",
    "optimizer = torch.optim.Adam(model.parameters(), \n",
    "                             lr=learning_rate\n",
    "                            )\n",
    "train_acc = np.array([])\n",
    "test_acc = np.array([])\n",
    "\n",
    "for epoch in range(num_epochs):\n",
    "    train_one_epoch()\n",
    "    validate_one_epoch()"
   ]
  },
  {
   "cell_type": "code",
   "execution_count": null,
   "metadata": {},
   "outputs": [],
   "source": [
    "X_train.shape, len(X_train)"
   ]
  },
  {
   "cell_type": "code",
   "execution_count": null,
   "metadata": {},
   "outputs": [],
   "source": [
    "print(model)"
   ]
  },
  {
   "cell_type": "code",
   "execution_count": null,
   "metadata": {},
   "outputs": [],
   "source": []
  },
  {
   "cell_type": "code",
   "execution_count": null,
   "metadata": {},
   "outputs": [],
   "source": [
    "def make_predictions(model: torch.nn.Module,\n",
    "                     data: torch.utils.data.DataLoader,\n",
    "                     device: torch.device = device):\n",
    "    pred_probs = []\n",
    "    model.to(device)\n",
    "    model.eval()\n",
    "    with torch.inference_mode():\n",
    "        print(f\"loader size: {len(data)}\")\n",
    "        for batch_index, batch in enumerate(data):\n",
    "            \n",
    "            x_batch, y_batch = batch[0].to(device), batch[1].to(device)\n",
    "            \n",
    "            pred = model(x_batch)\n",
    "            #print(pred)\n",
    "            pred_probs.append(pred.cpu().squeeze(dim=1))\n",
    "\n",
    "    #stack turns list into a tensor\n",
    "    return pred_probs"
   ]
  },
  {
   "cell_type": "code",
   "execution_count": null,
   "metadata": {},
   "outputs": [],
   "source": [
    "plt.plot(train_acc, label='Train Acc')\n",
    "plt.plot(test_acc, label='Test Acc')\n",
    "plt.xlabel('Time')\n",
    "plt.ylabel('Loss')\n",
    "plt.legend()\n",
    "plt.show()"
   ]
  },
  {
   "cell_type": "code",
   "execution_count": null,
   "metadata": {},
   "outputs": [],
   "source": [
    "model.eval()\n",
    "\n",
    "\n",
    "predicted = make_predictions(model, \n",
    "                             train_loader, \n",
    "                             device)\n",
    "\n",
    "plt.plot(y_train, label='Actual FX')\n",
    "plt.plot(predicted, label='Predicted FX')\n",
    "plt.xlabel('Time')\n",
    "plt.ylabel('FX Channel')\n",
    "plt.legend()\n",
    "plt.show()\n"
   ]
  },
  {
   "cell_type": "code",
   "execution_count": null,
   "metadata": {},
   "outputs": [],
   "source": [
    "type(predicted)"
   ]
  },
  {
   "cell_type": "code",
   "execution_count": null,
   "metadata": {},
   "outputs": [],
   "source": [
    "model.eval()\n",
    "with torch.inference_mode():\n",
    "    test_pred = model(X_test.to(device)).to('cpu').numpy()\n",
    "\n",
    "plt.plot(y_test, label='Actual FX')\n",
    "plt.plot(test_pred, label='Test Predicted FX')\n",
    "plt.xlabel('Time')\n",
    "plt.ylabel('FX Channel')\n",
    "plt.legend()\n",
    "plt.show()"
   ]
  },
  {
   "cell_type": "code",
   "execution_count": null,
   "metadata": {},
   "outputs": [],
   "source": [
    "X_test.shape, X_test[0]"
   ]
  },
  {
   "cell_type": "code",
   "execution_count": null,
   "metadata": {},
   "outputs": [],
   "source": [
    "temp = torch.arange(0, 1, 0.000016)\n",
    "temp = temp.unsqueeze(dim=1)\n",
    "temp.shape"
   ]
  },
  {
   "cell_type": "code",
   "execution_count": null,
   "metadata": {},
   "outputs": [],
   "source": [
    "model.eval()\n",
    "with torch.inference_mode():\n",
    "    test_pred = model(temp.unsqueeze(dim=1)).to('cpu').numpy()\n",
    "\n",
    "# plt.xlim(0, (10000))\n",
    "# plt.ylim(-0, 1)\n",
    "# plt.autoscale(False)\n",
    "plt.plot(y_test, label='Actual FX')\n",
    "plt.plot(test_pred, label='Test Predicted FX')\n",
    "plt.xlabel('Time')\n",
    "plt.ylabel('FX Channel')\n",
    "plt.legend()\n",
    "plt.show()"
   ]
  },
  {
   "cell_type": "code",
   "execution_count": null,
   "metadata": {},
   "outputs": [],
   "source": [
    "model.eval()\n",
    "with torch.inference_mode():\n",
    "    test_pred = model(X_test).to('cpu').numpy()\n",
    "\n",
    "plt.plot(y_test, label='Actual FX')\n",
    "plt.plot(test_pred, label='Test Predicted FX')\n",
    "plt.xlabel('Time')\n",
    "plt.ylabel('FX Channel')\n",
    "plt.legend()\n",
    "plt.show()"
   ]
  },
  {
   "cell_type": "code",
   "execution_count": null,
   "metadata": {},
   "outputs": [],
   "source": [
    "y_test[0], y_test[5800], y_train[0], y_train[23000]"
   ]
  },
  {
   "cell_type": "code",
   "execution_count": null,
   "metadata": {},
   "outputs": [],
   "source": [
    "X_test.max(), X_test.min()"
   ]
  },
  {
   "cell_type": "code",
   "execution_count": null,
   "metadata": {},
   "outputs": [],
   "source": []
  }
 ],
 "metadata": {
  "kernelspec": {
   "display_name": "base",
   "language": "python",
   "name": "python3"
  },
  "language_info": {
   "codemirror_mode": {
    "name": "ipython",
    "version": 3
   },
   "file_extension": ".py",
   "mimetype": "text/x-python",
   "name": "python",
   "nbconvert_exporter": "python",
   "pygments_lexer": "ipython3",
   "version": "3.1.-1"
  }
 },
 "nbformat": 4,
 "nbformat_minor": 2
}

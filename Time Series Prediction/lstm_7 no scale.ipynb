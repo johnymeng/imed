{
 "cells": [
  {
   "cell_type": "code",
   "execution_count": 33,
   "metadata": {},
   "outputs": [],
   "source": [
    "import torch\n",
    "import pandas as pd\n",
    "import numpy as np\n",
    "from torch import nn\n",
    "import os\n",
    "import sklearn\n",
    "import matplotlib.pyplot as plt\n",
    "import sys\n",
    "import re"
   ]
  },
  {
   "cell_type": "markdown",
   "metadata": {},
   "source": [
    "### For Colab"
   ]
  },
  {
   "cell_type": "code",
   "execution_count": 34,
   "metadata": {},
   "outputs": [
    {
     "data": {
      "text/plain": [
       "device(type='mps', index=0)"
      ]
     },
     "execution_count": 34,
     "metadata": {},
     "output_type": "execute_result"
    }
   ],
   "source": [
    "mps_device = torch.device(\"mps\")\n",
    "\n",
    "# Create a Tensor directly on the mps device\n",
    "x = torch.ones(5, device=mps_device)\n",
    "# Or\n",
    "x = torch.ones(5, device=\"mps\")\n",
    "\n",
    "x.device"
   ]
  },
  {
   "cell_type": "code",
   "execution_count": 35,
   "metadata": {},
   "outputs": [],
   "source": [
    "# # This mounts your Google Drive to the Colab VM.\n",
    "# from google.colab import drive\n",
    "# drive.mount('/content/drive')\n",
    "\n",
    "# # TODO: Enter the foldername in your Drive where you have saved the unzipped\n",
    "# # assignment folder, e.g. 'cs231n/assignments/assignment1/'\n",
    "# FOLDERNAME = 'PyTorch Test Project/N_TXT'\n",
    "# assert FOLDERNAME is not None, \"[!] Enter the foldername.\"\n",
    "\n",
    "# # Now that we've mounted your Drive, this ensures that\n",
    "# # the Python interpreter of the Colab VM can load\n",
    "# # python files from within it.\n",
    "# import sys\n",
    "# sys.path.append('/content/drive/My Drive/{}'.format(FOLDERNAME))\n",
    "\n",
    "# # This downloads the CIFAR-10 dataset to your Drive\n",
    "# # if it doesn't already exist.\n",
    "# # %cd /content/drive/My\\ Drive/$FOLDERNAME/cs231n/datasets/\n",
    "# # !bash get_datasets.sh\n",
    "# # %cd /content/drive/My\\ Drive/$FOLDERNAME"
   ]
  },
  {
   "cell_type": "code",
   "execution_count": 36,
   "metadata": {},
   "outputs": [],
   "source": [
    "# path = \"/content/drive/MyDrive/PyTorch Test Project/N_TXT\"\n",
    "\n",
    "# os.chdir(path)\n",
    "\n",
    "# fx_data = np.array([], dtype=np.float32)\n",
    "\n",
    "# #gets data from file specified by file_path\n",
    "# def get_contents(file_path):\n",
    "#     global fx_data\n",
    "#     skip_lines = 7\n",
    "\n",
    "#     with open(file_path,'r') as file:\n",
    "\n",
    "#         for skips in range(skip_lines):\n",
    "#             next(file)\n",
    "\n",
    "#         lines = file.readlines()[:-1]\n",
    "\n",
    "#         for line in lines:\n",
    "#             data = line.split()[-1]\n",
    "#             fx_data = np.append(fx_data, np.float32(data))\n",
    "#             #print(data)"
   ]
  },
  {
   "cell_type": "code",
   "execution_count": 37,
   "metadata": {},
   "outputs": [],
   "source": [
    "path = \"/Users/jm/VS Code/ML/Time Series Prediction/N_TXT\"\n",
    "\n",
    "os.chdir(path)\n",
    "\n",
    "fx_data = np.array([], dtype=np.float32)\n",
    "\n",
    "#gets data from file specified by file_path\n",
    "def get_contents(file_path):\n",
    "    global fx_data\n",
    "    skip_lines = 7\n",
    "\n",
    "    with open(file_path,'r') as file:\n",
    "\n",
    "        for skips in range(skip_lines):\n",
    "            next(file)\n",
    "\n",
    "        lines = file.readlines()[:-1]\n",
    "\n",
    "        for line in lines:\n",
    "            data = line.split()[-1]\n",
    "            fx_data = np.append(fx_data, np.float32(data))\n",
    "            #print(data)"
   ]
  },
  {
   "cell_type": "code",
   "execution_count": 38,
   "metadata": {},
   "outputs": [
    {
     "name": "stdout",
     "output_type": "stream",
     "text": [
      "Currently working on: /Users/jm/VS Code/ML/Time Series Prediction/N_TXT/1Npie.txt\n",
      "Currently working on: /Users/jm/VS Code/ML/Time Series Prediction/N_TXT/2Npie.txt\n"
     ]
    },
    {
     "data": {
      "text/plain": [
       "dtype('float32')"
      ]
     },
     "execution_count": 38,
     "metadata": {},
     "output_type": "execute_result"
    }
   ],
   "source": [
    "#go through all files in directory and extract data from txt files\n",
    "for file in os.listdir():\n",
    "    if file.endswith(\".txt\"):\n",
    "        file_path = f\"{path}/{file}\"\n",
    "        \n",
    "        if (re.match(\"/Users/jm/VS Code/ML/Time Series Prediction/N_TXT/1Npie.txt\", file_path) or\n",
    "            re.match(\"/Users/jm/VS Code/ML/Time Series Prediction/N_TXT/2Npie.txt\", file_path)):\n",
    "            print(f\"Currently working on: {file_path}\")\n",
    "            get_contents(file_path)\n",
    "\n",
    "fx_data.dtype"
   ]
  },
  {
   "cell_type": "code",
   "execution_count": 39,
   "metadata": {},
   "outputs": [
    {
     "data": {
      "text/plain": [
       "(array([0.0000e+00, 1.0000e+00, 2.0000e+00, ..., 2.9037e+04, 2.9038e+04,\n",
       "        2.9039e+04], dtype=float32),\n",
       " dtype('float32'))"
      ]
     },
     "execution_count": 39,
     "metadata": {},
     "output_type": "execute_result"
    }
   ],
   "source": [
    "#create time \"sample\" for dataframe\n",
    "time_data = np.array([], dtype=np.float32)\n",
    "\n",
    "for x in range(len(fx_data)):\n",
    "    time_data = np.append(time_data, np.float32(x))\n",
    "    type(x)\n",
    "\n",
    "time_data, time_data[0].dtype"
   ]
  },
  {
   "cell_type": "code",
   "execution_count": 40,
   "metadata": {},
   "outputs": [
    {
     "data": {
      "text/html": [
       "<div>\n",
       "<style scoped>\n",
       "    .dataframe tbody tr th:only-of-type {\n",
       "        vertical-align: middle;\n",
       "    }\n",
       "\n",
       "    .dataframe tbody tr th {\n",
       "        vertical-align: top;\n",
       "    }\n",
       "\n",
       "    .dataframe thead th {\n",
       "        text-align: right;\n",
       "    }\n",
       "</style>\n",
       "<table border=\"1\" class=\"dataframe\">\n",
       "  <thead>\n",
       "    <tr style=\"text-align: right;\">\n",
       "      <th></th>\n",
       "      <th>Time</th>\n",
       "      <th>FX Channel</th>\n",
       "    </tr>\n",
       "  </thead>\n",
       "  <tbody>\n",
       "    <tr>\n",
       "      <th>0</th>\n",
       "      <td>0.0</td>\n",
       "      <td>3.0</td>\n",
       "    </tr>\n",
       "    <tr>\n",
       "      <th>1</th>\n",
       "      <td>1.0</td>\n",
       "      <td>3.0</td>\n",
       "    </tr>\n",
       "    <tr>\n",
       "      <th>2</th>\n",
       "      <td>2.0</td>\n",
       "      <td>3.0</td>\n",
       "    </tr>\n",
       "    <tr>\n",
       "      <th>3</th>\n",
       "      <td>3.0</td>\n",
       "      <td>3.0</td>\n",
       "    </tr>\n",
       "    <tr>\n",
       "      <th>4</th>\n",
       "      <td>4.0</td>\n",
       "      <td>3.0</td>\n",
       "    </tr>\n",
       "    <tr>\n",
       "      <th>...</th>\n",
       "      <td>...</td>\n",
       "      <td>...</td>\n",
       "    </tr>\n",
       "    <tr>\n",
       "      <th>29035</th>\n",
       "      <td>29035.0</td>\n",
       "      <td>10.1</td>\n",
       "    </tr>\n",
       "    <tr>\n",
       "      <th>29036</th>\n",
       "      <td>29036.0</td>\n",
       "      <td>10.1</td>\n",
       "    </tr>\n",
       "    <tr>\n",
       "      <th>29037</th>\n",
       "      <td>29037.0</td>\n",
       "      <td>10.1</td>\n",
       "    </tr>\n",
       "    <tr>\n",
       "      <th>29038</th>\n",
       "      <td>29038.0</td>\n",
       "      <td>10.1</td>\n",
       "    </tr>\n",
       "    <tr>\n",
       "      <th>29039</th>\n",
       "      <td>29039.0</td>\n",
       "      <td>10.1</td>\n",
       "    </tr>\n",
       "  </tbody>\n",
       "</table>\n",
       "<p>29040 rows × 2 columns</p>\n",
       "</div>"
      ],
      "text/plain": [
       "          Time  FX Channel\n",
       "0          0.0         3.0\n",
       "1          1.0         3.0\n",
       "2          2.0         3.0\n",
       "3          3.0         3.0\n",
       "4          4.0         3.0\n",
       "...        ...         ...\n",
       "29035  29035.0        10.1\n",
       "29036  29036.0        10.1\n",
       "29037  29037.0        10.1\n",
       "29038  29038.0        10.1\n",
       "29039  29039.0        10.1\n",
       "\n",
       "[29040 rows x 2 columns]"
      ]
     },
     "execution_count": 40,
     "metadata": {},
     "output_type": "execute_result"
    }
   ],
   "source": [
    "#create time \"sample\" for dataframe\n",
    "dataset = pd.DataFrame({\"Time\": time_data,\n",
    "                        \"FX Channel\": fx_data})\n",
    "dataset"
   ]
  },
  {
   "cell_type": "code",
   "execution_count": 41,
   "metadata": {},
   "outputs": [
    {
     "data": {
      "text/plain": [
       "([<matplotlib.lines.Line2D at 0x3375a4880>], pandas.core.frame.DataFrame)"
      ]
     },
     "execution_count": 41,
     "metadata": {},
     "output_type": "execute_result"
    },
    {
     "data": {
      "image/png": "[encoded data removed]",
      "text/plain": [
       "<Figure size 640x480 with 1 Axes>"
      ]
     },
     "metadata": {},
     "output_type": "display_data"
    }
   ],
   "source": [
    "plt.plot(dataset[\"Time\"], dataset[\"FX Channel\"]), type(dataset)"
   ]
  },
  {
   "cell_type": "code",
   "execution_count": 42,
   "metadata": {},
   "outputs": [
    {
     "data": {
      "text/plain": [
       "(          Time  FX Channel  Time(t-1)  Time(t-2)  Time(t-3)  Time(t-4)  \\\n",
       " 7          7.0         3.0        6.0        5.0        4.0        3.0   \n",
       " 8          8.0         3.0        7.0        6.0        5.0        4.0   \n",
       " 9          9.0         3.0        8.0        7.0        6.0        5.0   \n",
       " 10        10.0         3.0        9.0        8.0        7.0        6.0   \n",
       " 11        11.0         3.0       10.0        9.0        8.0        7.0   \n",
       " ...        ...         ...        ...        ...        ...        ...   \n",
       " 29035  29035.0        10.1    29034.0    29033.0    29032.0    29031.0   \n",
       " 29036  29036.0        10.1    29035.0    29034.0    29033.0    29032.0   \n",
       " 29037  29037.0        10.1    29036.0    29035.0    29034.0    29033.0   \n",
       " 29038  29038.0        10.1    29037.0    29036.0    29035.0    29034.0   \n",
       " 29039  29039.0        10.1    29038.0    29037.0    29036.0    29035.0   \n",
       " \n",
       "        Time(t-5)  Time(t-6)  Time(t-7)  \n",
       " 7            2.0        1.0        0.0  \n",
       " 8            3.0        2.0        1.0  \n",
       " 9            4.0        3.0        2.0  \n",
       " 10           5.0        4.0        3.0  \n",
       " 11           6.0        5.0        4.0  \n",
       " ...          ...        ...        ...  \n",
       " 29035    29030.0    29029.0    29028.0  \n",
       " 29036    29031.0    29030.0    29029.0  \n",
       " 29037    29032.0    29031.0    29030.0  \n",
       " 29038    29033.0    29032.0    29031.0  \n",
       " 29039    29034.0    29033.0    29032.0  \n",
       " \n",
       " [29033 rows x 9 columns],\n",
       " (29033, 9))"
      ]
     },
     "execution_count": 42,
     "metadata": {},
     "output_type": "execute_result"
    }
   ],
   "source": [
    "from copy import deepcopy as dc\n",
    "\n",
    "def lstm_dataframe(df, n_steps):\n",
    "    df = dc(df)\n",
    "    \n",
    "    # df.set_index(\"FX Channel\")\n",
    "\n",
    "    for i in range(1, n_steps+1):\n",
    "        df[f'Time(t-{i})'] = df['Time'].shift(i)\n",
    "        \n",
    "    df.dropna(inplace=True)\n",
    "    \n",
    "    return df\n",
    "\n",
    "n_steps = 7\n",
    "shifted_df = lstm_dataframe(dataset, n_steps)\n",
    "\n",
    "shifted_df, shifted_df.shape"
   ]
  },
  {
   "cell_type": "code",
   "execution_count": 43,
   "metadata": {},
   "outputs": [
    {
     "data": {
      "text/plain": [
       "(       FX Channel     Time  Time(t-1)  Time(t-2)  Time(t-3)  Time(t-4)  \\\n",
       " 7             3.0      7.0        6.0        5.0        4.0        3.0   \n",
       " 8             3.0      8.0        7.0        6.0        5.0        4.0   \n",
       " 9             3.0      9.0        8.0        7.0        6.0        5.0   \n",
       " 10            3.0     10.0        9.0        8.0        7.0        6.0   \n",
       " 11            3.0     11.0       10.0        9.0        8.0        7.0   \n",
       " ...           ...      ...        ...        ...        ...        ...   \n",
       " 29035        10.1  29035.0    29034.0    29033.0    29032.0    29031.0   \n",
       " 29036        10.1  29036.0    29035.0    29034.0    29033.0    29032.0   \n",
       " 29037        10.1  29037.0    29036.0    29035.0    29034.0    29033.0   \n",
       " 29038        10.1  29038.0    29037.0    29036.0    29035.0    29034.0   \n",
       " 29039        10.1  29039.0    29038.0    29037.0    29036.0    29035.0   \n",
       " \n",
       "        Time(t-5)  Time(t-6)  Time(t-7)  \n",
       " 7            2.0        1.0        0.0  \n",
       " 8            3.0        2.0        1.0  \n",
       " 9            4.0        3.0        2.0  \n",
       " 10           5.0        4.0        3.0  \n",
       " 11           6.0        5.0        4.0  \n",
       " ...          ...        ...        ...  \n",
       " 29035    29030.0    29029.0    29028.0  \n",
       " 29036    29031.0    29030.0    29029.0  \n",
       " 29037    29032.0    29031.0    29030.0  \n",
       " 29038    29033.0    29032.0    29031.0  \n",
       " 29039    29034.0    29033.0    29032.0  \n",
       " \n",
       " [29033 rows x 9 columns],\n",
       " list,\n",
       " 10,\n",
       " (29033, 9))"
      ]
     },
     "execution_count": 43,
     "metadata": {},
     "output_type": "execute_result"
    }
   ],
   "source": [
    "columnsTitles = ['FX Channel', 'Time']\n",
    "\n",
    "for i in range(n_steps+1):\n",
    "    columnsTitles.append(f\"Time(t-{i})\")\n",
    "\n",
    "shifted_df = shifted_df.reindex(columns=columnsTitles)\n",
    "shifted_df = shifted_df.drop(columns=[\"Time(t-0)\"])\n",
    "\n",
    "shifted_df, type(columnsTitles), len(columnsTitles), shifted_df.shape"
   ]
  },
  {
   "cell_type": "code",
   "execution_count": 44,
   "metadata": {},
   "outputs": [
    {
     "data": {
      "text/plain": [
       "((29033, 9),\n",
       " array([[3.0000e+00, 7.0000e+00, 6.0000e+00, ..., 2.0000e+00, 1.0000e+00,\n",
       "         0.0000e+00],\n",
       "        [3.0000e+00, 8.0000e+00, 7.0000e+00, ..., 3.0000e+00, 2.0000e+00,\n",
       "         1.0000e+00],\n",
       "        [3.0000e+00, 9.0000e+00, 8.0000e+00, ..., 4.0000e+00, 3.0000e+00,\n",
       "         2.0000e+00],\n",
       "        ...,\n",
       "        [1.0100e+01, 2.9037e+04, 2.9036e+04, ..., 2.9032e+04, 2.9031e+04,\n",
       "         2.9030e+04],\n",
       "        [1.0100e+01, 2.9038e+04, 2.9037e+04, ..., 2.9033e+04, 2.9032e+04,\n",
       "         2.9031e+04],\n",
       "        [1.0100e+01, 2.9039e+04, 2.9038e+04, ..., 2.9034e+04, 2.9033e+04,\n",
       "         2.9032e+04]], dtype=float32))"
      ]
     },
     "execution_count": 44,
     "metadata": {},
     "output_type": "execute_result"
    }
   ],
   "source": [
    "dataset = shifted_df.to_numpy()\n",
    "\n",
    "dataset.shape, dataset\n"
   ]
  },
  {
   "cell_type": "code",
   "execution_count": 45,
   "metadata": {},
   "outputs": [
    {
     "data": {
      "text/plain": [
       "((29033, 8),\n",
       " (29033,),\n",
       " 3.0,\n",
       " array([7., 6., 5., 4., 3., 2., 1., 0.], dtype=float32))"
      ]
     },
     "execution_count": 45,
     "metadata": {},
     "output_type": "execute_result"
    }
   ],
   "source": [
    "X = dataset[:, 1:]\n",
    "y = dataset[:, 0]\n",
    "\n",
    "X.shape, y.shape, y[0], X[0]"
   ]
  },
  {
   "cell_type": "code",
   "execution_count": 46,
   "metadata": {},
   "outputs": [
    {
     "data": {
      "text/plain": [
       "array([[0.0000e+00, 1.0000e+00, 2.0000e+00, ..., 5.0000e+00, 6.0000e+00,\n",
       "        7.0000e+00],\n",
       "       [1.0000e+00, 2.0000e+00, 3.0000e+00, ..., 6.0000e+00, 7.0000e+00,\n",
       "        8.0000e+00],\n",
       "       [2.0000e+00, 3.0000e+00, 4.0000e+00, ..., 7.0000e+00, 8.0000e+00,\n",
       "        9.0000e+00],\n",
       "       ...,\n",
       "       [2.9030e+04, 2.9031e+04, 2.9032e+04, ..., 2.9035e+04, 2.9036e+04,\n",
       "        2.9037e+04],\n",
       "       [2.9031e+04, 2.9032e+04, 2.9033e+04, ..., 2.9036e+04, 2.9037e+04,\n",
       "        2.9038e+04],\n",
       "       [2.9032e+04, 2.9033e+04, 2.9034e+04, ..., 2.9037e+04, 2.9038e+04,\n",
       "        2.9039e+04]], dtype=float32)"
      ]
     },
     "execution_count": 46,
     "metadata": {},
     "output_type": "execute_result"
    }
   ],
   "source": [
    "X = dc(np.flip(X, axis=1))\n",
    "X"
   ]
  },
  {
   "cell_type": "code",
   "execution_count": 47,
   "metadata": {},
   "outputs": [],
   "source": [
    "# from sklearn.preprocessing import MinMaxScaler\n",
    "\n",
    "# scaler = MinMaxScaler(feature_range=(0, 1))\n",
    "\n",
    "# X = scaler.fit_transform(X)\n",
    "# y = scaler.fit_transform(y.reshape(-1,1))"
   ]
  },
  {
   "cell_type": "code",
   "execution_count": 48,
   "metadata": {},
   "outputs": [
    {
     "data": {
      "text/plain": [
       "((23226, 8), (5807, 8), (23226,), (5807,))"
      ]
     },
     "execution_count": 48,
     "metadata": {},
     "output_type": "execute_result"
    }
   ],
   "source": [
    "#trying to split data loader now? not too sure if this is the best way\n",
    "split_idx = int(0.8 * len(dataset))\n",
    "\n",
    "X_train = X[:split_idx]\n",
    "X_test = X[split_idx:]\n",
    "\n",
    "y_train = y[:split_idx]\n",
    "y_test = y[split_idx:]\n",
    "\n",
    "X_train.shape, X_test.shape, y_train.shape, y_test.shape"
   ]
  },
  {
   "cell_type": "code",
   "execution_count": 49,
   "metadata": {},
   "outputs": [],
   "source": [
    "# X_train = torch.tensor(X_train).float()\n",
    "# y_train = torch.tensor(y_train).float()\n",
    "# X_test = torch.tensor(X_test).float()\n",
    "# y_test = torch.tensor(y_test).float()\n",
    "\n",
    "# X_train.shape, X_test.shape, y_train.shape, y_test.shape"
   ]
  },
  {
   "cell_type": "code",
   "execution_count": 50,
   "metadata": {},
   "outputs": [],
   "source": [
    "# plt.plot(X_train, y_train)"
   ]
  },
  {
   "cell_type": "code",
   "execution_count": 51,
   "metadata": {},
   "outputs": [],
   "source": [
    "# from sklearn.preprocessing import MinMaxScaler\n",
    "\n",
    "# scaler = MinMaxScaler(feature_range=(0, 1))\n",
    "\n",
    "# X_train = scaler.fit_transform(X_train)\n",
    "# X_test = scaler.fit_transform(X_test)\n",
    "\n",
    "# y_train = scaler.fit_transform(y_train.reshape(-1, 1))\n",
    "# y_test = scaler.fit_transform(y_test.reshape(-1, 1))\n",
    "\n",
    "# X_train.shape, y_train.shape"
   ]
  },
  {
   "cell_type": "code",
   "execution_count": 52,
   "metadata": {},
   "outputs": [
    {
     "data": {
      "text/plain": [
       "(torch.Size([23226, 8]),\n",
       " torch.Size([5807, 8]),\n",
       " torch.Size([23226, 1]),\n",
       " torch.Size([5807, 1]))"
      ]
     },
     "execution_count": 52,
     "metadata": {},
     "output_type": "execute_result"
    }
   ],
   "source": [
    "y_train = y_train.reshape(-1, 1)\n",
    "y_test = y_test.reshape(-1, 1)\n",
    "\n",
    "X_train = torch.from_numpy(X_train).float()\n",
    "y_train = torch.from_numpy(y_train).float()\n",
    "X_test = torch.from_numpy(X_test).float()\n",
    "y_test = torch.from_numpy(y_test).float()\n",
    "\n",
    "X_train.shape, X_test.shape, y_train.shape, y_test.shape"
   ]
  },
  {
   "cell_type": "code",
   "execution_count": 53,
   "metadata": {},
   "outputs": [
    {
     "data": {
      "text/plain": [
       "torch.Tensor"
      ]
     },
     "execution_count": 53,
     "metadata": {},
     "output_type": "execute_result"
    }
   ],
   "source": [
    "type(X_train)"
   ]
  },
  {
   "cell_type": "code",
   "execution_count": 54,
   "metadata": {},
   "outputs": [
    {
     "data": {
      "text/plain": [
       "(torch.Size([23226, 8, 1]),\n",
       " torch.Size([5807, 8, 1]),\n",
       " torch.Size([23226, 1]),\n",
       " torch.Size([5807, 1]))"
      ]
     },
     "execution_count": 54,
     "metadata": {},
     "output_type": "execute_result"
    }
   ],
   "source": [
    "X_train = X_train.unsqueeze(dim = 2)\n",
    "X_test = X_test.unsqueeze(dim = 2)\n",
    "\n",
    "X_train.shape, X_test.shape, y_train.shape, y_test.shape"
   ]
  },
  {
   "cell_type": "code",
   "execution_count": 55,
   "metadata": {},
   "outputs": [
    {
     "data": {
      "text/plain": [
       "'mps'"
      ]
     },
     "execution_count": 55,
     "metadata": {},
     "output_type": "execute_result"
    }
   ],
   "source": [
    "#set device\n",
    "device = \"cuda\" if torch.cuda.is_available() else \"cpu\"\n",
    "device = \"mps\" if torch.backends.mps.is_available() else \"cpu\"\n",
    "\n",
    "device"
   ]
  },
  {
   "cell_type": "code",
   "execution_count": 56,
   "metadata": {},
   "outputs": [
    {
     "data": {
      "text/plain": [
       "(torch.Size([23226, 8, 1]),\n",
       " torch.Size([5807, 8, 1]),\n",
       " torch.Size([23226, 1]),\n",
       " torch.Size([5807, 1]))"
      ]
     },
     "execution_count": 56,
     "metadata": {},
     "output_type": "execute_result"
    }
   ],
   "source": [
    "X_train.shape, X_test.shape, y_train.shape, y_test.shape"
   ]
  },
  {
   "cell_type": "code",
   "execution_count": 57,
   "metadata": {},
   "outputs": [],
   "source": [
    "from torch.utils.data import Dataset\n",
    "\n",
    "class TimeSeriesDataset(Dataset):\n",
    "    def __init__(self, X, y):\n",
    "        self.X = X\n",
    "        self.y = y\n",
    "\n",
    "    def __len__(self):\n",
    "        return len(self.X)\n",
    "\n",
    "    def __getitem__(self, i):\n",
    "        return self.X[i], self.y[i]\n",
    "    \n",
    "train_dataset = TimeSeriesDataset(X_train, y_train)\n",
    "test_dataset = TimeSeriesDataset(X_test, y_test)"
   ]
  },
  {
   "cell_type": "code",
   "execution_count": 58,
   "metadata": {},
   "outputs": [
    {
     "name": "stdout",
     "output_type": "stream",
     "text": [
      "Dataloaders: (<torch.utils.data.dataloader.DataLoader object at 0x3375dab00>, <torch.utils.data.dataloader.DataLoader object at 0x324000d90>)\n",
      "Length of train_dataloader: 363 batches of 64\n",
      "Length of train_dataloader: 91 batches of 64\n"
     ]
    }
   ],
   "source": [
    "from torch.utils.data import DataLoader\n",
    "\n",
    "#setup batch size hyperparameter\n",
    "BATCH_SIZE = 64\n",
    "\n",
    "#turn datasets into iterables (batches)\n",
    "train_loader = DataLoader(dataset=train_dataset, \n",
    "                              batch_size=BATCH_SIZE, \n",
    "                              shuffle=True)\n",
    "\n",
    "test_loader = DataLoader(dataset=test_dataset, \n",
    "                              batch_size=BATCH_SIZE, \n",
    "                              shuffle=False)\n",
    "\n",
    "#check out what we've created\n",
    "print(f\"Dataloaders: {train_loader, test_loader}\")\n",
    "print(f\"Length of train_dataloader: {len(train_loader)} batches of {BATCH_SIZE}\")\n",
    "print(f\"Length of train_dataloader: {len(test_loader)} batches of {BATCH_SIZE}\")"
   ]
  },
  {
   "cell_type": "code",
   "execution_count": 59,
   "metadata": {},
   "outputs": [
    {
     "name": "stdout",
     "output_type": "stream",
     "text": [
      "torch.Size([64, 8, 1]) torch.Size([64, 1])\n"
     ]
    }
   ],
   "source": [
    "for _, batch in enumerate(train_loader):\n",
    "    x_batch, y_batch = batch[0].to(device), batch[1].to(device)\n",
    "    print(x_batch.shape, y_batch.shape)\n",
    "    break"
   ]
  },
  {
   "cell_type": "code",
   "execution_count": 60,
   "metadata": {},
   "outputs": [
    {
     "data": {
      "text/plain": [
       "'mps'"
      ]
     },
     "execution_count": 60,
     "metadata": {},
     "output_type": "execute_result"
    }
   ],
   "source": [
    "#set manual seed\n",
    "torch.manual_seed(42)\n",
    "torch.cuda.manual_seed(42)\n",
    "device"
   ]
  },
  {
   "cell_type": "code",
   "execution_count": 61,
   "metadata": {},
   "outputs": [
    {
     "name": "stderr",
     "output_type": "stream",
     "text": [
      "/Users/jm/miniforge3/lib/python3.10/site-packages/torch/nn/modules/rnn.py:83: UserWarning: dropout option adds dropout after all but last recurrent layer, so non-zero dropout expects num_layers greater than 1, but got dropout=0.05 and num_layers=1\n",
      "  warnings.warn(\"dropout option adds dropout after all but last \"\n"
     ]
    },
    {
     "data": {
      "text/plain": [
       "LSTM(\n",
       "  (lstm): LSTM(1, 8, batch_first=True, dropout=0.05)\n",
       "  (fc): Linear(in_features=8, out_features=1, bias=True)\n",
       ")"
      ]
     },
     "execution_count": 61,
     "metadata": {},
     "output_type": "execute_result"
    }
   ],
   "source": [
    "class LSTM(nn.Module):\n",
    "    def __init__(self, input_size, hidden_size, num_stacked_layers):\n",
    "        super().__init__()\n",
    "        self.hidden_size = hidden_size\n",
    "        self.num_stacked_layers = num_stacked_layers\n",
    "\n",
    "        self.lstm = nn.LSTM(input_size, hidden_size, num_stacked_layers, \n",
    "                            batch_first=True, dropout=0.05)\n",
    "        \n",
    "        self.fc = nn.Linear(hidden_size, 1, bias=True)\n",
    "\n",
    "    def forward(self, x):\n",
    "        batch_size = x.size(0)\n",
    "        h0 = torch.zeros(self.num_stacked_layers, batch_size, self.hidden_size).to(device)\n",
    "        c0 = torch.zeros(self.num_stacked_layers, batch_size, self.hidden_size).to(device)\n",
    "        \n",
    "        out, _ = self.lstm(x, (h0, c0))\n",
    "        out = self.fc(out[:, -1, :])\n",
    "        return out\n",
    "\n",
    "model = LSTM(1, 8, 1)\n",
    "model.to(device)\n",
    "model"
   ]
  },
  {
   "cell_type": "code",
   "execution_count": 62,
   "metadata": {},
   "outputs": [],
   "source": [
    "def train_one_epoch():\n",
    "    model.train(True)\n",
    "    print(f'Epoch: {epoch + 1}')\n",
    "    running_loss = 0.0\n",
    "    train_loss = 0.0\n",
    "    \n",
    "    for batch_index, batch in enumerate(train_loader):\n",
    "        x_batch, y_batch = batch[0].to(device), batch[1].to(device)\n",
    "        \n",
    "        output = model(x_batch)\n",
    "        loss = loss_function(output, y_batch)\n",
    "        running_loss += loss.item()\n",
    "        train_loss += loss.item()\n",
    "        \n",
    "        optimizer.zero_grad()\n",
    "        loss.backward()\n",
    "        optimizer.step()\n",
    "\n",
    "        if batch_index % 100 == 99:  # print every 100 batches\n",
    "            avg_loss_across_batches = running_loss / 100\n",
    "            print('Batch {0}, Loss: {1:.3f}'.format(batch_index+1,\n",
    "                                                    avg_loss_across_batches))\n",
    "            running_loss = 0.0\n",
    "\n",
    "    global train_acc\n",
    "    train_acc = np.append(train_acc, train_loss/len(train_loader))\n",
    "    print()"
   ]
  },
  {
   "cell_type": "code",
   "execution_count": 63,
   "metadata": {},
   "outputs": [],
   "source": [
    "def validate_one_epoch():\n",
    "    model.eval()\n",
    "    running_loss = 0.0\n",
    "    test_loss = 0.0\n",
    "    \n",
    "    for batch_index, batch in enumerate(test_loader):\n",
    "        x_batch, y_batch = batch[0].to(device), batch[1].to(device)\n",
    "        \n",
    "        with torch.inference_mode():\n",
    "            output = model(x_batch)\n",
    "            # print(f\"{y_batch.shape}\")\n",
    "            loss = loss_function(output, y_batch)\n",
    "            running_loss += loss.item()\n",
    "            test_loss += loss.item()\n",
    "                \n",
    "\n",
    "    avg_loss_across_batches = running_loss / len(test_loader)\n",
    "    global test_acc\n",
    "    test_acc = np.append(test_acc, avg_loss_across_batches)\n",
    "\n",
    "    test_loss = 0.0\n",
    "    \n",
    "    print('Val Loss: {0:.3f}'.format(avg_loss_across_batches))\n",
    "    print('***************************************************')\n",
    "    print()"
   ]
  },
  {
   "cell_type": "code",
   "execution_count": 73,
   "metadata": {},
   "outputs": [
    {
     "name": "stdout",
     "output_type": "stream",
     "text": [
      "Epoch: 1\n",
      "Batch 100, Loss: 32.827\n",
      "Batch 200, Loss: 32.913\n",
      "Batch 300, Loss: 33.191\n",
      "\n",
      "Val Loss: 33.787\n",
      "***************************************************\n",
      "\n",
      "Epoch: 2\n",
      "Batch 100, Loss: 32.820\n",
      "Batch 200, Loss: 32.369\n",
      "Batch 300, Loss: 33.400\n",
      "\n",
      "Val Loss: 33.809\n",
      "***************************************************\n",
      "\n",
      "Epoch: 3\n",
      "Batch 100, Loss: 32.637\n",
      "Batch 200, Loss: 33.213\n",
      "Batch 300, Loss: 32.795\n",
      "\n",
      "Val Loss: 33.885\n",
      "***************************************************\n",
      "\n",
      "Epoch: 4\n",
      "Batch 100, Loss: 33.042\n",
      "Batch 200, Loss: 32.601\n",
      "Batch 300, Loss: 32.991\n",
      "\n",
      "Val Loss: 33.890\n",
      "***************************************************\n",
      "\n",
      "Epoch: 5\n",
      "Batch 100, Loss: 32.785\n",
      "Batch 200, Loss: 32.699\n",
      "Batch 300, Loss: 33.031\n",
      "\n",
      "Val Loss: 33.913\n",
      "***************************************************\n",
      "\n",
      "Epoch: 6\n",
      "Batch 100, Loss: 32.702\n",
      "Batch 200, Loss: 32.718\n",
      "Batch 300, Loss: 32.865\n",
      "\n",
      "Val Loss: 33.914\n",
      "***************************************************\n",
      "\n",
      "Epoch: 7\n",
      "Batch 100, Loss: 32.847\n",
      "Batch 200, Loss: 32.602\n",
      "Batch 300, Loss: 32.983\n",
      "\n",
      "Val Loss: 33.898\n",
      "***************************************************\n",
      "\n",
      "Epoch: 8\n",
      "Batch 100, Loss: 32.690\n",
      "Batch 200, Loss: 32.757\n",
      "Batch 300, Loss: 33.028\n",
      "\n",
      "Val Loss: 33.720\n",
      "***************************************************\n",
      "\n",
      "Epoch: 9\n",
      "Batch 100, Loss: 33.208\n",
      "Batch 200, Loss: 32.738\n",
      "Batch 300, Loss: 32.990\n",
      "\n",
      "Val Loss: 33.821\n",
      "***************************************************\n",
      "\n",
      "Epoch: 10\n",
      "Batch 100, Loss: 32.956\n",
      "Batch 200, Loss: 33.108\n",
      "Batch 300, Loss: 32.794\n",
      "\n",
      "Val Loss: 33.742\n",
      "***************************************************\n",
      "\n",
      "Epoch: 11\n",
      "Batch 100, Loss: 32.960\n",
      "Batch 200, Loss: 32.833\n",
      "Batch 300, Loss: 33.056\n",
      "\n",
      "Val Loss: 33.809\n",
      "***************************************************\n",
      "\n",
      "Epoch: 12\n",
      "Batch 100, Loss: 32.887\n",
      "Batch 200, Loss: 32.795\n",
      "Batch 300, Loss: 32.733\n",
      "\n",
      "Val Loss: 33.854\n",
      "***************************************************\n",
      "\n",
      "Epoch: 13\n",
      "Batch 100, Loss: 33.056\n",
      "Batch 200, Loss: 32.667\n",
      "Batch 300, Loss: 32.506\n",
      "\n",
      "Val Loss: 33.883\n",
      "***************************************************\n",
      "\n",
      "Epoch: 14\n",
      "Batch 100, Loss: 33.132\n",
      "Batch 200, Loss: 32.803\n",
      "Batch 300, Loss: 32.675\n",
      "\n",
      "Val Loss: 33.898\n",
      "***************************************************\n",
      "\n",
      "Epoch: 15\n",
      "Batch 100, Loss: 32.734\n",
      "Batch 200, Loss: 32.962\n",
      "Batch 300, Loss: 32.883\n",
      "\n",
      "Val Loss: 33.905\n",
      "***************************************************\n",
      "\n",
      "Epoch: 16\n",
      "Batch 100, Loss: 32.995\n",
      "Batch 200, Loss: 32.762\n",
      "Batch 300, Loss: 32.827\n",
      "\n",
      "Val Loss: 33.908\n",
      "***************************************************\n",
      "\n",
      "Epoch: 17\n",
      "Batch 100, Loss: 32.748\n",
      "Batch 200, Loss: 32.856\n",
      "Batch 300, Loss: 32.756\n",
      "\n",
      "Val Loss: 33.904\n",
      "***************************************************\n",
      "\n",
      "Epoch: 18\n",
      "Batch 100, Loss: 32.870\n",
      "Batch 200, Loss: 33.124\n",
      "Batch 300, Loss: 32.509\n",
      "\n",
      "Val Loss: 33.914\n",
      "***************************************************\n",
      "\n",
      "Epoch: 19\n",
      "Batch 100, Loss: 32.697\n",
      "Batch 200, Loss: 32.973\n",
      "Batch 300, Loss: 32.667\n",
      "\n",
      "Val Loss: 33.919\n",
      "***************************************************\n",
      "\n",
      "Epoch: 20\n",
      "Batch 100, Loss: 32.713\n",
      "Batch 200, Loss: 32.690\n",
      "Batch 300, Loss: 32.813\n",
      "\n",
      "Val Loss: 33.909\n",
      "***************************************************\n",
      "\n",
      "Epoch: 21\n",
      "Batch 100, Loss: 32.765\n",
      "Batch 200, Loss: 33.199\n",
      "Batch 300, Loss: 32.645\n",
      "\n",
      "Val Loss: 33.912\n",
      "***************************************************\n",
      "\n",
      "Epoch: 22\n",
      "Batch 100, Loss: 32.651\n",
      "Batch 200, Loss: 32.893\n",
      "Batch 300, Loss: 32.819\n",
      "\n",
      "Val Loss: 33.913\n",
      "***************************************************\n",
      "\n",
      "Epoch: 23\n",
      "Batch 100, Loss: 32.915\n",
      "Batch 200, Loss: 32.709\n",
      "Batch 300, Loss: 32.864\n",
      "\n",
      "Val Loss: 33.912\n",
      "***************************************************\n",
      "\n",
      "Epoch: 24\n",
      "Batch 100, Loss: 32.679\n",
      "Batch 200, Loss: 33.119\n",
      "Batch 300, Loss: 32.865\n",
      "\n",
      "Val Loss: 33.881\n",
      "***************************************************\n",
      "\n",
      "Epoch: 25\n",
      "Batch 100, Loss: 32.602\n",
      "Batch 200, Loss: 32.903\n",
      "Batch 300, Loss: 33.031\n",
      "\n",
      "Val Loss: 33.904\n",
      "***************************************************\n",
      "\n",
      "Epoch: 26\n",
      "Batch 100, Loss: 32.816\n",
      "Batch 200, Loss: 32.906\n",
      "Batch 300, Loss: 32.645\n",
      "\n",
      "Val Loss: 33.908\n",
      "***************************************************\n",
      "\n",
      "Epoch: 27\n",
      "Batch 100, Loss: 32.868\n",
      "Batch 200, Loss: 32.779\n",
      "Batch 300, Loss: 32.789\n",
      "\n",
      "Val Loss: 33.914\n",
      "***************************************************\n",
      "\n",
      "Epoch: 28\n",
      "Batch 100, Loss: 32.988\n",
      "Batch 200, Loss: 33.097\n",
      "Batch 300, Loss: 32.353\n",
      "\n",
      "Val Loss: 33.913\n",
      "***************************************************\n",
      "\n",
      "Epoch: 29\n",
      "Batch 100, Loss: 32.645\n",
      "Batch 200, Loss: 32.996\n",
      "Batch 300, Loss: 32.680\n",
      "\n",
      "Val Loss: 33.919\n",
      "***************************************************\n",
      "\n",
      "Epoch: 30\n",
      "Batch 100, Loss: 33.068\n",
      "Batch 200, Loss: 32.586\n",
      "Batch 300, Loss: 32.841\n",
      "\n",
      "Val Loss: 33.915\n",
      "***************************************************\n",
      "\n",
      "Epoch: 31\n",
      "Batch 100, Loss: 32.469\n",
      "Batch 200, Loss: 33.158\n",
      "Batch 300, Loss: 32.985\n",
      "\n",
      "Val Loss: 33.911\n",
      "***************************************************\n",
      "\n",
      "Epoch: 32\n",
      "Batch 100, Loss: 32.703\n",
      "Batch 200, Loss: 32.906\n",
      "Batch 300, Loss: 32.881\n",
      "\n",
      "Val Loss: 33.917\n",
      "***************************************************\n",
      "\n",
      "Epoch: 33\n",
      "Batch 100, Loss: 32.632\n",
      "Batch 200, Loss: 32.835\n",
      "Batch 300, Loss: 33.044\n",
      "\n",
      "Val Loss: 33.909\n",
      "***************************************************\n",
      "\n",
      "Epoch: 34\n",
      "Batch 100, Loss: 32.910\n",
      "Batch 200, Loss: 33.124\n",
      "Batch 300, Loss: 32.742\n",
      "\n",
      "Val Loss: 33.908\n",
      "***************************************************\n",
      "\n",
      "Epoch: 35\n",
      "Batch 100, Loss: 32.908\n",
      "Batch 200, Loss: 32.973\n",
      "Batch 300, Loss: 32.723\n",
      "\n",
      "Val Loss: 33.919\n",
      "***************************************************\n",
      "\n",
      "Epoch: 36\n",
      "Batch 100, Loss: 32.878\n",
      "Batch 200, Loss: 32.746\n",
      "Batch 300, Loss: 32.785\n",
      "\n",
      "Val Loss: 33.911\n",
      "***************************************************\n",
      "\n",
      "Epoch: 37\n",
      "Batch 100, Loss: 33.139\n",
      "Batch 200, Loss: 32.701\n",
      "Batch 300, Loss: 32.569\n",
      "\n",
      "Val Loss: 33.909\n",
      "***************************************************\n",
      "\n",
      "Epoch: 38\n",
      "Batch 100, Loss: 32.672\n",
      "Batch 200, Loss: 32.954\n",
      "Batch 300, Loss: 33.000\n",
      "\n",
      "Val Loss: 33.917\n",
      "***************************************************\n",
      "\n",
      "Epoch: 39\n",
      "Batch 100, Loss: 32.633\n",
      "Batch 200, Loss: 33.148\n",
      "Batch 300, Loss: 32.599\n",
      "\n",
      "Val Loss: 33.917\n",
      "***************************************************\n",
      "\n",
      "Epoch: 40\n",
      "Batch 100, Loss: 33.125\n",
      "Batch 200, Loss: 32.647\n",
      "Batch 300, Loss: 32.674\n",
      "\n",
      "Val Loss: 33.918\n",
      "***************************************************\n",
      "\n",
      "Epoch: 41\n",
      "Batch 100, Loss: 32.544\n",
      "Batch 200, Loss: 33.009\n",
      "Batch 300, Loss: 33.152\n",
      "\n",
      "Val Loss: 33.914\n",
      "***************************************************\n",
      "\n",
      "Epoch: 42\n",
      "Batch 100, Loss: 32.623\n",
      "Batch 200, Loss: 32.639\n",
      "Batch 300, Loss: 33.163\n",
      "\n",
      "Val Loss: 33.933\n",
      "***************************************************\n",
      "\n",
      "Epoch: 43\n",
      "Batch 100, Loss: 32.751\n",
      "Batch 200, Loss: 32.634\n",
      "Batch 300, Loss: 33.180\n",
      "\n",
      "Val Loss: 33.926\n",
      "***************************************************\n",
      "\n",
      "Epoch: 44\n",
      "Batch 100, Loss: 32.569\n",
      "Batch 200, Loss: 33.028\n",
      "Batch 300, Loss: 32.599\n",
      "\n",
      "Val Loss: 33.922\n",
      "***************************************************\n",
      "\n",
      "Epoch: 45\n",
      "Batch 100, Loss: 32.941\n",
      "Batch 200, Loss: 32.853\n",
      "Batch 300, Loss: 32.949\n",
      "\n",
      "Val Loss: 33.928\n",
      "***************************************************\n",
      "\n",
      "Epoch: 46\n",
      "Batch 100, Loss: 32.804\n",
      "Batch 200, Loss: 32.809\n",
      "Batch 300, Loss: 33.007\n",
      "\n",
      "Val Loss: 33.921\n",
      "***************************************************\n",
      "\n",
      "Epoch: 47\n",
      "Batch 100, Loss: 32.984\n",
      "Batch 200, Loss: 32.778\n",
      "Batch 300, Loss: 32.855\n",
      "\n",
      "Val Loss: 33.915\n",
      "***************************************************\n",
      "\n",
      "Epoch: 48\n",
      "Batch 100, Loss: 32.341\n",
      "Batch 200, Loss: 33.191\n",
      "Batch 300, Loss: 33.287\n",
      "\n",
      "Val Loss: 33.914\n",
      "***************************************************\n",
      "\n",
      "Epoch: 49\n",
      "Batch 100, Loss: 32.530\n",
      "Batch 200, Loss: 33.157\n",
      "Batch 300, Loss: 32.793\n",
      "\n",
      "Val Loss: 33.914\n",
      "***************************************************\n",
      "\n",
      "Epoch: 50\n",
      "Batch 100, Loss: 32.825\n",
      "Batch 200, Loss: 32.787\n",
      "Batch 300, Loss: 32.778\n",
      "\n",
      "Val Loss: 33.929\n",
      "***************************************************\n",
      "\n",
      "Epoch: 51\n",
      "Batch 100, Loss: 33.101\n",
      "Batch 200, Loss: 32.706\n",
      "Batch 300, Loss: 32.826\n",
      "\n",
      "Val Loss: 33.920\n",
      "***************************************************\n",
      "\n",
      "Epoch: 52\n",
      "Batch 100, Loss: 32.783\n",
      "Batch 200, Loss: 32.869\n",
      "Batch 300, Loss: 32.626\n",
      "\n",
      "Val Loss: 33.914\n",
      "***************************************************\n",
      "\n",
      "Epoch: 53\n",
      "Batch 100, Loss: 32.733\n",
      "Batch 200, Loss: 32.648\n",
      "Batch 300, Loss: 32.956\n",
      "\n",
      "Val Loss: 33.916\n",
      "***************************************************\n",
      "\n",
      "Epoch: 54\n",
      "Batch 100, Loss: 32.778\n",
      "Batch 200, Loss: 33.077\n",
      "Batch 300, Loss: 32.468\n",
      "\n",
      "Val Loss: 33.924\n",
      "***************************************************\n",
      "\n",
      "Epoch: 55\n",
      "Batch 100, Loss: 32.741\n",
      "Batch 200, Loss: 32.872\n",
      "Batch 300, Loss: 32.990\n",
      "\n",
      "Val Loss: 33.922\n",
      "***************************************************\n",
      "\n",
      "Epoch: 56\n",
      "Batch 100, Loss: 32.730\n",
      "Batch 200, Loss: 32.861\n",
      "Batch 300, Loss: 32.700\n",
      "\n",
      "Val Loss: 33.927\n",
      "***************************************************\n",
      "\n",
      "Epoch: 57\n",
      "Batch 100, Loss: 32.804\n",
      "Batch 200, Loss: 32.898\n",
      "Batch 300, Loss: 32.908\n",
      "\n",
      "Val Loss: 33.923\n",
      "***************************************************\n",
      "\n",
      "Epoch: 58\n",
      "Batch 100, Loss: 32.737\n",
      "Batch 200, Loss: 32.898\n",
      "Batch 300, Loss: 32.965\n",
      "\n",
      "Val Loss: 33.920\n",
      "***************************************************\n",
      "\n",
      "Epoch: 59\n",
      "Batch 100, Loss: 32.661\n",
      "Batch 200, Loss: 32.923\n",
      "Batch 300, Loss: 33.113\n",
      "\n",
      "Val Loss: 33.920\n",
      "***************************************************\n",
      "\n",
      "Epoch: 60\n",
      "Batch 100, Loss: 32.994\n",
      "Batch 200, Loss: 32.655\n",
      "Batch 300, Loss: 32.707\n",
      "\n",
      "Val Loss: 33.906\n",
      "***************************************************\n",
      "\n",
      "Epoch: 61\n",
      "Batch 100, Loss: 32.470\n",
      "Batch 200, Loss: 32.931\n",
      "Batch 300, Loss: 32.912\n",
      "\n",
      "Val Loss: 33.910\n",
      "***************************************************\n",
      "\n",
      "Epoch: 62\n",
      "Batch 100, Loss: 32.633\n",
      "Batch 200, Loss: 33.292\n",
      "Batch 300, Loss: 32.782\n",
      "\n",
      "Val Loss: 33.914\n",
      "***************************************************\n",
      "\n",
      "Epoch: 63\n",
      "Batch 100, Loss: 32.659\n",
      "Batch 200, Loss: 32.875\n",
      "Batch 300, Loss: 32.936\n",
      "\n",
      "Val Loss: 33.919\n",
      "***************************************************\n",
      "\n",
      "Epoch: 64\n",
      "Batch 100, Loss: 32.531\n",
      "Batch 200, Loss: 32.898\n",
      "Batch 300, Loss: 32.921\n",
      "\n",
      "Val Loss: 33.914\n",
      "***************************************************\n",
      "\n",
      "Epoch: 65\n",
      "Batch 100, Loss: 32.873\n",
      "Batch 200, Loss: 32.810\n",
      "Batch 300, Loss: 32.845\n",
      "\n",
      "Val Loss: 33.914\n",
      "***************************************************\n",
      "\n",
      "Epoch: 66\n",
      "Batch 100, Loss: 32.740\n",
      "Batch 200, Loss: 32.670\n",
      "Batch 300, Loss: 32.875\n",
      "\n",
      "Val Loss: 33.919\n",
      "***************************************************\n",
      "\n",
      "Epoch: 67\n",
      "Batch 100, Loss: 32.991\n",
      "Batch 200, Loss: 32.730\n",
      "Batch 300, Loss: 32.940\n",
      "\n",
      "Val Loss: 33.908\n",
      "***************************************************\n",
      "\n",
      "Epoch: 68\n",
      "Batch 100, Loss: 32.835\n",
      "Batch 200, Loss: 32.606\n",
      "Batch 300, Loss: 32.912\n"
     ]
    },
    {
     "ename": "KeyboardInterrupt",
     "evalue": "",
     "output_type": "error",
     "traceback": [
      "\u001b[0;31m---------------------------------------------------------------------------\u001b[0m",
      "\u001b[0;31mKeyboardInterrupt\u001b[0m                         Traceback (most recent call last)",
      "Cell \u001b[0;32mIn[73], line 14\u001b[0m\n\u001b[1;32m     12\u001b[0m test_acc \u001b[38;5;241m=\u001b[39m np\u001b[38;5;241m.\u001b[39marray([])\n\u001b[1;32m     13\u001b[0m \u001b[38;5;28;01mfor\u001b[39;00m epoch \u001b[38;5;129;01min\u001b[39;00m \u001b[38;5;28mrange\u001b[39m(num_epochs):\n\u001b[0;32m---> 14\u001b[0m     \u001b[43mtrain_one_epoch\u001b[49m\u001b[43m(\u001b[49m\u001b[43m)\u001b[49m\n\u001b[1;32m     15\u001b[0m     validate_one_epoch()\n",
      "Cell \u001b[0;32mIn[62], line 17\u001b[0m, in \u001b[0;36mtrain_one_epoch\u001b[0;34m()\u001b[0m\n\u001b[1;32m     15\u001b[0m optimizer\u001b[38;5;241m.\u001b[39mzero_grad()\n\u001b[1;32m     16\u001b[0m loss\u001b[38;5;241m.\u001b[39mbackward()\n\u001b[0;32m---> 17\u001b[0m \u001b[43moptimizer\u001b[49m\u001b[38;5;241;43m.\u001b[39;49m\u001b[43mstep\u001b[49m\u001b[43m(\u001b[49m\u001b[43m)\u001b[49m\n\u001b[1;32m     19\u001b[0m \u001b[38;5;28;01mif\u001b[39;00m batch_index \u001b[38;5;241m%\u001b[39m \u001b[38;5;241m100\u001b[39m \u001b[38;5;241m==\u001b[39m \u001b[38;5;241m99\u001b[39m:  \u001b[38;5;66;03m# print every 100 batches\u001b[39;00m\n\u001b[1;32m     20\u001b[0m     avg_loss_across_batches \u001b[38;5;241m=\u001b[39m running_loss \u001b[38;5;241m/\u001b[39m \u001b[38;5;241m100\u001b[39m\n",
      "File \u001b[0;32m~/miniforge3/lib/python3.10/site-packages/torch/optim/optimizer.py:391\u001b[0m, in \u001b[0;36mOptimizer.profile_hook_step.<locals>.wrapper\u001b[0;34m(*args, **kwargs)\u001b[0m\n\u001b[1;32m    386\u001b[0m         \u001b[38;5;28;01melse\u001b[39;00m:\n\u001b[1;32m    387\u001b[0m             \u001b[38;5;28;01mraise\u001b[39;00m \u001b[38;5;167;01mRuntimeError\u001b[39;00m(\n\u001b[1;32m    388\u001b[0m                 \u001b[38;5;124mf\u001b[39m\u001b[38;5;124m\"\u001b[39m\u001b[38;5;132;01m{\u001b[39;00mfunc\u001b[38;5;132;01m}\u001b[39;00m\u001b[38;5;124m must return None or a tuple of (new_args, new_kwargs), but got \u001b[39m\u001b[38;5;132;01m{\u001b[39;00mresult\u001b[38;5;132;01m}\u001b[39;00m\u001b[38;5;124m.\u001b[39m\u001b[38;5;124m\"\u001b[39m\n\u001b[1;32m    389\u001b[0m             )\n\u001b[0;32m--> 391\u001b[0m out \u001b[38;5;241m=\u001b[39m \u001b[43mfunc\u001b[49m\u001b[43m(\u001b[49m\u001b[38;5;241;43m*\u001b[39;49m\u001b[43margs\u001b[49m\u001b[43m,\u001b[49m\u001b[43m \u001b[49m\u001b[38;5;241;43m*\u001b[39;49m\u001b[38;5;241;43m*\u001b[39;49m\u001b[43mkwargs\u001b[49m\u001b[43m)\u001b[49m\n\u001b[1;32m    392\u001b[0m \u001b[38;5;28mself\u001b[39m\u001b[38;5;241m.\u001b[39m_optimizer_step_code()\n\u001b[1;32m    394\u001b[0m \u001b[38;5;66;03m# call optimizer step post hooks\u001b[39;00m\n",
      "File \u001b[0;32m~/miniforge3/lib/python3.10/site-packages/torch/optim/optimizer.py:76\u001b[0m, in \u001b[0;36m_use_grad_for_differentiable.<locals>._use_grad\u001b[0;34m(self, *args, **kwargs)\u001b[0m\n\u001b[1;32m     74\u001b[0m     torch\u001b[38;5;241m.\u001b[39mset_grad_enabled(\u001b[38;5;28mself\u001b[39m\u001b[38;5;241m.\u001b[39mdefaults[\u001b[38;5;124m'\u001b[39m\u001b[38;5;124mdifferentiable\u001b[39m\u001b[38;5;124m'\u001b[39m])\n\u001b[1;32m     75\u001b[0m     torch\u001b[38;5;241m.\u001b[39m_dynamo\u001b[38;5;241m.\u001b[39mgraph_break()\n\u001b[0;32m---> 76\u001b[0m     ret \u001b[38;5;241m=\u001b[39m \u001b[43mfunc\u001b[49m\u001b[43m(\u001b[49m\u001b[38;5;28;43mself\u001b[39;49m\u001b[43m,\u001b[49m\u001b[43m \u001b[49m\u001b[38;5;241;43m*\u001b[39;49m\u001b[43margs\u001b[49m\u001b[43m,\u001b[49m\u001b[43m \u001b[49m\u001b[38;5;241;43m*\u001b[39;49m\u001b[38;5;241;43m*\u001b[39;49m\u001b[43mkwargs\u001b[49m\u001b[43m)\u001b[49m\n\u001b[1;32m     77\u001b[0m \u001b[38;5;28;01mfinally\u001b[39;00m:\n\u001b[1;32m     78\u001b[0m     torch\u001b[38;5;241m.\u001b[39m_dynamo\u001b[38;5;241m.\u001b[39mgraph_break()\n",
      "File \u001b[0;32m~/miniforge3/lib/python3.10/site-packages/torch/optim/adam.py:168\u001b[0m, in \u001b[0;36mAdam.step\u001b[0;34m(self, closure)\u001b[0m\n\u001b[1;32m    157\u001b[0m     beta1, beta2 \u001b[38;5;241m=\u001b[39m group[\u001b[38;5;124m'\u001b[39m\u001b[38;5;124mbetas\u001b[39m\u001b[38;5;124m'\u001b[39m]\n\u001b[1;32m    159\u001b[0m     has_complex \u001b[38;5;241m=\u001b[39m \u001b[38;5;28mself\u001b[39m\u001b[38;5;241m.\u001b[39m_init_group(\n\u001b[1;32m    160\u001b[0m         group,\n\u001b[1;32m    161\u001b[0m         params_with_grad,\n\u001b[0;32m   (...)\u001b[0m\n\u001b[1;32m    165\u001b[0m         max_exp_avg_sqs,\n\u001b[1;32m    166\u001b[0m         state_steps)\n\u001b[0;32m--> 168\u001b[0m     \u001b[43madam\u001b[49m\u001b[43m(\u001b[49m\n\u001b[1;32m    169\u001b[0m \u001b[43m        \u001b[49m\u001b[43mparams_with_grad\u001b[49m\u001b[43m,\u001b[49m\n\u001b[1;32m    170\u001b[0m \u001b[43m        \u001b[49m\u001b[43mgrads\u001b[49m\u001b[43m,\u001b[49m\n\u001b[1;32m    171\u001b[0m \u001b[43m        \u001b[49m\u001b[43mexp_avgs\u001b[49m\u001b[43m,\u001b[49m\n\u001b[1;32m    172\u001b[0m \u001b[43m        \u001b[49m\u001b[43mexp_avg_sqs\u001b[49m\u001b[43m,\u001b[49m\n\u001b[1;32m    173\u001b[0m \u001b[43m        \u001b[49m\u001b[43mmax_exp_avg_sqs\u001b[49m\u001b[43m,\u001b[49m\n\u001b[1;32m    174\u001b[0m \u001b[43m        \u001b[49m\u001b[43mstate_steps\u001b[49m\u001b[43m,\u001b[49m\n\u001b[1;32m    175\u001b[0m \u001b[43m        \u001b[49m\u001b[43mamsgrad\u001b[49m\u001b[38;5;241;43m=\u001b[39;49m\u001b[43mgroup\u001b[49m\u001b[43m[\u001b[49m\u001b[38;5;124;43m'\u001b[39;49m\u001b[38;5;124;43mamsgrad\u001b[39;49m\u001b[38;5;124;43m'\u001b[39;49m\u001b[43m]\u001b[49m\u001b[43m,\u001b[49m\n\u001b[1;32m    176\u001b[0m \u001b[43m        \u001b[49m\u001b[43mhas_complex\u001b[49m\u001b[38;5;241;43m=\u001b[39;49m\u001b[43mhas_complex\u001b[49m\u001b[43m,\u001b[49m\n\u001b[1;32m    177\u001b[0m \u001b[43m        \u001b[49m\u001b[43mbeta1\u001b[49m\u001b[38;5;241;43m=\u001b[39;49m\u001b[43mbeta1\u001b[49m\u001b[43m,\u001b[49m\n\u001b[1;32m    178\u001b[0m \u001b[43m        \u001b[49m\u001b[43mbeta2\u001b[49m\u001b[38;5;241;43m=\u001b[39;49m\u001b[43mbeta2\u001b[49m\u001b[43m,\u001b[49m\n\u001b[1;32m    179\u001b[0m \u001b[43m        \u001b[49m\u001b[43mlr\u001b[49m\u001b[38;5;241;43m=\u001b[39;49m\u001b[43mgroup\u001b[49m\u001b[43m[\u001b[49m\u001b[38;5;124;43m'\u001b[39;49m\u001b[38;5;124;43mlr\u001b[39;49m\u001b[38;5;124;43m'\u001b[39;49m\u001b[43m]\u001b[49m\u001b[43m,\u001b[49m\n\u001b[1;32m    180\u001b[0m \u001b[43m        \u001b[49m\u001b[43mweight_decay\u001b[49m\u001b[38;5;241;43m=\u001b[39;49m\u001b[43mgroup\u001b[49m\u001b[43m[\u001b[49m\u001b[38;5;124;43m'\u001b[39;49m\u001b[38;5;124;43mweight_decay\u001b[39;49m\u001b[38;5;124;43m'\u001b[39;49m\u001b[43m]\u001b[49m\u001b[43m,\u001b[49m\n\u001b[1;32m    181\u001b[0m \u001b[43m        \u001b[49m\u001b[43meps\u001b[49m\u001b[38;5;241;43m=\u001b[39;49m\u001b[43mgroup\u001b[49m\u001b[43m[\u001b[49m\u001b[38;5;124;43m'\u001b[39;49m\u001b[38;5;124;43meps\u001b[39;49m\u001b[38;5;124;43m'\u001b[39;49m\u001b[43m]\u001b[49m\u001b[43m,\u001b[49m\n\u001b[1;32m    182\u001b[0m \u001b[43m        \u001b[49m\u001b[43mmaximize\u001b[49m\u001b[38;5;241;43m=\u001b[39;49m\u001b[43mgroup\u001b[49m\u001b[43m[\u001b[49m\u001b[38;5;124;43m'\u001b[39;49m\u001b[38;5;124;43mmaximize\u001b[39;49m\u001b[38;5;124;43m'\u001b[39;49m\u001b[43m]\u001b[49m\u001b[43m,\u001b[49m\n\u001b[1;32m    183\u001b[0m \u001b[43m        \u001b[49m\u001b[43mforeach\u001b[49m\u001b[38;5;241;43m=\u001b[39;49m\u001b[43mgroup\u001b[49m\u001b[43m[\u001b[49m\u001b[38;5;124;43m'\u001b[39;49m\u001b[38;5;124;43mforeach\u001b[39;49m\u001b[38;5;124;43m'\u001b[39;49m\u001b[43m]\u001b[49m\u001b[43m,\u001b[49m\n\u001b[1;32m    184\u001b[0m \u001b[43m        \u001b[49m\u001b[43mcapturable\u001b[49m\u001b[38;5;241;43m=\u001b[39;49m\u001b[43mgroup\u001b[49m\u001b[43m[\u001b[49m\u001b[38;5;124;43m'\u001b[39;49m\u001b[38;5;124;43mcapturable\u001b[39;49m\u001b[38;5;124;43m'\u001b[39;49m\u001b[43m]\u001b[49m\u001b[43m,\u001b[49m\n\u001b[1;32m    185\u001b[0m \u001b[43m        \u001b[49m\u001b[43mdifferentiable\u001b[49m\u001b[38;5;241;43m=\u001b[39;49m\u001b[43mgroup\u001b[49m\u001b[43m[\u001b[49m\u001b[38;5;124;43m'\u001b[39;49m\u001b[38;5;124;43mdifferentiable\u001b[39;49m\u001b[38;5;124;43m'\u001b[39;49m\u001b[43m]\u001b[49m\u001b[43m,\u001b[49m\n\u001b[1;32m    186\u001b[0m \u001b[43m        \u001b[49m\u001b[43mfused\u001b[49m\u001b[38;5;241;43m=\u001b[39;49m\u001b[43mgroup\u001b[49m\u001b[43m[\u001b[49m\u001b[38;5;124;43m'\u001b[39;49m\u001b[38;5;124;43mfused\u001b[39;49m\u001b[38;5;124;43m'\u001b[39;49m\u001b[43m]\u001b[49m\u001b[43m,\u001b[49m\n\u001b[1;32m    187\u001b[0m \u001b[43m        \u001b[49m\u001b[43mgrad_scale\u001b[49m\u001b[38;5;241;43m=\u001b[39;49m\u001b[38;5;28;43mgetattr\u001b[39;49m\u001b[43m(\u001b[49m\u001b[38;5;28;43mself\u001b[39;49m\u001b[43m,\u001b[49m\u001b[43m \u001b[49m\u001b[38;5;124;43m\"\u001b[39;49m\u001b[38;5;124;43mgrad_scale\u001b[39;49m\u001b[38;5;124;43m\"\u001b[39;49m\u001b[43m,\u001b[49m\u001b[43m \u001b[49m\u001b[38;5;28;43;01mNone\u001b[39;49;00m\u001b[43m)\u001b[49m\u001b[43m,\u001b[49m\n\u001b[1;32m    188\u001b[0m \u001b[43m        \u001b[49m\u001b[43mfound_inf\u001b[49m\u001b[38;5;241;43m=\u001b[39;49m\u001b[38;5;28;43mgetattr\u001b[39;49m\u001b[43m(\u001b[49m\u001b[38;5;28;43mself\u001b[39;49m\u001b[43m,\u001b[49m\u001b[43m \u001b[49m\u001b[38;5;124;43m\"\u001b[39;49m\u001b[38;5;124;43mfound_inf\u001b[39;49m\u001b[38;5;124;43m\"\u001b[39;49m\u001b[43m,\u001b[49m\u001b[43m \u001b[49m\u001b[38;5;28;43;01mNone\u001b[39;49;00m\u001b[43m)\u001b[49m\u001b[43m,\u001b[49m\n\u001b[1;32m    189\u001b[0m \u001b[43m    \u001b[49m\u001b[43m)\u001b[49m\n\u001b[1;32m    191\u001b[0m \u001b[38;5;28;01mreturn\u001b[39;00m loss\n",
      "File \u001b[0;32m~/miniforge3/lib/python3.10/site-packages/torch/optim/adam.py:318\u001b[0m, in \u001b[0;36madam\u001b[0;34m(params, grads, exp_avgs, exp_avg_sqs, max_exp_avg_sqs, state_steps, foreach, capturable, differentiable, fused, grad_scale, found_inf, has_complex, amsgrad, beta1, beta2, lr, weight_decay, eps, maximize)\u001b[0m\n\u001b[1;32m    315\u001b[0m \u001b[38;5;28;01melse\u001b[39;00m:\n\u001b[1;32m    316\u001b[0m     func \u001b[38;5;241m=\u001b[39m _single_tensor_adam\n\u001b[0;32m--> 318\u001b[0m \u001b[43mfunc\u001b[49m\u001b[43m(\u001b[49m\u001b[43mparams\u001b[49m\u001b[43m,\u001b[49m\n\u001b[1;32m    319\u001b[0m \u001b[43m     \u001b[49m\u001b[43mgrads\u001b[49m\u001b[43m,\u001b[49m\n\u001b[1;32m    320\u001b[0m \u001b[43m     \u001b[49m\u001b[43mexp_avgs\u001b[49m\u001b[43m,\u001b[49m\n\u001b[1;32m    321\u001b[0m \u001b[43m     \u001b[49m\u001b[43mexp_avg_sqs\u001b[49m\u001b[43m,\u001b[49m\n\u001b[1;32m    322\u001b[0m \u001b[43m     \u001b[49m\u001b[43mmax_exp_avg_sqs\u001b[49m\u001b[43m,\u001b[49m\n\u001b[1;32m    323\u001b[0m \u001b[43m     \u001b[49m\u001b[43mstate_steps\u001b[49m\u001b[43m,\u001b[49m\n\u001b[1;32m    324\u001b[0m \u001b[43m     \u001b[49m\u001b[43mamsgrad\u001b[49m\u001b[38;5;241;43m=\u001b[39;49m\u001b[43mamsgrad\u001b[49m\u001b[43m,\u001b[49m\n\u001b[1;32m    325\u001b[0m \u001b[43m     \u001b[49m\u001b[43mhas_complex\u001b[49m\u001b[38;5;241;43m=\u001b[39;49m\u001b[43mhas_complex\u001b[49m\u001b[43m,\u001b[49m\n\u001b[1;32m    326\u001b[0m \u001b[43m     \u001b[49m\u001b[43mbeta1\u001b[49m\u001b[38;5;241;43m=\u001b[39;49m\u001b[43mbeta1\u001b[49m\u001b[43m,\u001b[49m\n\u001b[1;32m    327\u001b[0m \u001b[43m     \u001b[49m\u001b[43mbeta2\u001b[49m\u001b[38;5;241;43m=\u001b[39;49m\u001b[43mbeta2\u001b[49m\u001b[43m,\u001b[49m\n\u001b[1;32m    328\u001b[0m \u001b[43m     \u001b[49m\u001b[43mlr\u001b[49m\u001b[38;5;241;43m=\u001b[39;49m\u001b[43mlr\u001b[49m\u001b[43m,\u001b[49m\n\u001b[1;32m    329\u001b[0m \u001b[43m     \u001b[49m\u001b[43mweight_decay\u001b[49m\u001b[38;5;241;43m=\u001b[39;49m\u001b[43mweight_decay\u001b[49m\u001b[43m,\u001b[49m\n\u001b[1;32m    330\u001b[0m \u001b[43m     \u001b[49m\u001b[43meps\u001b[49m\u001b[38;5;241;43m=\u001b[39;49m\u001b[43meps\u001b[49m\u001b[43m,\u001b[49m\n\u001b[1;32m    331\u001b[0m \u001b[43m     \u001b[49m\u001b[43mmaximize\u001b[49m\u001b[38;5;241;43m=\u001b[39;49m\u001b[43mmaximize\u001b[49m\u001b[43m,\u001b[49m\n\u001b[1;32m    332\u001b[0m \u001b[43m     \u001b[49m\u001b[43mcapturable\u001b[49m\u001b[38;5;241;43m=\u001b[39;49m\u001b[43mcapturable\u001b[49m\u001b[43m,\u001b[49m\n\u001b[1;32m    333\u001b[0m \u001b[43m     \u001b[49m\u001b[43mdifferentiable\u001b[49m\u001b[38;5;241;43m=\u001b[39;49m\u001b[43mdifferentiable\u001b[49m\u001b[43m,\u001b[49m\n\u001b[1;32m    334\u001b[0m \u001b[43m     \u001b[49m\u001b[43mgrad_scale\u001b[49m\u001b[38;5;241;43m=\u001b[39;49m\u001b[43mgrad_scale\u001b[49m\u001b[43m,\u001b[49m\n\u001b[1;32m    335\u001b[0m \u001b[43m     \u001b[49m\u001b[43mfound_inf\u001b[49m\u001b[38;5;241;43m=\u001b[39;49m\u001b[43mfound_inf\u001b[49m\u001b[43m)\u001b[49m\n",
      "File \u001b[0;32m~/miniforge3/lib/python3.10/site-packages/torch/optim/adam.py:441\u001b[0m, in \u001b[0;36m_single_tensor_adam\u001b[0;34m(params, grads, exp_avgs, exp_avg_sqs, max_exp_avg_sqs, state_steps, grad_scale, found_inf, amsgrad, has_complex, beta1, beta2, lr, weight_decay, eps, maximize, capturable, differentiable)\u001b[0m\n\u001b[1;32m    439\u001b[0m         denom \u001b[38;5;241m=\u001b[39m (max_exp_avg_sqs[i]\u001b[38;5;241m.\u001b[39msqrt() \u001b[38;5;241m/\u001b[39m bias_correction2_sqrt)\u001b[38;5;241m.\u001b[39madd_(eps)\n\u001b[1;32m    440\u001b[0m     \u001b[38;5;28;01melse\u001b[39;00m:\n\u001b[0;32m--> 441\u001b[0m         denom \u001b[38;5;241m=\u001b[39m (\u001b[43mexp_avg_sq\u001b[49m\u001b[38;5;241;43m.\u001b[39;49m\u001b[43msqrt\u001b[49m\u001b[43m(\u001b[49m\u001b[43m)\u001b[49m \u001b[38;5;241m/\u001b[39m bias_correction2_sqrt)\u001b[38;5;241m.\u001b[39madd_(eps)\n\u001b[1;32m    443\u001b[0m     param\u001b[38;5;241m.\u001b[39maddcdiv_(exp_avg, denom, value\u001b[38;5;241m=\u001b[39m\u001b[38;5;241m-\u001b[39mstep_size)\n\u001b[1;32m    445\u001b[0m \u001b[38;5;66;03m# Lastly, switch back to complex view\u001b[39;00m\n",
      "\u001b[0;31mKeyboardInterrupt\u001b[0m: "
     ]
    }
   ],
   "source": [
    "learning_rate = 0.01\n",
    "num_epochs = 250\n",
    "loss_function = nn.L1Loss()\n",
    "# optimizer = torch.optim.Adam(model.parameters(), \n",
    "#                              lr=learning_rate, \n",
    "#                              weight_decay=1e-5)\n",
    "\n",
    "optimizer = torch.optim.Adam(model.parameters(), \n",
    "                             lr=learning_rate\n",
    "                            )\n",
    "train_acc = np.array([])\n",
    "test_acc = np.array([])\n",
    "for epoch in range(num_epochs):\n",
    "    train_one_epoch()\n",
    "    validate_one_epoch()"
   ]
  },
  {
   "cell_type": "code",
   "execution_count": 65,
   "metadata": {},
   "outputs": [
    {
     "data": {
      "image/png": "[encoded data removed]",
      "text/plain": [
       "<Figure size 640x480 with 1 Axes>"
      ]
     },
     "metadata": {},
     "output_type": "display_data"
    }
   ],
   "source": [
    "plt.plot(train_acc, label='Train Acc')\n",
    "plt.plot(test_acc, label='Test Acc')\n",
    "plt.xlabel('Time')\n",
    "plt.ylabel('Loss')\n",
    "plt.legend()\n",
    "plt.show()"
   ]
  },
  {
   "cell_type": "code",
   "execution_count": 72,
   "metadata": {},
   "outputs": [
    {
     "data": {
      "image/png": "[encoded data removed]",
      "text/plain": [
       "<Figure size 640x480 with 1 Axes>"
      ]
     },
     "metadata": {},
     "output_type": "display_data"
    }
   ],
   "source": [
    "model.eval()\n",
    "with torch.inference_mode():\n",
    "    predicted = model((X_train).to(device)).to('cpu').numpy()\n",
    "\n",
    "plt.plot(y_train, label='Actual FX')\n",
    "plt.plot(predicted, label='Predicted FX')\n",
    "plt.xlabel('Time')\n",
    "plt.ylabel('FX Channel')\n",
    "plt.legend()\n",
    "plt.show()\n"
   ]
  },
  {
   "cell_type": "code",
   "execution_count": 67,
   "metadata": {},
   "outputs": [
    {
     "data": {
      "image/png": "[encoded data removed]",
      "text/plain": [
       "<Figure size 640x480 with 1 Axes>"
      ]
     },
     "metadata": {},
     "output_type": "display_data"
    }
   ],
   "source": [
    "model.eval()\n",
    "with torch.inference_mode():\n",
    "    test_pred = model(X_test.to(device)).to('cpu').numpy()\n",
    "\n",
    "plt.plot(y_test, label='Actual FX')\n",
    "plt.plot(test_pred, label='Test Predicted FX')\n",
    "plt.xlabel('Time')\n",
    "plt.ylabel('FX Channel')\n",
    "plt.legend()\n",
    "plt.show()"
   ]
  },
  {
   "cell_type": "code",
   "execution_count": 68,
   "metadata": {},
   "outputs": [
    {
     "data": {
      "text/plain": [
       "(torch.Size([5807, 8, 1]),\n",
       " tensor([[23226.],\n",
       "         [23227.],\n",
       "         [23228.],\n",
       "         [23229.],\n",
       "         [23230.],\n",
       "         [23231.],\n",
       "         [23232.],\n",
       "         [23233.]]))"
      ]
     },
     "execution_count": 68,
     "metadata": {},
     "output_type": "execute_result"
    }
   ],
   "source": [
    "X_test.shape, X_test[0]"
   ]
  },
  {
   "cell_type": "code",
   "execution_count": 69,
   "metadata": {},
   "outputs": [
    {
     "data": {
      "text/plain": [
       "torch.Size([62500, 1])"
      ]
     },
     "execution_count": 69,
     "metadata": {},
     "output_type": "execute_result"
    }
   ],
   "source": [
    "temp = torch.arange(0, 1, 0.000016)\n",
    "temp = temp.unsqueeze(dim=1)\n",
    "temp.shape"
   ]
  },
  {
   "cell_type": "code",
   "execution_count": 70,
   "metadata": {},
   "outputs": [
    {
     "ename": "RuntimeError",
     "evalue": "Input and hidden tensors are not at the same device, found input tensor at cpu and hidden tensor at mps:0",
     "output_type": "error",
     "traceback": [
      "\u001b[0;31m---------------------------------------------------------------------------\u001b[0m",
      "\u001b[0;31mRuntimeError\u001b[0m                              Traceback (most recent call last)",
      "Cell \u001b[0;32mIn[70], line 3\u001b[0m\n\u001b[1;32m      1\u001b[0m model\u001b[38;5;241m.\u001b[39meval()\n\u001b[1;32m      2\u001b[0m \u001b[38;5;28;01mwith\u001b[39;00m torch\u001b[38;5;241m.\u001b[39minference_mode():\n\u001b[0;32m----> 3\u001b[0m     test_pred \u001b[38;5;241m=\u001b[39m \u001b[43mmodel\u001b[49m\u001b[43m(\u001b[49m\u001b[43mtemp\u001b[49m\u001b[38;5;241;43m.\u001b[39;49m\u001b[43munsqueeze\u001b[49m\u001b[43m(\u001b[49m\u001b[43mdim\u001b[49m\u001b[38;5;241;43m=\u001b[39;49m\u001b[38;5;241;43m1\u001b[39;49m\u001b[43m)\u001b[49m\u001b[43m)\u001b[49m\u001b[38;5;241m.\u001b[39mto(\u001b[38;5;124m'\u001b[39m\u001b[38;5;124mcpu\u001b[39m\u001b[38;5;124m'\u001b[39m)\u001b[38;5;241m.\u001b[39mnumpy()\n\u001b[1;32m      5\u001b[0m \u001b[38;5;66;03m# plt.xlim(0, (10000))\u001b[39;00m\n\u001b[1;32m      6\u001b[0m \u001b[38;5;66;03m# plt.ylim(-0, 1)\u001b[39;00m\n\u001b[1;32m      7\u001b[0m \u001b[38;5;66;03m# plt.autoscale(False)\u001b[39;00m\n\u001b[1;32m      8\u001b[0m plt\u001b[38;5;241m.\u001b[39mplot(y_test, label\u001b[38;5;241m=\u001b[39m\u001b[38;5;124m'\u001b[39m\u001b[38;5;124mActual FX\u001b[39m\u001b[38;5;124m'\u001b[39m)\n",
      "File \u001b[0;32m~/miniforge3/lib/python3.10/site-packages/torch/nn/modules/module.py:1532\u001b[0m, in \u001b[0;36mModule._wrapped_call_impl\u001b[0;34m(self, *args, **kwargs)\u001b[0m\n\u001b[1;32m   1530\u001b[0m     \u001b[38;5;28;01mreturn\u001b[39;00m \u001b[38;5;28mself\u001b[39m\u001b[38;5;241m.\u001b[39m_compiled_call_impl(\u001b[38;5;241m*\u001b[39margs, \u001b[38;5;241m*\u001b[39m\u001b[38;5;241m*\u001b[39mkwargs)  \u001b[38;5;66;03m# type: ignore[misc]\u001b[39;00m\n\u001b[1;32m   1531\u001b[0m \u001b[38;5;28;01melse\u001b[39;00m:\n\u001b[0;32m-> 1532\u001b[0m     \u001b[38;5;28;01mreturn\u001b[39;00m \u001b[38;5;28;43mself\u001b[39;49m\u001b[38;5;241;43m.\u001b[39;49m\u001b[43m_call_impl\u001b[49m\u001b[43m(\u001b[49m\u001b[38;5;241;43m*\u001b[39;49m\u001b[43margs\u001b[49m\u001b[43m,\u001b[49m\u001b[43m \u001b[49m\u001b[38;5;241;43m*\u001b[39;49m\u001b[38;5;241;43m*\u001b[39;49m\u001b[43mkwargs\u001b[49m\u001b[43m)\u001b[49m\n",
      "File \u001b[0;32m~/miniforge3/lib/python3.10/site-packages/torch/nn/modules/module.py:1541\u001b[0m, in \u001b[0;36mModule._call_impl\u001b[0;34m(self, *args, **kwargs)\u001b[0m\n\u001b[1;32m   1536\u001b[0m \u001b[38;5;66;03m# If we don't have any hooks, we want to skip the rest of the logic in\u001b[39;00m\n\u001b[1;32m   1537\u001b[0m \u001b[38;5;66;03m# this function, and just call forward.\u001b[39;00m\n\u001b[1;32m   1538\u001b[0m \u001b[38;5;28;01mif\u001b[39;00m \u001b[38;5;129;01mnot\u001b[39;00m (\u001b[38;5;28mself\u001b[39m\u001b[38;5;241m.\u001b[39m_backward_hooks \u001b[38;5;129;01mor\u001b[39;00m \u001b[38;5;28mself\u001b[39m\u001b[38;5;241m.\u001b[39m_backward_pre_hooks \u001b[38;5;129;01mor\u001b[39;00m \u001b[38;5;28mself\u001b[39m\u001b[38;5;241m.\u001b[39m_forward_hooks \u001b[38;5;129;01mor\u001b[39;00m \u001b[38;5;28mself\u001b[39m\u001b[38;5;241m.\u001b[39m_forward_pre_hooks\n\u001b[1;32m   1539\u001b[0m         \u001b[38;5;129;01mor\u001b[39;00m _global_backward_pre_hooks \u001b[38;5;129;01mor\u001b[39;00m _global_backward_hooks\n\u001b[1;32m   1540\u001b[0m         \u001b[38;5;129;01mor\u001b[39;00m _global_forward_hooks \u001b[38;5;129;01mor\u001b[39;00m _global_forward_pre_hooks):\n\u001b[0;32m-> 1541\u001b[0m     \u001b[38;5;28;01mreturn\u001b[39;00m \u001b[43mforward_call\u001b[49m\u001b[43m(\u001b[49m\u001b[38;5;241;43m*\u001b[39;49m\u001b[43margs\u001b[49m\u001b[43m,\u001b[49m\u001b[43m \u001b[49m\u001b[38;5;241;43m*\u001b[39;49m\u001b[38;5;241;43m*\u001b[39;49m\u001b[43mkwargs\u001b[49m\u001b[43m)\u001b[49m\n\u001b[1;32m   1543\u001b[0m \u001b[38;5;28;01mtry\u001b[39;00m:\n\u001b[1;32m   1544\u001b[0m     result \u001b[38;5;241m=\u001b[39m \u001b[38;5;28;01mNone\u001b[39;00m\n",
      "Cell \u001b[0;32mIn[61], line 17\u001b[0m, in \u001b[0;36mLSTM.forward\u001b[0;34m(self, x)\u001b[0m\n\u001b[1;32m     14\u001b[0m h0 \u001b[38;5;241m=\u001b[39m torch\u001b[38;5;241m.\u001b[39mzeros(\u001b[38;5;28mself\u001b[39m\u001b[38;5;241m.\u001b[39mnum_stacked_layers, batch_size, \u001b[38;5;28mself\u001b[39m\u001b[38;5;241m.\u001b[39mhidden_size)\u001b[38;5;241m.\u001b[39mto(device)\n\u001b[1;32m     15\u001b[0m c0 \u001b[38;5;241m=\u001b[39m torch\u001b[38;5;241m.\u001b[39mzeros(\u001b[38;5;28mself\u001b[39m\u001b[38;5;241m.\u001b[39mnum_stacked_layers, batch_size, \u001b[38;5;28mself\u001b[39m\u001b[38;5;241m.\u001b[39mhidden_size)\u001b[38;5;241m.\u001b[39mto(device)\n\u001b[0;32m---> 17\u001b[0m out, _ \u001b[38;5;241m=\u001b[39m \u001b[38;5;28;43mself\u001b[39;49m\u001b[38;5;241;43m.\u001b[39;49m\u001b[43mlstm\u001b[49m\u001b[43m(\u001b[49m\u001b[43mx\u001b[49m\u001b[43m,\u001b[49m\u001b[43m \u001b[49m\u001b[43m(\u001b[49m\u001b[43mh0\u001b[49m\u001b[43m,\u001b[49m\u001b[43m \u001b[49m\u001b[43mc0\u001b[49m\u001b[43m)\u001b[49m\u001b[43m)\u001b[49m\n\u001b[1;32m     18\u001b[0m out \u001b[38;5;241m=\u001b[39m \u001b[38;5;28mself\u001b[39m\u001b[38;5;241m.\u001b[39mfc(out[:, \u001b[38;5;241m-\u001b[39m\u001b[38;5;241m1\u001b[39m, :])\n\u001b[1;32m     19\u001b[0m \u001b[38;5;28;01mreturn\u001b[39;00m out\n",
      "File \u001b[0;32m~/miniforge3/lib/python3.10/site-packages/torch/nn/modules/module.py:1532\u001b[0m, in \u001b[0;36mModule._wrapped_call_impl\u001b[0;34m(self, *args, **kwargs)\u001b[0m\n\u001b[1;32m   1530\u001b[0m     \u001b[38;5;28;01mreturn\u001b[39;00m \u001b[38;5;28mself\u001b[39m\u001b[38;5;241m.\u001b[39m_compiled_call_impl(\u001b[38;5;241m*\u001b[39margs, \u001b[38;5;241m*\u001b[39m\u001b[38;5;241m*\u001b[39mkwargs)  \u001b[38;5;66;03m# type: ignore[misc]\u001b[39;00m\n\u001b[1;32m   1531\u001b[0m \u001b[38;5;28;01melse\u001b[39;00m:\n\u001b[0;32m-> 1532\u001b[0m     \u001b[38;5;28;01mreturn\u001b[39;00m \u001b[38;5;28;43mself\u001b[39;49m\u001b[38;5;241;43m.\u001b[39;49m\u001b[43m_call_impl\u001b[49m\u001b[43m(\u001b[49m\u001b[38;5;241;43m*\u001b[39;49m\u001b[43margs\u001b[49m\u001b[43m,\u001b[49m\u001b[43m \u001b[49m\u001b[38;5;241;43m*\u001b[39;49m\u001b[38;5;241;43m*\u001b[39;49m\u001b[43mkwargs\u001b[49m\u001b[43m)\u001b[49m\n",
      "File \u001b[0;32m~/miniforge3/lib/python3.10/site-packages/torch/nn/modules/module.py:1541\u001b[0m, in \u001b[0;36mModule._call_impl\u001b[0;34m(self, *args, **kwargs)\u001b[0m\n\u001b[1;32m   1536\u001b[0m \u001b[38;5;66;03m# If we don't have any hooks, we want to skip the rest of the logic in\u001b[39;00m\n\u001b[1;32m   1537\u001b[0m \u001b[38;5;66;03m# this function, and just call forward.\u001b[39;00m\n\u001b[1;32m   1538\u001b[0m \u001b[38;5;28;01mif\u001b[39;00m \u001b[38;5;129;01mnot\u001b[39;00m (\u001b[38;5;28mself\u001b[39m\u001b[38;5;241m.\u001b[39m_backward_hooks \u001b[38;5;129;01mor\u001b[39;00m \u001b[38;5;28mself\u001b[39m\u001b[38;5;241m.\u001b[39m_backward_pre_hooks \u001b[38;5;129;01mor\u001b[39;00m \u001b[38;5;28mself\u001b[39m\u001b[38;5;241m.\u001b[39m_forward_hooks \u001b[38;5;129;01mor\u001b[39;00m \u001b[38;5;28mself\u001b[39m\u001b[38;5;241m.\u001b[39m_forward_pre_hooks\n\u001b[1;32m   1539\u001b[0m         \u001b[38;5;129;01mor\u001b[39;00m _global_backward_pre_hooks \u001b[38;5;129;01mor\u001b[39;00m _global_backward_hooks\n\u001b[1;32m   1540\u001b[0m         \u001b[38;5;129;01mor\u001b[39;00m _global_forward_hooks \u001b[38;5;129;01mor\u001b[39;00m _global_forward_pre_hooks):\n\u001b[0;32m-> 1541\u001b[0m     \u001b[38;5;28;01mreturn\u001b[39;00m \u001b[43mforward_call\u001b[49m\u001b[43m(\u001b[49m\u001b[38;5;241;43m*\u001b[39;49m\u001b[43margs\u001b[49m\u001b[43m,\u001b[49m\u001b[43m \u001b[49m\u001b[38;5;241;43m*\u001b[39;49m\u001b[38;5;241;43m*\u001b[39;49m\u001b[43mkwargs\u001b[49m\u001b[43m)\u001b[49m\n\u001b[1;32m   1543\u001b[0m \u001b[38;5;28;01mtry\u001b[39;00m:\n\u001b[1;32m   1544\u001b[0m     result \u001b[38;5;241m=\u001b[39m \u001b[38;5;28;01mNone\u001b[39;00m\n",
      "File \u001b[0;32m~/miniforge3/lib/python3.10/site-packages/torch/nn/modules/rnn.py:911\u001b[0m, in \u001b[0;36mLSTM.forward\u001b[0;34m(self, input, hx)\u001b[0m\n\u001b[1;32m    908\u001b[0m         hx \u001b[38;5;241m=\u001b[39m \u001b[38;5;28mself\u001b[39m\u001b[38;5;241m.\u001b[39mpermute_hidden(hx, sorted_indices)\n\u001b[1;32m    910\u001b[0m \u001b[38;5;28;01mif\u001b[39;00m batch_sizes \u001b[38;5;129;01mis\u001b[39;00m \u001b[38;5;28;01mNone\u001b[39;00m:\n\u001b[0;32m--> 911\u001b[0m     result \u001b[38;5;241m=\u001b[39m \u001b[43m_VF\u001b[49m\u001b[38;5;241;43m.\u001b[39;49m\u001b[43mlstm\u001b[49m\u001b[43m(\u001b[49m\u001b[38;5;28;43minput\u001b[39;49m\u001b[43m,\u001b[49m\u001b[43m \u001b[49m\u001b[43mhx\u001b[49m\u001b[43m,\u001b[49m\u001b[43m \u001b[49m\u001b[38;5;28;43mself\u001b[39;49m\u001b[38;5;241;43m.\u001b[39;49m\u001b[43m_flat_weights\u001b[49m\u001b[43m,\u001b[49m\u001b[43m \u001b[49m\u001b[38;5;28;43mself\u001b[39;49m\u001b[38;5;241;43m.\u001b[39;49m\u001b[43mbias\u001b[49m\u001b[43m,\u001b[49m\u001b[43m \u001b[49m\u001b[38;5;28;43mself\u001b[39;49m\u001b[38;5;241;43m.\u001b[39;49m\u001b[43mnum_layers\u001b[49m\u001b[43m,\u001b[49m\n\u001b[1;32m    912\u001b[0m \u001b[43m                      \u001b[49m\u001b[38;5;28;43mself\u001b[39;49m\u001b[38;5;241;43m.\u001b[39;49m\u001b[43mdropout\u001b[49m\u001b[43m,\u001b[49m\u001b[43m \u001b[49m\u001b[38;5;28;43mself\u001b[39;49m\u001b[38;5;241;43m.\u001b[39;49m\u001b[43mtraining\u001b[49m\u001b[43m,\u001b[49m\u001b[43m \u001b[49m\u001b[38;5;28;43mself\u001b[39;49m\u001b[38;5;241;43m.\u001b[39;49m\u001b[43mbidirectional\u001b[49m\u001b[43m,\u001b[49m\u001b[43m \u001b[49m\u001b[38;5;28;43mself\u001b[39;49m\u001b[38;5;241;43m.\u001b[39;49m\u001b[43mbatch_first\u001b[49m\u001b[43m)\u001b[49m\n\u001b[1;32m    913\u001b[0m \u001b[38;5;28;01melse\u001b[39;00m:\n\u001b[1;32m    914\u001b[0m     result \u001b[38;5;241m=\u001b[39m _VF\u001b[38;5;241m.\u001b[39mlstm(\u001b[38;5;28minput\u001b[39m, batch_sizes, hx, \u001b[38;5;28mself\u001b[39m\u001b[38;5;241m.\u001b[39m_flat_weights, \u001b[38;5;28mself\u001b[39m\u001b[38;5;241m.\u001b[39mbias,\n\u001b[1;32m    915\u001b[0m                       \u001b[38;5;28mself\u001b[39m\u001b[38;5;241m.\u001b[39mnum_layers, \u001b[38;5;28mself\u001b[39m\u001b[38;5;241m.\u001b[39mdropout, \u001b[38;5;28mself\u001b[39m\u001b[38;5;241m.\u001b[39mtraining, \u001b[38;5;28mself\u001b[39m\u001b[38;5;241m.\u001b[39mbidirectional)\n",
      "\u001b[0;31mRuntimeError\u001b[0m: Input and hidden tensors are not at the same device, found input tensor at cpu and hidden tensor at mps:0"
     ]
    }
   ],
   "source": [
    "# model.eval()\n",
    "# with torch.inference_mode():\n",
    "#     test_pred = model(temp.unsqueeze(dim=1)).to('cpu').numpy()\n",
    "\n",
    "# # plt.xlim(0, (10000))\n",
    "# # plt.ylim(-0, 1)\n",
    "# # plt.autoscale(False)\n",
    "# plt.plot(y_test, label='Actual FX')\n",
    "# plt.plot(test_pred, label='Test Predicted FX')\n",
    "# plt.xlabel('Time')\n",
    "# plt.ylabel('FX Channel')\n",
    "# plt.legend()\n",
    "# plt.show()"
   ]
  },
  {
   "cell_type": "code",
   "execution_count": null,
   "metadata": {},
   "outputs": [
    {
     "data": {
      "image/png": "[encoded data removed]",
      "text/plain": [
       "<Figure size 640x480 with 1 Axes>"
      ]
     },
     "metadata": {},
     "output_type": "display_data"
    }
   ],
   "source": [
    "model.eval()\n",
    "with torch.inference_mode():\n",
    "    test_pred = model(X_test).to('cpu').numpy()\n",
    "\n",
    "plt.plot(y_test, label='Actual FX')\n",
    "plt.plot(test_pred, label='Test Predicted FX')\n",
    "plt.xlabel('Time')\n",
    "plt.ylabel('FX Channel')\n",
    "plt.legend()\n",
    "plt.show()"
   ]
  },
  {
   "cell_type": "code",
   "execution_count": null,
   "metadata": {},
   "outputs": [
    {
     "data": {
      "text/plain": [
       "(tensor([0.9934]), tensor([0.0665]), tensor([0.]), tensor([0.9775]))"
      ]
     },
     "execution_count": 2067,
     "metadata": {},
     "output_type": "execute_result"
    }
   ],
   "source": [
    "y_test[0], y_test[5800], y_train[0], y_train[23000]"
   ]
  },
  {
   "cell_type": "code",
   "execution_count": null,
   "metadata": {},
   "outputs": [
    {
     "data": {
      "text/plain": [
       "(tensor(1.0000), tensor(0.8000))"
      ]
     },
     "execution_count": 1928,
     "metadata": {},
     "output_type": "execute_result"
    }
   ],
   "source": [
    "X_test.max(), X_test.min()"
   ]
  },
  {
   "cell_type": "code",
   "execution_count": null,
   "metadata": {},
   "outputs": [],
   "source": []
  }
 ],
 "metadata": {
  "kernelspec": {
   "display_name": "base",
   "language": "python",
   "name": "python3"
  },
  "language_info": {
   "codemirror_mode": {
    "name": "ipython",
    "version": 3
   },
   "file_extension": ".py",
   "mimetype": "text/x-python",
   "name": "python",
   "nbconvert_exporter": "python",
   "pygments_lexer": "ipython3",
   "version": "3.1.undefined"
  }
 },
 "nbformat": 4,
 "nbformat_minor": 2
}

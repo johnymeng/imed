{
  "cells": [
    {
      "cell_type": "markdown",
      "metadata": {
        "colab_type": "text",
        "id": "view-in-github"
      },
      "source": [
        "<a href=\"https://colab.research.google.com/github/johnymeng/pytorch/blob/main/rnn-colab.ipynb\" target=\"_parent\"><img src=\"https://colab.research.google.com/assets/colab-badge.svg\" alt=\"Open In Colab\"/></a>"
      ]
    },
    {
      "cell_type": "code",
      "execution_count": null,
      "metadata": {
        "colab": {
          "base_uri": "https://localhost:8080/"
        },
        "id": "_nvyP0ynXDlQ",
        "outputId": "dbc41fa0-9fec-48b6-ccd3-bca7ea6f9faf"
      },
      "outputs": [],
      "source": [
        "# This mounts your Google Drive to the Colab VM.\n",
        "from google.colab import drive\n",
        "drive.mount('/content/drive')\n",
        "\n",
        "# TODO: Enter the foldername in your Drive where you have saved the unzipped\n",
        "# assignment folder, e.g. 'cs231n/assignments/assignment1/'\n",
        "FOLDERNAME = 'PyTorch Test Project/N_TXT'\n",
        "assert FOLDERNAME is not None, \"[!] Enter the foldername.\"\n",
        "\n",
        "# Now that we've mounted your Drive, this ensures that\n",
        "# the Python interpreter of the Colab VM can load\n",
        "# python files from within it.\n",
        "import sys\n",
        "sys.path.append('/content/drive/My Drive/{}'.format(FOLDERNAME))\n",
        "\n",
        "# This downloads the CIFAR-10 dataset to your Drive\n",
        "# if it doesn't already exist.\n",
        "%cd /content/drive/My\\ Drive/$FOLDERNAME/cs231n/datasets/\n",
        "!bash get_datasets.sh\n",
        "%cd /content/drive/My\\ Drive/$FOLDERNAME"
      ]
    },
    {
      "cell_type": "code",
      "execution_count": null,
      "metadata": {
        "id": "mmg8AybAWqZY"
      },
      "outputs": [],
      "source": [
        "import torch\n",
        "import pandas as pd\n",
        "import numpy as np\n",
        "from torch import nn\n",
        "import os\n",
        "import sklearn\n",
        "import matplotlib.pyplot as plt\n",
        "import sys"
      ]
    },
    {
      "cell_type": "code",
      "execution_count": null,
      "metadata": {
        "colab": {
          "base_uri": "https://localhost:8080/"
        },
        "id": "Z3whhAyfXUoA",
        "outputId": "b71a441e-bb1b-4e78-a571-85fec5c007b4"
      },
      "outputs": [],
      "source": [
        "from google.colab import drive\n",
        "drive.mount('/content/drive')"
      ]
    },
    {
      "cell_type": "code",
      "execution_count": null,
      "metadata": {
        "id": "vqE2ou9KWqZY"
      },
      "outputs": [],
      "source": [
        "path = \"/content/drive/MyDrive/PyTorch Test Project/N_TXT\"\n",
        "\n",
        "os.chdir(path)\n",
        "\n",
        "fx_data = np.array([], dtype=np.float32)\n",
        "\n",
        "#gets data from file specified by file_path\n",
        "def get_contents(file_path):\n",
        "    global fx_data\n",
        "    skip_lines = 7\n",
        "\n",
        "    with open(file_path,'r') as file:\n",
        "\n",
        "        for skips in range(skip_lines):\n",
        "            next(file)\n",
        "\n",
        "        lines = file.readlines()[:-1]\n",
        "\n",
        "        for line in lines:\n",
        "            data = line.split()[-1]\n",
        "            fx_data = np.append(fx_data, np.float32(data))\n",
        "            #print(data)"
      ]
    },
    {
      "cell_type": "code",
      "execution_count": null,
      "metadata": {
        "colab": {
          "base_uri": "https://localhost:8080/"
        },
        "id": "lw6vIRejWqZZ",
        "outputId": "d083e422-95ea-4505-d962-4fd00cc1e87a"
      },
      "outputs": [],
      "source": [
        "#go through all files in directory and extract data from txt files\n",
        "for file in os.listdir():\n",
        "    if file.endswith(\".txt\"):\n",
        "        file_path = f\"{path}/{file}\"\n",
        "        print(f\"Currently working on: {file_path}\")\n",
        "        get_contents(file_path)\n",
        "\n",
        "fx_data.dtype"
      ]
    },
    {
      "cell_type": "code",
      "execution_count": null,
      "metadata": {
        "colab": {
          "base_uri": "https://localhost:8080/"
        },
        "id": "5nPLp0ZwWqZZ",
        "outputId": "5c246054-86f1-4ca4-d402-a727eb759078"
      },
      "outputs": [],
      "source": [
        "#create time \"sample\" for dataframe\n",
        "time_data = np.array([], dtype=np.float32)\n",
        "\n",
        "for x in range(len(fx_data)):\n",
        "    time_data = np.append(time_data, np.float32(x))\n",
        "    type(x)\n",
        "\n",
        "time_data, time_data[0].dtype"
      ]
    },
    {
      "cell_type": "code",
      "execution_count": null,
      "metadata": {
        "colab": {
          "base_uri": "https://localhost:8080/",
          "height": 424
        },
        "id": "T-D9zLaxWqZZ",
        "outputId": "534c0a11-f08f-4a9e-e8aa-e5315d16f0dc"
      },
      "outputs": [],
      "source": [
        "#create time \"sample\" for dataframe\n",
        "dataset = pd.DataFrame({\"Time\": time_data,\n",
        "                        \"FX Channel\": fx_data})\n",
        "dataset"
      ]
    },
    {
      "cell_type": "code",
      "execution_count": null,
      "metadata": {
        "colab": {
          "base_uri": "https://localhost:8080/",
          "height": 448
        },
        "id": "XrdTBFlMWqZa",
        "outputId": "d8b54f0c-2bb5-4f6d-9f6a-d78bef7c5ffb"
      },
      "outputs": [],
      "source": [
        "plt.plot(dataset[\"FX Channel\"])"
      ]
    },
    {
      "cell_type": "code",
      "execution_count": null,
      "metadata": {
        "colab": {
          "base_uri": "https://localhost:8080/"
        },
        "id": "zAuentmfWqZa",
        "outputId": "dceb54c1-1d86-4fba-d431-d2e1e2389275"
      },
      "outputs": [],
      "source": [
        "dataset.iloc[:, 1]"
      ]
    },
    {
      "cell_type": "code",
      "execution_count": null,
      "metadata": {
        "colab": {
          "base_uri": "https://localhost:8080/"
        },
        "id": "KA4LeprdWqZa",
        "outputId": "2f542662-7773-47f5-dcf6-3bd7c0ef1f80"
      },
      "outputs": [],
      "source": [
        "dataset[\"FX Channel\"].shape, type(dataset[\"FX Channel\"])"
      ]
    },
    {
      "cell_type": "code",
      "execution_count": null,
      "metadata": {
        "colab": {
          "base_uri": "https://localhost:8080/"
        },
        "id": "w_00CS91WqZa",
        "outputId": "4cda61dd-9dc8-478a-af36-dd4ac0931a71"
      },
      "outputs": [],
      "source": [
        "from sklearn.model_selection import train_test_split\n",
        "\n",
        "RANDOM_SEED = 42\n",
        "\n",
        "#split into train, test and validation, convert PD series to numpy first before train_test_split\n",
        "X_train, X_test, y_train, y_test = train_test_split(dataset[\"Time\"].to_numpy(), dataset[\"FX Channel\"].to_numpy(), test_size = 0.2, random_state=RANDOM_SEED)\n",
        "\n",
        "X_train.size, X_test.size, X_train.shape, X_test.shape"
      ]
    },
    {
      "cell_type": "code",
      "execution_count": null,
      "metadata": {
        "colab": {
          "base_uri": "https://localhost:8080/"
        },
        "id": "wVGfSalXWqZa",
        "outputId": "e88b268c-3406-43f5-e4c7-1655b64615b5"
      },
      "outputs": [],
      "source": [
        "#reshape X_train and y_train so that we can use scaler from sklearn\n",
        "X_train = X_train.reshape(-1, 1)\n",
        "X_test = X_test.reshape(-1, 1)\n",
        "X_test.shape, X_train.shape, y_train.shape"
      ]
    },
    {
      "cell_type": "code",
      "execution_count": null,
      "metadata": {
        "colab": {
          "base_uri": "https://localhost:8080/"
        },
        "id": "Ag5MD3jBWqZa",
        "outputId": "527ea42f-a4a6-4bba-b3d4-a8af4d08fb11"
      },
      "outputs": [],
      "source": [
        "from sklearn import preprocessing\n",
        "\n",
        "#scale and normalize data\n",
        "scaler = preprocessing.StandardScaler()\n",
        "\n",
        "scaler.fit_transform(X_train)\n",
        "scaler.fit_transform(X_test)"
      ]
    },
    {
      "cell_type": "code",
      "execution_count": null,
      "metadata": {
        "id": "rzusiGhQWqZa"
      },
      "outputs": [],
      "source": [
        "#set device\n",
        "device = \"cuda\" if torch.cuda.is_available() else \"cpu\""
      ]
    },
    {
      "cell_type": "code",
      "execution_count": null,
      "metadata": {
        "id": "VoZUfUz6WqZa"
      },
      "outputs": [],
      "source": [
        "#convert data from numpy to tensors\n",
        "X_train = torch.from_numpy(X_train).type(torch.float32)\n",
        "X_test = torch.from_numpy(X_test).type(torch.float32)\n",
        "y_train = torch.from_numpy(y_train).type(torch.float32)\n",
        "y_test = torch.from_numpy(y_test).type(torch.float32)"
      ]
    },
    {
      "cell_type": "code",
      "execution_count": null,
      "metadata": {
        "colab": {
          "base_uri": "https://localhost:8080/"
        },
        "id": "wTvlVqxoWqZb",
        "outputId": "34232f24-9250-42c4-85e7-87d3095ea569"
      },
      "outputs": [],
      "source": [
        "type(X_train), X_train.dtype"
      ]
    },
    {
      "cell_type": "code",
      "execution_count": null,
      "metadata": {
        "colab": {
          "base_uri": "https://localhost:8080/",
          "height": 424
        },
        "id": "jmi6rnLsWqZb",
        "outputId": "31b972fa-d3ed-4bc9-860e-1ff2ec2602d1"
      },
      "outputs": [],
      "source": [
        "dataset"
      ]
    },
    {
      "cell_type": "code",
      "execution_count": null,
      "metadata": {
        "colab": {
          "base_uri": "https://localhost:8080/"
        },
        "id": "xuxXgfofWqZb",
        "outputId": "484b90c3-4ca8-4c24-d432-3cbd988f5d3d"
      },
      "outputs": [],
      "source": [
        "time_data.shape, fx_data.shape, fx_data.shape[0]"
      ]
    },
    {
      "cell_type": "code",
      "execution_count": null,
      "metadata": {
        "id": "ru-fkTD3WqZb"
      },
      "outputs": [],
      "source": [
        "#send data to device\n",
        "X_train = X_train.to(device).type(torch.float32)\n",
        "X_test = X_test.to(device).type(torch.float32)\n",
        "y_test = y_test.to(device).type(torch.float32)\n",
        "y_train = y_train.to(device).type(torch.float32)"
      ]
    },
    {
      "cell_type": "code",
      "execution_count": null,
      "metadata": {
        "colab": {
          "base_uri": "https://localhost:8080/"
        },
        "id": "aK1rA4wkWqZb",
        "outputId": "9ab0ae00-d6d2-469a-d9fb-fb2507fe293a"
      },
      "outputs": [],
      "source": [
        "#trying to split data loader now? not too sure if this is the best way\n",
        "split_idx = int(0.8 * len(dataset))\n",
        "\n",
        "train_data = dataset[:split_idx]\n",
        "test_data = dataset[split_idx:]\n",
        "\n",
        "train_data.size, test_data.size, train_data[\"FX Channel\"], train_data[\"Time\"]"
      ]
    },
    {
      "cell_type": "code",
      "execution_count": null,
      "metadata": {
        "id": "MknF1u03azTM"
      },
      "outputs": [],
      "source": [
        "# for x in range(10):\n",
        "#     print(f\"{train_data[x]}\\n\")"
      ]
    },
    {
      "cell_type": "code",
      "execution_count": null,
      "metadata": {
        "colab": {
          "base_uri": "https://localhost:8080/"
        },
        "id": "MVIqLYdeWqZb",
        "outputId": "30cdf4aa-0f98-48c1-8675-4683c1832c3a"
      },
      "outputs": [],
      "source": [
        "time_data.shape, time_data[7].size, fx_data[0].size"
      ]
    },
    {
      "cell_type": "code",
      "execution_count": null,
      "metadata": {
        "colab": {
          "base_uri": "https://localhost:8080/"
        },
        "id": "O1MTBEa9WqZb",
        "outputId": "0d562e3b-b900-4ddc-e458-4e8f5596d0b8"
      },
      "outputs": [],
      "source": [
        "import os\n",
        "import pandas as pd\n",
        "from torchvision.io import read_image\n",
        "from torch.utils.data import Dataset\n",
        "from pathlib import Path\n",
        "\n",
        "split_idx = int(0.8 * len(fx_data))\n",
        "print(f\"{split_idx}\")\n",
        "\n",
        "#convert data to use for dataloader\n",
        "class FX_train_dataset(Dataset):\n",
        "    def __init__(self):\n",
        "        self.x = torch.from_numpy(time_data[:split_idx])\n",
        "        self.y = torch.from_numpy(fx_data[:split_idx])\n",
        "        self.n_samples = split_idx\n",
        "\n",
        "    def __len__(self):\n",
        "        return self.n_samples\n",
        "\n",
        "    def __getitem__(self, idx):\n",
        "        return self.x[idx], self.y[idx]\n",
        "\n",
        "#convert data to use for dataloader\n",
        "class FX_test_dataset(Dataset):\n",
        "    def __init__(self):\n",
        "        self.x = torch.from_numpy(time_data[split_idx:])\n",
        "        self.y = torch.from_numpy(fx_data[split_idx:])\n",
        "        self.n_samples = fx_data.shape[0] - split_idx\n",
        "\n",
        "    def __len__(self):\n",
        "        return self.n_samples\n",
        "\n",
        "    def __getitem__(self, idx):\n",
        "        return self.x[idx], self.y[idx]"
      ]
    },
    {
      "cell_type": "code",
      "execution_count": null,
      "metadata": {
        "colab": {
          "base_uri": "https://localhost:8080/"
        },
        "id": "FoYDGK5jWqZb",
        "outputId": "1a0a9ab0-9052-449c-beeb-9666e6f5fcdb"
      },
      "outputs": [],
      "source": [
        "train_data = FX_train_dataset()\n",
        "test_data = FX_test_dataset()\n",
        "\n",
        "len(train_data), train_data[0]"
      ]
    },
    {
      "cell_type": "code",
      "execution_count": null,
      "metadata": {
        "colab": {
          "base_uri": "https://localhost:8080/"
        },
        "id": "aab73hL-WqZb",
        "outputId": "2eaecab4-52ae-48a9-df5d-cb4885c9892a"
      },
      "outputs": [],
      "source": [
        "from torch.utils.data import DataLoader\n",
        "\n",
        "#setup batch size hyperparameter\n",
        "BATCH_SIZE = 16\n",
        "\n",
        "#turn datasets into iterables (batches)\n",
        "train_dataloader = DataLoader(dataset=train_data,\n",
        "                              batch_size=BATCH_SIZE,\n",
        "                              shuffle=True)\n",
        "\n",
        "test_dataloader = DataLoader(dataset=test_data,\n",
        "                              batch_size=BATCH_SIZE,\n",
        "                              shuffle=False)\n",
        "\n",
        "#check out what we've created\n",
        "print(f\"Dataloaders: {train_dataloader, test_dataloader}\")\n",
        "print(f\"Length of train_dataloader: {len(train_dataloader)} batches of {BATCH_SIZE}\")\n",
        "print(f\"Length of train_dataloader: {len(test_dataloader)} batches of {BATCH_SIZE}\")"
      ]
    },
    {
      "cell_type": "code",
      "execution_count": null,
      "metadata": {
        "colab": {
          "base_uri": "https://localhost:8080/",
          "height": 291
        },
        "id": "QWZ6q_HmWqZb",
        "outputId": "e05a3653-e4c4-45a1-e705-01838efee99b"
      },
      "outputs": [],
      "source": [
        "type(train_dataloader)"
      ]
    },
    {
      "cell_type": "code",
      "execution_count": null,
      "metadata": {
        "colab": {
          "base_uri": "https://localhost:8080/"
        },
        "id": "Y_g6wGdbWqZb",
        "outputId": "602725bb-959f-4d11-b0a2-54f820056310"
      },
      "outputs": [],
      "source": [
        "# #checkout whats inside the training dataloader\n",
        "train_features_batch, train_labels_batch = next(iter(train_dataloader))\n",
        "train_features_batch.shape, train_labels_batch.shape\n"
      ]
    },
    {
      "cell_type": "code",
      "execution_count": null,
      "metadata": {
        "id": "K61AdNV_WqZc"
      },
      "outputs": [],
      "source": [
        "#set manual seed\n",
        "torch.manual_seed(42)\n",
        "torch.cuda.manual_seed(42)"
      ]
    },
    {
      "cell_type": "code",
      "execution_count": null,
      "metadata": {
        "colab": {
          "base_uri": "https://localhost:8080/"
        },
        "id": "W_gxafw2WqZc",
        "outputId": "6a250eff-6c0c-41fd-bda4-94bce4c7a59d"
      },
      "outputs": [],
      "source": [
        "X_train.dtype"
      ]
    },
    {
      "cell_type": "code",
      "execution_count": null,
      "metadata": {
        "id": "Xg8BU6WrWqZc"
      },
      "outputs": [],
      "source": [
        "# class RNN(nn.Module):\n",
        "#     def __init__(self, input_size, output_size, hidden_units):\n",
        "#         \"\"\"\n",
        "#             input_size = number of features of input data\n",
        "#             output_size = number of features for output data\n",
        "#             hidden_units = number of hidden neurons per layer\n",
        "#         \"\"\"\n",
        "#         super().__init__()\n",
        "\n",
        "#         #init layer sizes\n",
        "#         self.input_size = input_size\n",
        "#         self.output_size = output_size\n",
        "#         self.hidden_units = hidden_units\n",
        "\n",
        "#         self.i2h = nn.Linear(input_size, hidden_units, bias=False)\n",
        "#         self.h2h = nn.Linear(hidden_units, hidden_units)\n",
        "#         self.h2o = nn.Linear(hidden_units, output_size)\n",
        "\n",
        "#         def forward(self, x, hidden_state):\n",
        "#             x = self.i2h(x)\n",
        "#             hidden_state = torch.tanh(x + hidden_state)\n",
        "#             out = self.h2o(hidden_state)\n",
        "#             return out, hidden_state\n",
        "\n",
        "#         def init_zero_hidden(self, batch_size=1) -> torch.Tensor:\n",
        "#             return torch.zeroes(batch_size, self.hidden_units, requires_grad = False)\n"
      ]
    },
    {
      "cell_type": "code",
      "execution_count": null,
      "metadata": {
        "id": "ZFZM0GyLWqZc"
      },
      "outputs": [],
      "source": [
        "\"\"\"\n",
        "Model definition\n",
        "\"\"\"\n",
        "class RNN(nn.Module):\n",
        "    \"\"\"\n",
        "    Basic RNN block. This represents a single layer of RNN\n",
        "    \"\"\"\n",
        "    def __init__(self, input_size: int, hidden_size: int, output_size: int) -> None:\n",
        "        \"\"\"\n",
        "        input_size: Number of features of your input vector\n",
        "        hidden_size: Number of hidden neurons\n",
        "        output_size: Number of features of your output vector\n",
        "        \"\"\"\n",
        "        super().__init__()\n",
        "        self.input_size = input_size\n",
        "        self.hidden_size = hidden_size\n",
        "        self.output_size = output_size\n",
        "        self.batch_size = 16\n",
        "\n",
        "        self.i2h = nn.Linear(input_size, hidden_size, bias=False)\n",
        "        self.h2h = nn.Linear(hidden_size, hidden_size)\n",
        "        self.h2o = nn.Linear(hidden_size, output_size)\n",
        "\n",
        "\n",
        "    def forward(self, x, hidden_state) -> tuple[torch.Tensor, torch.Tensor]:\n",
        "        \"\"\"\n",
        "        Returns softmax(linear_out) and tanh(i2h + i2o)\n",
        "        Inputs\n",
        "        ------\n",
        "        x: Input vector x  with shape (vocab_size, )\n",
        "        hidden_state: Hidden state matrix\n",
        "        Outputs\n",
        "        -------\n",
        "        out: Prediction vector\n",
        "        hidden_state: New hidden state matrix\n",
        "        \"\"\"\n",
        "        x = self.i2h(x)\n",
        "       # print(f\"X rnn shape: {x.shape}\")\n",
        "        hidden_state = self.h2h(hidden_state)\n",
        "        hidden_state = torch.tanh(x + hidden_state)\n",
        "       # print(f\"hidden_Staete shape: {hidden_state.shape}\")\n",
        "        return self.h2o(hidden_state), hidden_state\n",
        "\n",
        "    def init_zero_hidden(self, batch_size=1) -> torch.Tensor:\n",
        "        \"\"\"\n",
        "        Returns a hidden state with specified batch size. Defaults to 1\n",
        "        \"\"\"\n",
        "        return torch.zeros(batch_size, self.hidden_size, requires_grad=False)"
      ]
    },
    {
      "cell_type": "code",
      "execution_count": null,
      "metadata": {
        "id": "bNi8CjedWqZc"
      },
      "outputs": [],
      "source": [
        "#THIS MODEL WORKS BUT NOT VERY WELL\n",
        "\n",
        "# class RNN(nn.Module):\n",
        "#     def __init__(self):\n",
        "#         super().__init__()\n",
        "#         self.lstm = nn.LSTM(input_size=1, hidden_size=32, num_layers=1, batch_first=True)\n",
        "#         self.linear = nn.Linear(32, 1)\n",
        "#     def forward(self, x):\n",
        "#         x, _ = self.lstm(x)\n",
        "#         x = self.linear(x)\n",
        "#         return x"
      ]
    },
    {
      "cell_type": "code",
      "execution_count": null,
      "metadata": {
        "id": "ZIiDW_v8t6xf"
      },
      "outputs": [],
      "source": [
        "rnn = RNN(input_size = 1,\n",
        "          hidden_size = 16,\n",
        "          output_size = 1,\n",
        "         ).to(device)\n",
        "\n",
        "loss_fn = nn.MSELoss()\n",
        "\n",
        "optimizer = torch.optim.Adam(params=rnn.parameters(),\n",
        "                             lr = 0.25)"
      ]
    },
    {
      "cell_type": "code",
      "execution_count": null,
      "metadata": {
        "id": "gayvZf1TWqZc"
      },
      "outputs": [],
      "source": [
        "def training_loop(model: torch.nn.Module,\n",
        "                dataloader: torch.utils.data.DataLoader,\n",
        "                epochs: int,\n",
        "                optimizer: torch.optim,\n",
        "                loss_fn: torch.optim.Optimizer):\n",
        "    train_loss = {}\n",
        "    model.to(device)\n",
        "\n",
        "    #set to train\n",
        "    model.train()\n",
        "\n",
        "    for epoch in range(epochs):\n",
        "        epoch_loss = list()\n",
        "\n",
        "        loss = 0\n",
        "\n",
        "        for batch, (X, y) in enumerate(train_dataloader):\n",
        "\n",
        "            hidden = model.init_zero_hidden(batch_size=model.batch_size)\n",
        "\n",
        "            #print(f\"X shape: {X.shape}\")\n",
        "\n",
        "            X, y, hidden = X.to(device).reshape(1, 16,1), y.to(device), hidden.to(device)\n",
        "            #make pred\n",
        "            y_pred, hidden = model(X, hidden)\n",
        "\n",
        "            #calc loss\n",
        "            loss += loss_fn(y_pred, y)\n",
        "\n",
        "            #optim zero grad\n",
        "            model.zero_grad()\n",
        "\n",
        "        #back prop\n",
        "        loss.backward()\n",
        "\n",
        "        #optim step\n",
        "        nn.utils.clip_grad_norm_(model.parameters(), 2)\n",
        "        optimizer.step()\n",
        "\n",
        "        epoch_loss.append(loss.detach().item() / len(train_dataloader))\n",
        "\n",
        "        train_loss[epoch] = torch.tensor(epoch_loss).mean()\n",
        "\n",
        "        print(f\"epoch: {epoch} | loss: {train_loss[epoch]}\")"
      ]
    },
    {
      "cell_type": "code",
      "execution_count": null,
      "metadata": {
        "colab": {
          "base_uri": "https://localhost:8080/"
        },
        "id": "RcmFs-OKWqZc",
        "outputId": "ef706437-d228-4d36-f2cc-947ad104ee46"
      },
      "outputs": [],
      "source": [
        "X_train.type, X_train.dtype"
      ]
    },
    {
      "cell_type": "code",
      "execution_count": null,
      "metadata": {
        "colab": {
          "base_uri": "https://localhost:8080/"
        },
        "id": "bQ3QuwxTWqZd",
        "outputId": "4552f9d0-5a6c-427e-cd4f-39acd804e4df"
      },
      "outputs": [],
      "source": [
        "EPOCHS = 1000\n",
        "\n",
        "training_loop(model=rnn,\n",
        "              dataloader=train_dataloader,\n",
        "              epochs = EPOCHS,\n",
        "              optimizer=optimizer,\n",
        "              loss_fn=loss_fn)"
      ]
    },
    {
      "cell_type": "code",
      "execution_count": null,
      "metadata": {
        "id": "6KIZ2Gn5jCq3"
      },
      "outputs": [],
      "source": [
        "  # Calculate accuracy (a classification metric)\n",
        "def accuracy_fn(y_true, y_pred):\n",
        "    \"\"\"Calculates accuracy between truth labels and predictions.\n",
        "\n",
        "    Args:\n",
        "        y_true (torch.Tensor): Truth labels for predictions.\n",
        "        y_pred (torch.Tensor): Predictions to be compared to predictions.\n",
        "\n",
        "    Returns:\n",
        "        [torch.float]: Accuracy value between y_true and y_pred, e.g. 78.45\n",
        "    \"\"\"\n",
        "    correct = torch.eq(y_true, y_pred).sum().item()\n",
        "    acc = (correct / len(y_pred)) * 100\n",
        "    return acc"
      ]
    },
    {
      "cell_type": "code",
      "execution_count": null,
      "metadata": {
        "id": "4TCSoEmCil3S"
      },
      "outputs": [],
      "source": [
        "predictions = np.array([])\n",
        "\n",
        "# Move values to device\n",
        "torch.manual_seed(42)\n",
        "def eval_model(model: torch.nn.Module,\n",
        "               data_loader: torch.utils.data.DataLoader,\n",
        "               loss_fn: torch.nn.Module,\n",
        "               accuracy_fn,\n",
        "               device: torch.device = device):\n",
        "    \"\"\"Evaluates a given model on a given dataset.\n",
        "\n",
        "    Args:\n",
        "        model (torch.nn.Module): A PyTorch model capable of making predictions on data_loader.\n",
        "        data_loader (torch.utils.data.DataLoader): The target dataset to predict on.\n",
        "        loss_fn (torch.nn.Module): The loss function of model.\n",
        "        accuracy_fn: An accuracy function to compare the models predictions to the truth labels.\n",
        "        device (str, optional): Target device to compute on. Defaults to device.\n",
        "\n",
        "    Returns:\n",
        "        (dict): Results of model making predictions on data_loader.\n",
        "    \"\"\"\n",
        "    loss, acc = 0, 0\n",
        "    model.eval()\n",
        "    with torch.inference_mode():\n",
        "        for X, y in data_loader:\n",
        "            global predictions\n",
        "            # Send data to the target device\n",
        "            X, y = X.reshape(1, len(X), 1).to(device), y.reshape(1, len(X), 1).to(device)\n",
        "            y_pred = model(X)\n",
        "            predictions = np.append(predictions, y_pred.cpu())\n",
        "            loss += loss_fn(y_pred, y)\n",
        "            acc += accuracy_fn(y_true=y, y_pred=y_pred.argmax(dim=1))\n",
        "\n",
        "        # Scale loss and acc\n",
        "        loss /= len(data_loader)\n",
        "        acc /= len(data_loader)\n",
        "    return {\"model_name\": model.__class__.__name__, # only works when model was created with a class\n",
        "            \"model_loss\": loss.item(),\n",
        "            \"model_acc\": acc}"
      ]
    },
    {
      "cell_type": "code",
      "execution_count": null,
      "metadata": {
        "colab": {
          "base_uri": "https://localhost:8080/",
          "height": 365
        },
        "id": "S7Nye6vsjdiH",
        "outputId": "323e8d44-f3b3-4c68-caf8-281a3e303877"
      },
      "outputs": [],
      "source": [
        "eval_model(model=rnn,\n",
        "           data_loader= test_dataloader,\n",
        "           loss_fn = loss_fn,\n",
        "           accuracy_fn=accuracy_fn,\n",
        "           device=device)"
      ]
    },
    {
      "cell_type": "code",
      "execution_count": null,
      "metadata": {
        "id": "1r0TB2TajPRF"
      },
      "outputs": [],
      "source": [
        "# Plot linear data or training and test and predictions (optional)\n",
        "def plot_predictions(\n",
        "    train_data, train_labels, test_data, test_labels, predictions=None\n",
        "):\n",
        "    \"\"\"\n",
        "  Plots linear training data and test data and compares predictions.\n",
        "  \"\"\"\n",
        "    plt.figure(figsize=(20, 15))\n",
        "\n",
        "    # Plot training data in blue\n",
        "    plt.scatter(train_data, train_labels, c=\"b\", s=4, label=\"Training data\")\n",
        "\n",
        "    # Plot test data in green\n",
        "    plt.scatter(test_data, test_labels, c=\"g\", s=4, label=\"Testing data\")\n",
        "\n",
        "    if predictions is not None:\n",
        "        # Plot the predictions in red (predictions were made on the test data)\n",
        "        plt.scatter(test_data, predictions, c=\"r\", s=4, label=\"Predictions\")\n",
        "\n",
        "    # Show the legend\n",
        "    plt.legend(prop={\"size\": 14})"
      ]
    },
    {
      "cell_type": "code",
      "execution_count": null,
      "metadata": {
        "colab": {
          "base_uri": "https://localhost:8080/",
          "height": 1000
        },
        "id": "I_QruWLkWqZd",
        "outputId": "e3c4d8f9-d159-41ff-de59-41a7ea6716db"
      },
      "outputs": [],
      "source": [
        "plot_predictions(X_train.cpu().numpy(), y_train.cpu().numpy(), X_test.cpu().numpy(), y_test.cpu().numpy(), predictions=predictions)"
      ]
    },
    {
      "cell_type": "code",
      "execution_count": null,
      "metadata": {
        "id": "_vgRuaKJWqZd"
      },
      "outputs": [],
      "source": []
    }
  ],
  "metadata": {
    "accelerator": "GPU",
    "colab": {
      "gpuType": "T4",
      "include_colab_link": true,
      "provenance": []
    },
    "kernelspec": {
      "display_name": "Python 3",
      "name": "python3"
    },
    "language_info": {
      "codemirror_mode": {
        "name": "ipython",
        "version": 3
      },
      "file_extension": ".py",
      "mimetype": "text/x-python",
      "name": "python",
      "nbconvert_exporter": "python",
      "pygments_lexer": "ipython3",
      "version": "3.10.14"
    }
  },
  "nbformat": 4,
  "nbformat_minor": 0
}

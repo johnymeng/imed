{
 "cells": [
  {
   "cell_type": "code",
   "execution_count": null,
   "metadata": {},
   "outputs": [],
   "source": [
    "import torch\n",
    "import pandas as pd\n",
    "import numpy as np\n",
    "from torch import nn\n",
    "import os\n",
    "import sklearn\n",
    "import matplotlib.pyplot as plt\n",
    "import sys\n",
    "import re"
   ]
  },
  {
   "cell_type": "code",
   "execution_count": null,
   "metadata": {},
   "outputs": [],
   "source": [
    "cwd = os.getcwd()\n",
    "\n",
    "path = cwd + \"/ACC\"\n",
    "\n",
    "print(path)\n",
    "\n",
    "os.chdir(path)"
   ]
  },
  {
   "cell_type": "code",
   "execution_count": null,
   "metadata": {},
   "outputs": [],
   "source": [
    "#gets data from file specified by file_path\n",
    "def get_contents(file_path):\n",
    "    \n",
    "    time = []\n",
    "    x = []\n",
    "    y = []\n",
    "    z = []\n",
    "    \n",
    "    for file in os.listdir():\n",
    "        if file.endswith(\".npy\"):\n",
    "            file_path = f\"{path}/{file}\"\n",
    "            data = np.load(file_path)\n",
    "\n",
    "            time = data[0]\n",
    "            x = data[1]\n",
    "            y = data[2]\n",
    "            z = data[3]\n",
    "                \n",
    "    df = pd.DataFrame({\n",
    "        'time' : time,\n",
    "        'x': x,\n",
    "        'y': y,\n",
    "        'z': z,\n",
    "    })\n",
    "    \n",
    "    return df"
   ]
  },
  {
   "cell_type": "code",
   "execution_count": null,
   "metadata": {},
   "outputs": [],
   "source": [
    "dataset = get_contents(path)\n",
    "\n",
    "dataset"
   ]
  },
  {
   "cell_type": "markdown",
   "metadata": {},
   "source": [
    "## iMed Dataset"
   ]
  },
  {
   "cell_type": "code",
   "execution_count": null,
   "metadata": {},
   "outputs": [],
   "source": [
    "from mpl_toolkits.mplot3d import Axes3D\n",
    "\n",
    "fig = plt.figure()\n",
    "ax = fig.add_subplot(111, projection='3d')\n",
    "\n",
    "ax.set_xlabel('X Label')\n",
    "ax.set_ylabel('Y Label')\n",
    "ax.set_zlabel('Z Label')\n",
    "\n",
    "img = ax.scatter(dataset['x'], dataset['y'], dataset['z'], c = dataset['time'], cmap = plt.hot())\n",
    "fig.colorbar(img)\n",
    "plt.show()"
   ]
  },
  {
   "cell_type": "code",
   "execution_count": null,
   "metadata": {},
   "outputs": [],
   "source": [
    "from matplotlib.pyplot import figure\n",
    "\n",
    "figure(figsize=(20, 15), dpi=300)\n",
    "\n",
    "plt.plot(dataset['time'], dataset['x'], label='x')\n",
    "plt.plot(dataset['time'], dataset['y'], label='y')\n",
    "plt.plot(dataset['time'], dataset['z'], label='z')\n",
    "\n",
    "plt.xlabel(\"time\")\n",
    "plt.ylabel(\"accelerometer value\")\n",
    "plt.title(\"accelerometer Data\")\n",
    "\n",
    "plt.legend()\n",
    "plt.show()\n"
   ]
  },
  {
   "cell_type": "markdown",
   "metadata": {},
   "source": [
    "## Biomedical Signal Processing and Control Dataset [18]"
   ]
  },
  {
   "cell_type": "code",
   "execution_count": null,
   "metadata": {},
   "outputs": [],
   "source": []
  },
  {
   "cell_type": "markdown",
   "metadata": {},
   "source": []
  },
  {
   "cell_type": "code",
   "execution_count": null,
   "metadata": {},
   "outputs": [],
   "source": []
  },
  {
   "cell_type": "markdown",
   "metadata": {},
   "source": [
    "## MHEALTH Dataset [1]\n",
    "* 24 columns of data\n",
    "* Column 1: acceleration from the chest sensor (X axis)\n",
    "* Column 2: acceleration from the chest sensor (Y axis)\n",
    "* Column 3: acceleration from the chest sensor (Z axis)\n",
    "* Column 4: electrocardiogram signal (lead 1) \n",
    "* Column 5: electrocardiogram signal (lead 2)\n",
    "* Column 6: acceleration from the left-ankle sensor (X axis)\n",
    "* Column 7: acceleration from the left-ankle sensor (Y axis)\n",
    "* Column 8: acceleration from the left-ankle sensor (Z axis)\n",
    "* Column 9: gyro from the left-ankle sensor (X axis)\n",
    "* Column 10: gyro from the left-ankle sensor (Y axis)\n",
    "* Column 11: gyro from the left-ankle sensor (Z axis)\n",
    "* Column 13: magnetometer from the left-ankle sensor (X axis)\n",
    "* Column 13: magnetometer from the left-ankle sensor (Y axis)\n",
    "* Column 14: magnetometer from the left-ankle sensor (Z axis)\n",
    "* Column 15: acceleration from the right-lower-arm sensor (X axis)\n",
    "* Column 16: acceleration from the right-lower-arm sensor (Y axis)\n",
    "* Column 17: acceleration from the right-lower-arm sensor (Z axis)\n",
    "* Column 18: gyro from the right-lower-arm sensor (X axis)\n",
    "* Column 19: gyro from the right-lower-arm sensor (Y axis)\n",
    "* Column 20: gyro from the right-lower-arm sensor (Z axis)\n",
    "* Column 21: magnetometer from the right-lower-arm sensor (X axis)\n",
    "* Column 22: magnetometer from the right-lower-arm sensor (Y axis)\n",
    "* Column 23: magnetometer from the right-lower-arm sensor (Z axis)\n",
    "* Column 24: Label (0 for the null class)\n"
   ]
  },
  {
   "cell_type": "code",
   "execution_count": null,
   "metadata": {},
   "outputs": [],
   "source": [
    "path = \"/home/jm/vscode/Python/pytorch/Fall Dectection/MHEALTHDATASET\"\n",
    "\n",
    "os.chdir(path)\n",
    "\n",
    "mhealth_data = np.array([], dtype=np.float32)\n",
    "\n",
    "#gets data from file specified by file_path\n",
    "def get_contents(file_path):\n",
    "    global mhealth_data\n",
    "    \n",
    "    #chest sensor\n",
    "    chest_x_accel = []\n",
    "    chest_y_accel = []\n",
    "    chest_z_accel = []\n",
    "    \n",
    "    #electrocardiogram signals\n",
    "    ecs1 = []\n",
    "    ecs2 = []\n",
    "    \n",
    "    #lower left ankle acceleration data\n",
    "    l_ankle_x_accel = []\n",
    "    l_ankle_y_accel = []\n",
    "    l_ankle_z_accel = []\n",
    "    \n",
    "    #left ankle gyro data\n",
    "    l_ankle_x_g = []\n",
    "    l_ankle_y_g= []\n",
    "    l_ankle_z_g = []\n",
    "    \n",
    "    #magnetometer from left-ankle\n",
    "    l_ankle_x_mag = []\n",
    "    l_ankle_y_mag = []\n",
    "    l_ankle_x_mag = []\n",
    "    \n",
    "    #right lower arm accerleration data\n",
    "    r_arm_x_accel = []\n",
    "    r_arm_y_accel = []\n",
    "    r_arm_z_accel = []\n",
    "\n",
    "    #right lower arm gyro data\n",
    "    r_arm_x_g = []\n",
    "    r_arm_y_g = []\n",
    "    r_arm_z_g = []\n",
    "    \n",
    "    #right lower arm magnetometer\n",
    "    r_arm_x_mag = []\n",
    "    r_arm_y_mag = []\n",
    "    r_arm_z_mag = []\n",
    "\n",
    "    with open(file_path,'r') as file:\n",
    "\n",
    "        lines = file.readlines()[:]\n",
    "\n",
    "        for line in lines:\n",
    "            data = line.split()[:]\n",
    "            mhealth_data = np.append(mhealth_data, np.float32(data))\n",
    "            #print(data)\n",
    "            \n",
    "    df = pd.DataFrame({\n",
    "        'time' : time,\n",
    "        'x': x,\n",
    "        'y': y,\n",
    "        'z': z,\n",
    "    })\n",
    "            \n",
    "    return df"
   ]
  },
  {
   "cell_type": "code",
   "execution_count": null,
   "metadata": {},
   "outputs": [],
   "source": [
    "#go through all files in directory and extract data from txt files\n",
    "for file in os.listdir():\n",
    "    if file.endswith(\".txt\"):\n",
    "        file_path = f\"{path}/{file}\"\n",
    "\n",
    "        print(f\"Currently working on: {file_path}\")\n",
    "        get_contents(file_path)\n",
    "        \n",
    "mhealth_data.dtype"
   ]
  },
  {
   "cell_type": "code",
   "execution_count": null,
   "metadata": {},
   "outputs": [],
   "source": []
  }
 ],
 "metadata": {
  "kernelspec": {
   "display_name": "base",
   "language": "python",
   "name": "python3"
  },
  "language_info": {
   "codemirror_mode": {
    "name": "ipython",
    "version": 3
   },
   "file_extension": ".py",
   "mimetype": "text/x-python",
   "name": "python",
   "nbconvert_exporter": "python",
   "pygments_lexer": "ipython3",
   "version": "3.1.undefined"
  }
 },
 "nbformat": 4,
 "nbformat_minor": 2
}

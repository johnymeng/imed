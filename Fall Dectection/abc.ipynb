{
 "cells": [
  {
   "cell_type": "code",
   "execution_count": null,
   "metadata": {},
   "outputs": [],
   "source": [
    "import torch\n",
    "import pandas as pd\n",
    "import numpy as np\n",
    "from torch import nn\n",
    "import os\n",
    "import sklearn\n",
    "import matplotlib.pyplot as plt\n",
    "import sys\n",
    "import re"
   ]
  },
  {
   "cell_type": "code",
   "execution_count": null,
   "metadata": {},
   "outputs": [],
   "source": [
    "cwd = os.getcwd()\n",
    "\n",
    "path = cwd + \"/ACC\"\n",
    "\n",
    "print(path)\n",
    "\n",
    "os.chdir(path)"
   ]
  },
  {
   "cell_type": "code",
   "execution_count": null,
   "metadata": {},
   "outputs": [],
   "source": [
    "#gets data from file specified by file_path\n",
    "def get_contents(file_path):\n",
    "    \n",
    "    time = []\n",
    "    x = []\n",
    "    y = []\n",
    "    z = []\n",
    "    \n",
    "    for file in os.listdir():\n",
    "        if file.endswith(\".npy\"):\n",
    "            file_path = f\"{path}/{file}\"\n",
    "            data = np.load(file_path)\n",
    "\n",
    "            time = data[0]\n",
    "            x = data[1]\n",
    "            y = data[2]\n",
    "            z = data[3]\n",
    "                \n",
    "    df = pd.DataFrame({\n",
    "        'time' : time,\n",
    "        'x': x,\n",
    "        'y': y,\n",
    "        'z': z,\n",
    "    })\n",
    "    \n",
    "    return df"
   ]
  },
  {
   "cell_type": "code",
   "execution_count": null,
   "metadata": {},
   "outputs": [],
   "source": [
    "dataset = get_contents(path)\n",
    "\n",
    "dataset"
   ]
  },
  {
   "cell_type": "markdown",
   "metadata": {},
   "source": [
    "## iMed Dataset"
   ]
  },
  {
   "cell_type": "code",
   "execution_count": null,
   "metadata": {},
   "outputs": [],
   "source": [
    "from mpl_toolkits.mplot3d import Axes3D\n",
    "\n",
    "fig = plt.figure()\n",
    "ax = fig.add_subplot(111, projection='3d')\n",
    "\n",
    "ax.set_xlabel('X Label')\n",
    "ax.set_ylabel('Y Label')\n",
    "ax.set_zlabel('Z Label')\n",
    "\n",
    "img = ax.scatter(dataset['x'], dataset['y'], dataset['z'], c = dataset['time'], cmap = plt.hot())\n",
    "fig.colorbar(img)\n",
    "plt.show()"
   ]
  },
  {
   "cell_type": "code",
   "execution_count": null,
   "metadata": {},
   "outputs": [],
   "source": [
    "from matplotlib.pyplot import figure\n",
    "\n",
    "figure(figsize=(20, 15), dpi=300)\n",
    "\n",
    "plt.plot(dataset['time'], dataset['x'], label='x')\n",
    "plt.plot(dataset['time'], dataset['y'], label='y')\n",
    "plt.plot(dataset['time'], dataset['z'], label='z')\n",
    "\n",
    "plt.xlabel(\"time\")\n",
    "plt.ylabel(\"accelerometer value\")\n",
    "plt.title(\"accelerometer Data\")\n",
    "\n",
    "plt.legend()\n",
    "plt.show()\n"
   ]
  },
  {
   "cell_type": "markdown",
   "metadata": {},
   "source": [
    "## Biomedical Signal Processing and Control Dataset [18]"
   ]
  },
  {
   "cell_type": "code",
   "execution_count": null,
   "metadata": {},
   "outputs": [],
   "source": []
  },
  {
   "cell_type": "markdown",
   "metadata": {},
   "source": []
  },
  {
   "cell_type": "code",
   "execution_count": null,
   "metadata": {},
   "outputs": [],
   "source": []
  },
  {
   "cell_type": "markdown",
   "metadata": {},
   "source": [
    "## MHEALTH Dataset [1]"
   ]
  },
  {
   "cell_type": "code",
   "execution_count": null,
   "metadata": {},
   "outputs": [],
   "source": [
    "path = \"/home/jm/vscode/Python/pytorch/Fall Dectection/MHEALTHDATASET\"\n",
    "\n",
    "os.chdir(path)\n",
    "\n",
    "mhealth_data = np.array([], dtype=np.float32)\n",
    "\n",
    "#gets data from file specified by file_path\n",
    "def get_contents(file_path):\n",
    "    global mhealth_data\n",
    "    \n",
    "    #lower left ankle acceleration data\n",
    "    alx = []\n",
    "    aly = []\n",
    "    alz = []\n",
    "    \n",
    "    #right lower arm accerleration data\n",
    "    arx = []\n",
    "    ary = []\n",
    "    arz = []\n",
    "    \n",
    "    #left ankle gyro data\n",
    "    glx = []\n",
    "    gly = []\n",
    "    glz = []\n",
    "    \n",
    "    #right lower arm gyro data\n",
    "    grx = []\n",
    "    gry = []\n",
    "    grz = []\n",
    "\n",
    "    with open(file_path,'r') as file:\n",
    "\n",
    "        lines = file.readlines()[:]\n",
    "\n",
    "        for line in lines:\n",
    "            data = line.split()[:]\n",
    "            mhealth_data = np.append(mhealth_data, np.float32(data))\n",
    "            #print(data)\n",
    "            \n",
    "    df = pd.DataFrame({\n",
    "        'time' : time,\n",
    "        'x': x,\n",
    "        'y': y,\n",
    "        'z': z,\n",
    "    })\n",
    "            \n",
    "    return df"
   ]
  },
  {
   "cell_type": "code",
   "execution_count": null,
   "metadata": {},
   "outputs": [],
   "source": [
    "#go through all files in directory and extract data from txt files\n",
    "for file in os.listdir():\n",
    "    if file.endswith(\".txt\"):\n",
    "        file_path = f\"{path}/{file}\"\n",
    "\n",
    "        print(f\"Currently working on: {file_path}\")\n",
    "        get_contents(file_path)\n",
    "        \n",
    "        \n",
    "\n",
    "mhealth_data.dtype"
   ]
  },
  {
   "cell_type": "code",
   "execution_count": null,
   "metadata": {},
   "outputs": [],
   "source": []
  }
 ],
 "metadata": {
  "kernelspec": {
   "display_name": "base",
   "language": "python",
   "name": "python3"
  },
  "language_info": {
   "codemirror_mode": {
    "name": "ipython",
    "version": 3
   },
   "file_extension": ".py",
   "mimetype": "text/x-python",
   "name": "python",
   "nbconvert_exporter": "python",
   "pygments_lexer": "ipython3",
   "version": "3.12.2"
  }
 },
 "nbformat": 4,
 "nbformat_minor": 2
}

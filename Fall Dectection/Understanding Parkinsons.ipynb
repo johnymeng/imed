{
 "cells": [
  {
   "cell_type": "code",
   "execution_count": null,
   "metadata": {},
   "outputs": [],
   "source": []
  },
  {
   "cell_type": "markdown",
   "metadata": {},
   "source": [
    "The goal of this project is to better understand walking and impaired walking (slow, shuffling or freezing of gait), in Parkinson's disease (PD) as it compares to that of age-matched healthy controls. We use data from wearable inertial measurement unit sensors (IMUs, made by APDM Inc.) to calculate gait parameters that characterize the dynamics of people walking in both a turning and barrier course designed to elicit freezing of gait (Syrkin-Nikolau et al., Neurobiology of disease, 2017 and O'Day et al., BioRxiv, 2019 https://doi.org/10.1101/671479) and over forty meters of straight forward walking, the clinical test of Parkinsonian gait. Inertial measurement unit sensors were applied laterally to both shanks for all subjects. Methods are extensively described in the above two references. The records in this database are from patients with Parkinson's disease who experience severe walking symptoms like freezing of gait (FOG), also identified as (freezers); as well as data from people with Parkinson's disease who do not experience FOG (non-freezers). All subjects are off dopaminergic medication or off subthalamic deep brain stimulation (DBS), if applicable, for the walking trials unless specified otherwise (there's a subset of the cohort that is on DBS for some trials, see more below). We also have a small cohort of age-matched healthy controls who do not have Parkinson's disease and who completed the walking tasks. There were 20 total subjects with Parkinson's disease that completed the walking tasks, but 11 of these subjects returned for a later research visit where they completed the same tasks (at least 1 year later). This makes a total of 31 records from subjects with Parkinson's disease and 9 records from age-matched healthy control subjects, for a total of 40 records. Deep brain stimulation cohort There was a subset of the cohort with Parkinson's disease that had been treated with at least 21 months of optimized, continuous high frequency subthalmic DBS. Kinematic recordings were obtained, off medication, during randomized presentations of no, 60 Hz and 140 Hz subthalamic DBS while subjects performed the TBC. The gait data for these trials can be found in subjects with DBS folders. Subject folders Each subject folder is labeled with the subject ID. As stated above, there are 11 subjects with Parkinson's disease that have a repeated research visit where they did both the FW and TBC tasks a second time. If wanting to look at repeated subjects, then look within the group with Parkinson's disease (PD in metadata) and at last 2 digits of the subject ID, though the subjects have different prefixes, they will have the same last 2 digits if they are the same subject. This is only true in the PD cohort (for instance there is a control subject that has 20 as their last two digits, but this subject is distinct from the PD subject that has 20 as their last two digits). Metadata The metadata.yaml contains attributes including the subject's group (PD or Control), age (rounded down to nearest year), gender (F or M), dbs (yes if they have deep brain stimulation or no if not, which is relevant to the sub-cohort explained above), freezer (yes/no), FOGQ score (which is the International Freezing of Gait Questionnaire Total Score, constructed by Giladi et al., 2000 Parkinsonism and Rel Dis and has a range of 0-24), and specifically the FOGQ Item 3 score which assesses severity of freezing with the question: Do you feel that your feet get glued to the floor while walking, turning or when trying to initiate walking? The scores were as follows: 0 – never, 1 – about once a month, 2 – about once a week, 3 – about once a day, 4 – whenever walking. Freeze files Within the TBC and FW files, there are freezes.mat files and these can be loaded into Matlab and have two columns delineatning the start and end timings of freezing events, respectively, as determined with video inspection by an expert neurologist. Gaitdata Within the subject folder are two subfolders, TBC and FW. These folders contain multiple .csv files of the gait parameters that were calculated from shank IMU signals for each trial from this subject. The TBC folder contains this subject's records while walking in the turning and barrier course, and FW contains this subject's records during forty meters of straight walking up and down a 10 meter hallway (for a total of 4 hallway lengths). The TBC task has 2 gait .csv files (1 where the subject walks counterclockwise in the course, and 1 where the subject walks clockwise). The FW task has 4 gait .csv files (1 for each 10 meter straightaway, for a total of 40 meters). The .csv file* is structured as follows: % Column 1: Patient ID number (integer) % Column 2: Number of total left steps for this trial (integer) % Column 3: Times of peak angular velocity on left shank (sec) % Column 4: Left gait cycle (stride time) durations (sec) % Column 5: Left swing time durations (sec) % Column 6: Left swing angular ranges (deg) % Column 7: Peak shank angular velocity (deg/s) % Column 8: Freeze index (accelerometer)** % Column 9: Left leg identifier = 0 % Column 10: Number of total right steps for this trial (integer) % Column 11: Times of peak angular velocity on right shank (sec) % Column 12: Right gait cycle (stride time) durations (sec) % Column 13: Right swing time durations (sec) % Column 14: Right swing angular ranges (deg) % Column 15: Peak shank angular velocity (deg/s) % Column 16: Freeze index (accelerometer)** % Column 17: Right leg identifier = 1 *any extra -1's that you see in the .csv file are just placeholders, and can be ignored ** Further information on how and the other gait parameters are calculated here (O'Day et al., BioRxiv, 2019 https://doi.org/10.1101/671479)\n",
    "doi:10.18735/454q-tx50"
   ]
  },
  {
   "cell_type": "markdown",
   "metadata": {},
   "source": []
  }
 ],
 "metadata": {
  "language_info": {
   "name": "python"
  }
 },
 "nbformat": 4,
 "nbformat_minor": 2
}
